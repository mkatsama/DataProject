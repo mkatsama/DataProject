{
 "cells": [
  {
   "cell_type": "code",
   "execution_count": 1,
   "metadata": {},
   "outputs": [
    {
     "name": "stdout",
     "output_type": "stream",
     "text": [
      "{\"get\":\"standings\",\"parameters\":{\"league\":\"39\",\"season\":\"2020\"},\"errors\":[],\"results\":1,\"paging\":{\"current\":1,\"total\":1},\"response\":[{\"league\":{\"id\":39,\"name\":\"Premier League\",\"country\":\"England\",\"logo\":\"https:\\/\\/media.api-sports.io\\/football\\/leagues\\/39.png\",\"flag\":\"https:\\/\\/media.api-sports.io\\/flags\\/gb.svg\",\"season\":2020,\"standings\":[[{\"rank\":1,\"team\":{\"id\":50,\"name\":\"Manchester City\",\"logo\":\"https:\\/\\/media.api-sports.io\\/football\\/teams\\/50.png\"},\"points\":86,\"goalsDiff\":51,\"group\":\"Premier League\",\"form\":\"WLWLW\",\"status\":\"same\",\"description\":\"Promotion - Champions League (Group Stage)\",\"all\":{\"played\":38,\"win\":27,\"draw\":5,\"lose\":6,\"goals\":{\"for\":83,\"against\":32}},\"home\":{\"played\":19,\"win\":13,\"draw\":2,\"lose\":4,\"goals\":{\"for\":43,\"against\":17}},\"away\":{\"played\":19,\"win\":14,\"draw\":3,\"lose\":2,\"goals\":{\"for\":40,\"against\":15}},\"update\":\"2021-05-23T00:00:00+00:00\"},{\"rank\":2,\"team\":{\"id\":33,\"name\":\"Manchester United\",\"logo\":\"https:\\/\\/media.api-sports.io\\/football\\/teams\\/33.png\"},\"points\":74,\"goalsDiff\":29,\"group\":\"Premier League\",\"form\":\"WDLLW\",\"status\":\"same\",\"description\":\"Promotion - Champions League (Group Stage)\",\"all\":{\"played\":38,\"win\":21,\"draw\":11,\"lose\":6,\"goals\":{\"for\":73,\"against\":44}},\"home\":{\"played\":19,\"win\":9,\"draw\":4,\"lose\":6,\"goals\":{\"for\":38,\"against\":28}},\"away\":{\"played\":19,\"win\":12,\"draw\":7,\"lose\":0,\"goals\":{\"for\":35,\"against\":16}},\"update\":\"2021-05-23T00:00:00+00:00\"},{\"rank\":3,\"team\":{\"id\":40,\"name\":\"Liverpool\",\"logo\":\"https:\\/\\/media.api-sports.io\\/football\\/teams\\/40.png\"},\"points\":69,\"goalsDiff\":26,\"group\":\"Premier League\",\"form\":\"WWWWW\",\"status\":\"same\",\"description\":\"Promotion - Champions League (Group Stage)\",\"all\":{\"played\":38,\"win\":20,\"draw\":9,\"lose\":9,\"goals\":{\"for\":68,\"against\":42}},\"home\":{\"played\":19,\"win\":10,\"draw\":3,\"lose\":6,\"goals\":{\"for\":29,\"against\":20}},\"away\":{\"played\":19,\"win\":10,\"draw\":6,\"lose\":3,\"goals\":{\"for\":39,\"against\":22}},\"update\":\"2021-05-23T00:00:00+00:00\"},{\"rank\":4,\"team\":{\"id\":49,\"name\":\"Chelsea\",\"logo\":\"https:\\/\\/media.api-sports.io\\/football\\/teams\\/49.png\"},\"points\":67,\"goalsDiff\":22,\"group\":\"Premier League\",\"form\":\"LWLWW\",\"status\":\"same\",\"description\":\"Promotion - Champions League (Group Stage)\",\"all\":{\"played\":38,\"win\":19,\"draw\":10,\"lose\":9,\"goals\":{\"for\":58,\"against\":36}},\"home\":{\"played\":19,\"win\":9,\"draw\":6,\"lose\":4,\"goals\":{\"for\":31,\"against\":18}},\"away\":{\"played\":19,\"win\":10,\"draw\":4,\"lose\":5,\"goals\":{\"for\":27,\"against\":18}},\"update\":\"2021-05-23T00:00:00+00:00\"},{\"rank\":5,\"team\":{\"id\":46,\"name\":\"Leicester\",\"logo\":\"https:\\/\\/media.api-sports.io\\/football\\/teams\\/46.png\"},\"points\":66,\"goalsDiff\":18,\"group\":\"Premier League\",\"form\":\"LLWLD\",\"status\":\"same\",\"description\":\"Promotion - Europa League (Group Stage)\",\"all\":{\"played\":38,\"win\":20,\"draw\":6,\"lose\":12,\"goals\":{\"for\":68,\"against\":50}},\"home\":{\"played\":19,\"win\":9,\"draw\":1,\"lose\":9,\"goals\":{\"for\":34,\"against\":30}},\"away\":{\"played\":19,\"win\":11,\"draw\":5,\"lose\":3,\"goals\":{\"for\":34,\"against\":20}},\"update\":\"2021-05-23T00:00:00+00:00\"},{\"rank\":6,\"team\":{\"id\":48,\"name\":\"West Ham\",\"logo\":\"https:\\/\\/media.api-sports.io\\/football\\/teams\\/48.png\"},\"points\":65,\"goalsDiff\":15,\"group\":\"Premier League\",\"form\":\"WWDLW\",\"status\":\"same\",\"description\":\"Promotion - Europa League (Group Stage)\",\"all\":{\"played\":38,\"win\":19,\"draw\":8,\"lose\":11,\"goals\":{\"for\":62,\"against\":47}},\"home\":{\"played\":19,\"win\":10,\"draw\":4,\"lose\":5,\"goals\":{\"for\":32,\"against\":22}},\"away\":{\"played\":19,\"win\":9,\"draw\":4,\"lose\":6,\"goals\":{\"for\":30,\"against\":25}},\"update\":\"2021-05-23T00:00:00+00:00\"},{\"rank\":7,\"team\":{\"id\":47,\"name\":\"Tottenham\",\"logo\":\"https:\\/\\/media.api-sports.io\\/football\\/teams\\/47.png\"},\"points\":62,\"goalsDiff\":23,\"group\":\"Premier League\",\"form\":\"WLWLW\",\"status\":\"same\",\"description\":\"Promotion - Europa Conference League (Qualification)\",\"all\":{\"played\":38,\"win\":18,\"draw\":8,\"lose\":12,\"goals\":{\"for\":68,\"against\":45}},\"home\":{\"played\":19,\"win\":10,\"draw\":3,\"lose\":6,\"goals\":{\"for\":35,\"against\":20}},\"away\":{\"played\":19,\"win\":8,\"draw\":5,\"lose\":6,\"goals\":{\"for\":33,\"against\":25}},\"update\":\"2021-05-23T00:00:00+00:00\"},{\"rank\":8,\"team\":{\"id\":42,\"name\":\"Arsenal\",\"logo\":\"https:\\/\\/media.api-sports.io\\/football\\/teams\\/42.png\"},\"points\":61,\"goalsDiff\":16,\"group\":\"Premier League\",\"form\":\"WWWWW\",\"status\":\"same\",\"description\":null,\"all\":{\"played\":38,\"win\":18,\"draw\":7,\"lose\":13,\"goals\":{\"for\":55,\"against\":39}},\"home\":{\"played\":19,\"win\":8,\"draw\":4,\"lose\":7,\"goals\":{\"for\":24,\"against\":21}},\"away\":{\"played\":19,\"win\":10,\"draw\":3,\"lose\":6,\"goals\":{\"for\":31,\"against\":18}},\"update\":\"2021-05-23T00:00:00+00:00\"},{\"rank\":9,\"team\":{\"id\":63,\"name\":\"Leeds\",\"logo\":\"https:\\/\\/media.api-sports.io\\/football\\/teams\\/63.png\"},\"points\":59,\"goalsDiff\":8,\"group\":\"Premier League\",\"form\":\"WWWWL\",\"status\":\"same\",\"description\":null,\"all\":{\"played\":38,\"win\":18,\"draw\":5,\"lose\":15,\"goals\":{\"for\":62,\"against\":54}},\"home\":{\"played\":19,\"win\":8,\"draw\":5,\"lose\":6,\"goals\":{\"for\":28,\"against\":21}},\"away\":{\"played\":19,\"win\":10,\"draw\":0,\"lose\":9,\"goals\":{\"for\":34,\"against\":33}},\"update\":\"2021-05-23T00:00:00+00:00\"},{\"rank\":10,\"team\":{\"id\":45,\"name\":\"Everton\",\"logo\":\"https:\\/\\/media.api-sports.io\\/football\\/teams\\/45.png\"},\"points\":59,\"goalsDiff\":-1,\"group\":\"Premier League\",\"form\":\"LWLDW\",\"status\":\"same\",\"description\":null,\"all\":{\"played\":38,\"win\":17,\"draw\":8,\"lose\":13,\"goals\":{\"for\":47,\"against\":48}},\"home\":{\"played\":19,\"win\":6,\"draw\":4,\"lose\":9,\"goals\":{\"for\":24,\"against\":28}},\"away\":{\"played\":19,\"win\":11,\"draw\":4,\"lose\":4,\"goals\":{\"for\":23,\"against\":20}},\"update\":\"2021-05-23T00:00:00+00:00\"},{\"rank\":11,\"team\":{\"id\":66,\"name\":\"Aston Villa\",\"logo\":\"https:\\/\\/media.api-sports.io\\/football\\/teams\\/66.png\"},\"points\":55,\"goalsDiff\":9,\"group\":\"Premier League\",\"form\":\"WWLDL\",\"status\":\"same\",\"description\":null,\"all\":{\"played\":38,\"win\":16,\"draw\":7,\"lose\":15,\"goals\":{\"for\":55,\"against\":46}},\"home\":{\"played\":19,\"win\":7,\"draw\":4,\"lose\":8,\"goals\":{\"for\":29,\"against\":27}},\"away\":{\"played\":19,\"win\":9,\"draw\":3,\"lose\":7,\"goals\":{\"for\":26,\"against\":19}},\"update\":\"2021-05-23T00:00:00+00:00\"},{\"rank\":12,\"team\":{\"id\":34,\"name\":\"Newcastle\",\"logo\":\"https:\\/\\/media.api-sports.io\\/football\\/teams\\/34.png\"},\"points\":45,\"goalsDiff\":-16,\"group\":\"Premier League\",\"form\":\"WWLWL\",\"status\":\"same\",\"description\":null,\"all\":{\"played\":38,\"win\":12,\"draw\":9,\"lose\":17,\"goals\":{\"for\":46,\"against\":62}},\"home\":{\"played\":19,\"win\":6,\"draw\":5,\"lose\":8,\"goals\":{\"for\":26,\"against\":33}},\"away\":{\"played\":19,\"win\":6,\"draw\":4,\"lose\":9,\"goals\":{\"for\":20,\"against\":29}},\"update\":\"2021-05-23T00:00:00+00:00\"},{\"rank\":13,\"team\":{\"id\":39,\"name\":\"Wolves\",\"logo\":\"https:\\/\\/media.api-sports.io\\/football\\/teams\\/39.png\"},\"points\":45,\"goalsDiff\":-16,\"group\":\"Premier League\",\"form\":\"LLLWD\",\"status\":\"same\",\"description\":null,\"all\":{\"played\":38,\"win\":12,\"draw\":9,\"lose\":17,\"goals\":{\"for\":36,\"against\":52}},\"home\":{\"played\":19,\"win\":7,\"draw\":4,\"lose\":8,\"goals\":{\"for\":21,\"against\":25}},\"away\":{\"played\":19,\"win\":5,\"draw\":5,\"lose\":9,\"goals\":{\"for\":15,\"against\":27}},\"update\":\"2021-05-23T00:00:00+00:00\"},{\"rank\":14,\"team\":{\"id\":52,\"name\":\"Crystal Palace\",\"logo\":\"https:\\/\\/media.api-sports.io\\/football\\/teams\\/52.png\"},\"points\":44,\"goalsDiff\":-25,\"group\":\"Premier League\",\"form\":\"LLWLW\",\"status\":\"same\",\"description\":null,\"all\":{\"played\":38,\"win\":12,\"draw\":8,\"lose\":18,\"goals\":{\"for\":41,\"against\":66}},\"home\":{\"played\":19,\"win\":6,\"draw\":5,\"lose\":8,\"goals\":{\"for\":20,\"against\":32}},\"away\":{\"played\":19,\"win\":6,\"draw\":3,\"lose\":10,\"goals\":{\"for\":21,\"against\":34}},\"update\":\"2021-05-23T00:00:00+00:00\"},{\"rank\":15,\"team\":{\"id\":41,\"name\":\"Southampton\",\"logo\":\"https:\\/\\/media.api-sports.io\\/football\\/teams\\/41.png\"},\"points\":43,\"goalsDiff\":-21,\"group\":\"Premier League\",\"form\":\"LLWWL\",\"status\":\"same\",\"description\":null,\"all\":{\"played\":38,\"win\":12,\"draw\":7,\"lose\":19,\"goals\":{\"for\":47,\"against\":68}},\"home\":{\"played\":19,\"win\":8,\"draw\":3,\"lose\":8,\"goals\":{\"for\":28,\"against\":25}},\"away\":{\"played\":19,\"win\":4,\"draw\":4,\"lose\":11,\"goals\":{\"for\":19,\"against\":43}},\"update\":\"2021-05-23T00:00:00+00:00\"},{\"rank\":16,\"team\":{\"id\":51,\"name\":\"Brighton\",\"logo\":\"https:\\/\\/media.api-sports.io\\/football\\/teams\\/51.png\"},\"points\":41,\"goalsDiff\":-6,\"group\":\"Premier League\",\"form\":\"LWDLW\",\"status\":\"same\",\"description\":null,\"all\":{\"played\":38,\"win\":9,\"draw\":14,\"lose\":15,\"goals\":{\"for\":40,\"against\":46}},\"home\":{\"played\":19,\"win\":4,\"draw\":9,\"lose\":6,\"goals\":{\"for\":22,\"against\":22}},\"away\":{\"played\":19,\"win\":5,\"draw\":5,\"lose\":9,\"goals\":{\"for\":18,\"against\":24}},\"update\":\"2021-05-23T00:00:00+00:00\"},{\"rank\":17,\"team\":{\"id\":44,\"name\":\"Burnley\",\"logo\":\"https:\\/\\/media.api-sports.io\\/football\\/teams\\/44.png\"},\"points\":39,\"goalsDiff\":-22,\"group\":\"Premier League\",\"form\":\"LLLWL\",\"status\":\"same\",\"description\":null,\"all\":{\"played\":38,\"win\":10,\"draw\":9,\"lose\":19,\"goals\":{\"for\":33,\"against\":55}},\"home\":{\"played\":19,\"win\":4,\"draw\":6,\"lose\":9,\"goals\":{\"for\":14,\"against\":27}},\"away\":{\"played\":19,\"win\":6,\"draw\":3,\"lose\":10,\"goals\":{\"for\":19,\"against\":28}},\"update\":\"2021-05-23T00:00:00+00:00\"},{\"rank\":18,\"team\":{\"id\":36,\"name\":\"Fulham\",\"logo\":\"https:\\/\\/media.api-sports.io\\/football\\/teams\\/36.png\"},\"points\":28,\"goalsDiff\":-26,\"group\":\"Premier League\",\"form\":\"LDLLL\",\"status\":\"same\",\"description\":\"Relegation - Championship\",\"all\":{\"played\":38,\"win\":5,\"draw\":13,\"lose\":20,\"goals\":{\"for\":27,\"against\":53}},\"home\":{\"played\":19,\"win\":2,\"draw\":4,\"lose\":13,\"goals\":{\"for\":9,\"against\":28}},\"away\":{\"played\":19,\"win\":3,\"draw\":9,\"lose\":7,\"goals\":{\"for\":18,\"against\":25}},\"update\":\"2021-05-23T00:00:00+00:00\"},{\"rank\":19,\"team\":{\"id\":60,\"name\":\"West Brom\",\"logo\":\"https:\\/\\/media.api-sports.io\\/football\\/teams\\/60.png\"},\"points\":26,\"goalsDiff\":-41,\"group\":\"Premier League\",\"form\":\"LLLLD\",\"status\":\"same\",\"description\":\"Relegation - Championship\",\"all\":{\"played\":38,\"win\":5,\"draw\":11,\"lose\":22,\"goals\":{\"for\":35,\"against\":76}},\"home\":{\"played\":19,\"win\":3,\"draw\":6,\"lose\":10,\"goals\":{\"for\":15,\"against\":39}},\"away\":{\"played\":19,\"win\":2,\"draw\":5,\"lose\":12,\"goals\":{\"for\":20,\"against\":37}},\"update\":\"2021-05-23T00:00:00+00:00\"},{\"rank\":20,\"team\":{\"id\":62,\"name\":\"Sheffield Utd\",\"logo\":\"https:\\/\\/media.api-sports.io\\/football\\/teams\\/62.png\"},\"points\":23,\"goalsDiff\":-43,\"group\":\"Premier League\",\"form\":\"WLWLL\",\"status\":\"same\",\"description\":\"Relegation - Championship\",\"all\":{\"played\":38,\"win\":7,\"draw\":2,\"lose\":29,\"goals\":{\"for\":20,\"against\":63}},\"home\":{\"played\":19,\"win\":5,\"draw\":1,\"lose\":13,\"goals\":{\"for\":12,\"against\":27}},\"away\":{\"played\":19,\"win\":2,\"draw\":1,\"lose\":16,\"goals\":{\"for\":8,\"against\":36}},\"update\":\"2021-05-23T00:00:00+00:00\"}]]}}]}\n"
     ]
    }
   ],
   "source": [
    "import pandas as pd \n",
    "import requests\n",
    "import json \n",
    "\n",
    "url = \"https://api-football-v1.p.rapidapi.com/v3/standings\"\n",
    "\n",
    "querystring = {\"league\":\"39\",\"season\":\"2020\"}\n",
    "\n",
    "headers = {\n",
    "\t\"X-RapidAPI-Host\": \"api-football-v1.p.rapidapi.com\",\n",
    "\t\"X-RapidAPI-Key\": \"ecad4fe8femsh2bf7c9cd0fe9bedp159909jsn0f8655e543b0\"\n",
    "}\n",
    "\n",
    "resp1 = requests.request(\"GET\", url, headers=headers, params=querystring)\n",
    "\n",
    "print(resp1.text)"
   ]
  },
  {
   "cell_type": "code",
   "execution_count": 2,
   "metadata": {},
   "outputs": [
    {
     "data": {
      "text/html": [
       "<div>\n",
       "<style scoped>\n",
       "    .dataframe tbody tr th:only-of-type {\n",
       "        vertical-align: middle;\n",
       "    }\n",
       "\n",
       "    .dataframe tbody tr th {\n",
       "        vertical-align: top;\n",
       "    }\n",
       "\n",
       "    .dataframe thead th {\n",
       "        text-align: right;\n",
       "    }\n",
       "</style>\n",
       "<table border=\"1\" class=\"dataframe\">\n",
       "  <thead>\n",
       "    <tr style=\"text-align: right;\">\n",
       "      <th></th>\n",
       "      <th>rank</th>\n",
       "      <th>team</th>\n",
       "      <th>points</th>\n",
       "      <th>goalsDiff</th>\n",
       "      <th>group</th>\n",
       "      <th>form</th>\n",
       "      <th>status</th>\n",
       "      <th>description</th>\n",
       "      <th>all</th>\n",
       "      <th>home</th>\n",
       "      <th>away</th>\n",
       "      <th>update</th>\n",
       "    </tr>\n",
       "  </thead>\n",
       "  <tbody>\n",
       "    <tr>\n",
       "      <th>1</th>\n",
       "      <td>1</td>\n",
       "      <td>{'id': 50, 'name': 'Manchester City', 'logo': ...</td>\n",
       "      <td>86</td>\n",
       "      <td>51</td>\n",
       "      <td>Premier League</td>\n",
       "      <td>WLWLW</td>\n",
       "      <td>same</td>\n",
       "      <td>Promotion - Champions League (Group Stage)</td>\n",
       "      <td>{'played': 38, 'win': 27, 'draw': 5, 'lose': 6...</td>\n",
       "      <td>{'played': 19, 'win': 13, 'draw': 2, 'lose': 4...</td>\n",
       "      <td>{'played': 19, 'win': 14, 'draw': 3, 'lose': 2...</td>\n",
       "      <td>2021-05-23T00:00:00+00:00</td>\n",
       "    </tr>\n",
       "  </tbody>\n",
       "</table>\n",
       "</div>"
      ],
      "text/plain": [
       "   rank                                               team  points  goalsDiff  \\\n",
       "1     1  {'id': 50, 'name': 'Manchester City', 'logo': ...      86         51   \n",
       "\n",
       "            group   form status                                 description  \\\n",
       "1  Premier League  WLWLW   same  Promotion - Champions League (Group Stage)   \n",
       "\n",
       "                                                 all  \\\n",
       "1  {'played': 38, 'win': 27, 'draw': 5, 'lose': 6...   \n",
       "\n",
       "                                                home  \\\n",
       "1  {'played': 19, 'win': 13, 'draw': 2, 'lose': 4...   \n",
       "\n",
       "                                                away  \\\n",
       "1  {'played': 19, 'win': 14, 'draw': 3, 'lose': 2...   \n",
       "\n",
       "                      update  \n",
       "1  2021-05-23T00:00:00+00:00  "
      ]
     },
     "execution_count": 2,
     "metadata": {},
     "output_type": "execute_result"
    }
   ],
   "source": [
    "#2020/2021\n",
    "data1 = resp1.json()\n",
    "df2020 = pd.DataFrame(data1['response'][0]['league']['standings'][0])\n",
    "df2020.index = df2020.index + 1\n",
    "team2020 = df2020.iloc[0:1,:]\n"
   ]
  },
  {
   "cell_type": "code",
   "execution_count": 3,
   "metadata": {},
   "outputs": [
    {
     "name": "stdout",
     "output_type": "stream",
     "text": [
      "{\"get\":\"standings\",\"parameters\":{\"league\":\"39\",\"season\":\"2019\"},\"errors\":[],\"results\":1,\"paging\":{\"current\":1,\"total\":1},\"response\":[{\"league\":{\"id\":39,\"name\":\"Premier League\",\"country\":\"England\",\"logo\":\"https:\\/\\/media.api-sports.io\\/football\\/leagues\\/39.png\",\"flag\":\"https:\\/\\/media.api-sports.io\\/flags\\/gb.svg\",\"season\":2019,\"standings\":[[{\"rank\":1,\"team\":{\"id\":40,\"name\":\"Liverpool\",\"logo\":\"https:\\/\\/media.api-sports.io\\/football\\/teams\\/40.png\"},\"points\":99,\"goalsDiff\":52,\"group\":\"Premier League\",\"form\":\"WWLDW\",\"status\":\"same\",\"description\":\"Promotion - Champions League (Group Stage)\",\"all\":{\"played\":38,\"win\":32,\"draw\":3,\"lose\":3,\"goals\":{\"for\":85,\"against\":33}},\"home\":{\"played\":19,\"win\":18,\"draw\":1,\"lose\":0,\"goals\":{\"for\":52,\"against\":16}},\"away\":{\"played\":19,\"win\":14,\"draw\":2,\"lose\":3,\"goals\":{\"for\":33,\"against\":17}},\"update\":\"2020-07-26T00:00:00+00:00\"},{\"rank\":2,\"team\":{\"id\":50,\"name\":\"Manchester City\",\"logo\":\"https:\\/\\/media.api-sports.io\\/football\\/teams\\/50.png\"},\"points\":81,\"goalsDiff\":67,\"group\":\"Premier League\",\"form\":\"WWWWW\",\"status\":\"same\",\"description\":\"Promotion - Champions League (Group Stage)\",\"all\":{\"played\":38,\"win\":26,\"draw\":3,\"lose\":9,\"goals\":{\"for\":102,\"against\":35}},\"home\":{\"played\":19,\"win\":15,\"draw\":2,\"lose\":2,\"goals\":{\"for\":57,\"against\":13}},\"away\":{\"played\":19,\"win\":11,\"draw\":1,\"lose\":7,\"goals\":{\"for\":45,\"against\":22}},\"update\":\"2020-07-26T00:00:00+00:00\"},{\"rank\":3,\"team\":{\"id\":33,\"name\":\"Manchester United\",\"logo\":\"https:\\/\\/media.api-sports.io\\/football\\/teams\\/33.png\"},\"points\":66,\"goalsDiff\":30,\"group\":\"Premier League\",\"form\":\"WDWDW\",\"status\":\"same\",\"description\":\"Promotion - Champions League (Group Stage)\",\"all\":{\"played\":38,\"win\":18,\"draw\":12,\"lose\":8,\"goals\":{\"for\":66,\"against\":36}},\"home\":{\"played\":19,\"win\":10,\"draw\":7,\"lose\":2,\"goals\":{\"for\":40,\"against\":17}},\"away\":{\"played\":19,\"win\":8,\"draw\":5,\"lose\":6,\"goals\":{\"for\":26,\"against\":19}},\"update\":\"2020-07-26T00:00:00+00:00\"},{\"rank\":4,\"team\":{\"id\":49,\"name\":\"Chelsea\",\"logo\":\"https:\\/\\/media.api-sports.io\\/football\\/teams\\/49.png\"},\"points\":66,\"goalsDiff\":15,\"group\":\"Premier League\",\"form\":\"WLWLW\",\"status\":\"same\",\"description\":\"Promotion - Champions League (Group Stage)\",\"all\":{\"played\":38,\"win\":20,\"draw\":6,\"lose\":12,\"goals\":{\"for\":69,\"against\":54}},\"home\":{\"played\":19,\"win\":11,\"draw\":3,\"lose\":5,\"goals\":{\"for\":30,\"against\":16}},\"away\":{\"played\":19,\"win\":9,\"draw\":3,\"lose\":7,\"goals\":{\"for\":39,\"against\":38}},\"update\":\"2020-07-26T00:00:00+00:00\"},{\"rank\":5,\"team\":{\"id\":46,\"name\":\"Leicester\",\"logo\":\"https:\\/\\/media.api-sports.io\\/football\\/teams\\/46.png\"},\"points\":62,\"goalsDiff\":26,\"group\":\"Premier League\",\"form\":\"LLWLD\",\"status\":\"same\",\"description\":\"Promotion - Europa League (Group Stage)\",\"all\":{\"played\":38,\"win\":18,\"draw\":8,\"lose\":12,\"goals\":{\"for\":67,\"against\":41}},\"home\":{\"played\":19,\"win\":11,\"draw\":4,\"lose\":4,\"goals\":{\"for\":35,\"against\":17}},\"away\":{\"played\":19,\"win\":7,\"draw\":4,\"lose\":8,\"goals\":{\"for\":32,\"against\":24}},\"update\":\"2020-07-26T00:00:00+00:00\"},{\"rank\":6,\"team\":{\"id\":47,\"name\":\"Tottenham\",\"logo\":\"https:\\/\\/media.api-sports.io\\/football\\/teams\\/47.png\"},\"points\":59,\"goalsDiff\":14,\"group\":\"Premier League\",\"form\":\"DWWWD\",\"status\":\"same\",\"description\":\"Promotion - Europa League (Qualification)\",\"all\":{\"played\":38,\"win\":16,\"draw\":11,\"lose\":11,\"goals\":{\"for\":61,\"against\":47}},\"home\":{\"played\":19,\"win\":12,\"draw\":3,\"lose\":4,\"goals\":{\"for\":36,\"against\":17}},\"away\":{\"played\":19,\"win\":4,\"draw\":8,\"lose\":7,\"goals\":{\"for\":25,\"against\":30}},\"update\":\"2020-07-26T00:00:00+00:00\"},{\"rank\":7,\"team\":{\"id\":39,\"name\":\"Wolves\",\"logo\":\"https:\\/\\/media.api-sports.io\\/football\\/teams\\/39.png\"},\"points\":59,\"goalsDiff\":11,\"group\":\"Premier League\",\"form\":\"LWDWL\",\"status\":\"same\",\"description\":null,\"all\":{\"played\":38,\"win\":15,\"draw\":14,\"lose\":9,\"goals\":{\"for\":51,\"against\":40}},\"home\":{\"played\":19,\"win\":8,\"draw\":7,\"lose\":4,\"goals\":{\"for\":27,\"against\":19}},\"away\":{\"played\":19,\"win\":7,\"draw\":7,\"lose\":5,\"goals\":{\"for\":24,\"against\":21}},\"update\":\"2020-07-26T00:00:00+00:00\"},{\"rank\":8,\"team\":{\"id\":42,\"name\":\"Arsenal\",\"logo\":\"https:\\/\\/media.api-sports.io\\/football\\/teams\\/42.png\"},\"points\":56,\"goalsDiff\":8,\"group\":\"Premier League\",\"form\":\"WLWLD\",\"status\":\"same\",\"description\":null,\"all\":{\"played\":38,\"win\":14,\"draw\":14,\"lose\":10,\"goals\":{\"for\":56,\"against\":48}},\"home\":{\"played\":19,\"win\":10,\"draw\":6,\"lose\":3,\"goals\":{\"for\":36,\"against\":24}},\"away\":{\"played\":19,\"win\":4,\"draw\":8,\"lose\":7,\"goals\":{\"for\":20,\"against\":24}},\"update\":\"2020-07-26T00:00:00+00:00\"},{\"rank\":9,\"team\":{\"id\":62,\"name\":\"Sheffield Utd\",\"logo\":\"https:\\/\\/media.api-sports.io\\/football\\/teams\\/62.png\"},\"points\":54,\"goalsDiff\":0,\"group\":\"Premier League\",\"form\":\"LLLWW\",\"status\":\"same\",\"description\":null,\"all\":{\"played\":38,\"win\":14,\"draw\":12,\"lose\":12,\"goals\":{\"for\":39,\"against\":39}},\"home\":{\"played\":19,\"win\":10,\"draw\":3,\"lose\":6,\"goals\":{\"for\":24,\"against\":15}},\"away\":{\"played\":19,\"win\":4,\"draw\":9,\"lose\":6,\"goals\":{\"for\":15,\"against\":24}},\"update\":\"2020-07-26T00:00:00+00:00\"},{\"rank\":10,\"team\":{\"id\":44,\"name\":\"Burnley\",\"logo\":\"https:\\/\\/media.api-sports.io\\/football\\/teams\\/44.png\"},\"points\":54,\"goalsDiff\":-7,\"group\":\"Premier League\",\"form\":\"LWDDW\",\"status\":\"same\",\"description\":null,\"all\":{\"played\":38,\"win\":15,\"draw\":9,\"lose\":14,\"goals\":{\"for\":43,\"against\":50}},\"home\":{\"played\":19,\"win\":8,\"draw\":4,\"lose\":7,\"goals\":{\"for\":24,\"against\":23}},\"away\":{\"played\":19,\"win\":7,\"draw\":5,\"lose\":7,\"goals\":{\"for\":19,\"against\":27}},\"update\":\"2020-07-26T00:00:00+00:00\"},{\"rank\":11,\"team\":{\"id\":41,\"name\":\"Southampton\",\"logo\":\"https:\\/\\/media.api-sports.io\\/football\\/teams\\/41.png\"},\"points\":52,\"goalsDiff\":-9,\"group\":\"Premier League\",\"form\":\"WWDDD\",\"status\":\"same\",\"description\":null,\"all\":{\"played\":38,\"win\":15,\"draw\":7,\"lose\":16,\"goals\":{\"for\":51,\"against\":60}},\"home\":{\"played\":19,\"win\":6,\"draw\":3,\"lose\":10,\"goals\":{\"for\":21,\"against\":35}},\"away\":{\"played\":19,\"win\":9,\"draw\":4,\"lose\":6,\"goals\":{\"for\":30,\"against\":25}},\"update\":\"2020-07-26T00:00:00+00:00\"},{\"rank\":12,\"team\":{\"id\":45,\"name\":\"Everton\",\"logo\":\"https:\\/\\/media.api-sports.io\\/football\\/teams\\/45.png\"},\"points\":49,\"goalsDiff\":-12,\"group\":\"Premier League\",\"form\":\"LWDLD\",\"status\":\"same\",\"description\":null,\"all\":{\"played\":38,\"win\":13,\"draw\":10,\"lose\":15,\"goals\":{\"for\":44,\"against\":56}},\"home\":{\"played\":19,\"win\":8,\"draw\":7,\"lose\":4,\"goals\":{\"for\":24,\"against\":21}},\"away\":{\"played\":19,\"win\":5,\"draw\":3,\"lose\":11,\"goals\":{\"for\":20,\"against\":35}},\"update\":\"2020-07-26T00:00:00+00:00\"},{\"rank\":13,\"team\":{\"id\":34,\"name\":\"Newcastle\",\"logo\":\"https:\\/\\/media.api-sports.io\\/football\\/teams\\/34.png\"},\"points\":44,\"goalsDiff\":-20,\"group\":\"Premier League\",\"form\":\"LDLLL\",\"status\":\"same\",\"description\":null,\"all\":{\"played\":38,\"win\":11,\"draw\":11,\"lose\":16,\"goals\":{\"for\":38,\"against\":58}},\"home\":{\"played\":19,\"win\":6,\"draw\":8,\"lose\":5,\"goals\":{\"for\":20,\"against\":21}},\"away\":{\"played\":19,\"win\":5,\"draw\":3,\"lose\":11,\"goals\":{\"for\":18,\"against\":37}},\"update\":\"2020-07-26T00:00:00+00:00\"},{\"rank\":14,\"team\":{\"id\":52,\"name\":\"Crystal Palace\",\"logo\":\"https:\\/\\/media.api-sports.io\\/football\\/teams\\/52.png\"},\"points\":43,\"goalsDiff\":-19,\"group\":\"Premier League\",\"form\":\"DLLLL\",\"status\":\"same\",\"description\":null,\"all\":{\"played\":38,\"win\":11,\"draw\":10,\"lose\":17,\"goals\":{\"for\":31,\"against\":50}},\"home\":{\"played\":19,\"win\":6,\"draw\":5,\"lose\":8,\"goals\":{\"for\":15,\"against\":20}},\"away\":{\"played\":19,\"win\":5,\"draw\":5,\"lose\":9,\"goals\":{\"for\":16,\"against\":30}},\"update\":\"2020-07-26T00:00:00+00:00\"},{\"rank\":15,\"team\":{\"id\":51,\"name\":\"Brighton\",\"logo\":\"https:\\/\\/media.api-sports.io\\/football\\/teams\\/51.png\"},\"points\":41,\"goalsDiff\":-15,\"group\":\"Premier League\",\"form\":\"WDDLL\",\"status\":\"same\",\"description\":null,\"all\":{\"played\":38,\"win\":9,\"draw\":14,\"lose\":15,\"goals\":{\"for\":39,\"against\":54}},\"home\":{\"played\":19,\"win\":5,\"draw\":7,\"lose\":7,\"goals\":{\"for\":20,\"against\":27}},\"away\":{\"played\":19,\"win\":4,\"draw\":7,\"lose\":8,\"goals\":{\"for\":19,\"against\":27}},\"update\":\"2020-07-26T00:00:00+00:00\"},{\"rank\":16,\"team\":{\"id\":48,\"name\":\"West Ham\",\"logo\":\"https:\\/\\/media.api-sports.io\\/football\\/teams\\/48.png\"},\"points\":39,\"goalsDiff\":-13,\"group\":\"Premier League\",\"form\":\"DDWWL\",\"status\":\"same\",\"description\":null,\"all\":{\"played\":38,\"win\":10,\"draw\":9,\"lose\":19,\"goals\":{\"for\":49,\"against\":62}},\"home\":{\"played\":19,\"win\":6,\"draw\":4,\"lose\":9,\"goals\":{\"for\":30,\"against\":33}},\"away\":{\"played\":19,\"win\":4,\"draw\":5,\"lose\":10,\"goals\":{\"for\":19,\"against\":29}},\"update\":\"2020-07-26T00:00:00+00:00\"},{\"rank\":17,\"team\":{\"id\":66,\"name\":\"Aston Villa\",\"logo\":\"https:\\/\\/media.api-sports.io\\/football\\/teams\\/66.png\"},\"points\":35,\"goalsDiff\":-26,\"group\":\"Premier League\",\"form\":\"DWDWL\",\"status\":\"same\",\"description\":null,\"all\":{\"played\":38,\"win\":9,\"draw\":8,\"lose\":21,\"goals\":{\"for\":41,\"against\":67}},\"home\":{\"played\":19,\"win\":7,\"draw\":3,\"lose\":9,\"goals\":{\"for\":22,\"against\":30}},\"away\":{\"played\":19,\"win\":2,\"draw\":5,\"lose\":12,\"goals\":{\"for\":19,\"against\":37}},\"update\":\"2020-07-26T00:00:00+00:00\"},{\"rank\":18,\"team\":{\"id\":35,\"name\":\"Bournemouth\",\"logo\":\"https:\\/\\/media.api-sports.io\\/football\\/teams\\/35.png\"},\"points\":34,\"goalsDiff\":-25,\"group\":\"Premier League\",\"form\":\"WLLWD\",\"status\":\"same\",\"description\":\"Relegation - Championship\",\"all\":{\"played\":38,\"win\":9,\"draw\":7,\"lose\":22,\"goals\":{\"for\":40,\"against\":65}},\"home\":{\"played\":19,\"win\":5,\"draw\":6,\"lose\":8,\"goals\":{\"for\":22,\"against\":30}},\"away\":{\"played\":19,\"win\":4,\"draw\":1,\"lose\":14,\"goals\":{\"for\":18,\"against\":35}},\"update\":\"2020-07-26T00:00:00+00:00\"},{\"rank\":19,\"team\":{\"id\":38,\"name\":\"Watford\",\"logo\":\"https:\\/\\/media.api-sports.io\\/football\\/teams\\/38.png\"},\"points\":34,\"goalsDiff\":-28,\"group\":\"Premier League\",\"form\":\"LLLWW\",\"status\":\"same\",\"description\":\"Relegation - Championship\",\"all\":{\"played\":38,\"win\":8,\"draw\":10,\"lose\":20,\"goals\":{\"for\":36,\"against\":64}},\"home\":{\"played\":19,\"win\":6,\"draw\":6,\"lose\":7,\"goals\":{\"for\":22,\"against\":27}},\"away\":{\"played\":19,\"win\":2,\"draw\":4,\"lose\":13,\"goals\":{\"for\":14,\"against\":37}},\"update\":\"2020-07-26T00:00:00+00:00\"},{\"rank\":20,\"team\":{\"id\":71,\"name\":\"Norwich\",\"logo\":\"https:\\/\\/media.api-sports.io\\/football\\/teams\\/71.png\"},\"points\":21,\"goalsDiff\":-49,\"group\":\"Premier League\",\"form\":\"LLLLL\",\"status\":\"same\",\"description\":\"Relegation - Championship\",\"all\":{\"played\":38,\"win\":5,\"draw\":6,\"lose\":27,\"goals\":{\"for\":26,\"against\":75}},\"home\":{\"played\":19,\"win\":4,\"draw\":3,\"lose\":12,\"goals\":{\"for\":19,\"against\":37}},\"away\":{\"played\":19,\"win\":1,\"draw\":3,\"lose\":15,\"goals\":{\"for\":7,\"against\":38}},\"update\":\"2020-07-26T00:00:00+00:00\"}]]}}]}\n"
     ]
    }
   ],
   "source": [
    "url = \"https://api-football-v1.p.rapidapi.com/v3/standings\"\n",
    "\n",
    "querystring = {\"season\":\"2019\",\"league\":\"39\"}\n",
    "\n",
    "headers = {\n",
    "\t\"X-RapidAPI-Host\": \"api-football-v1.p.rapidapi.com\",\n",
    "\t\"X-RapidAPI-Key\": \"ecad4fe8femsh2bf7c9cd0fe9bedp159909jsn0f8655e543b0\"\n",
    "}\n",
    "\n",
    "resp2 = requests.request(\"GET\", url, headers=headers, params=querystring)\n",
    "\n",
    "print(resp2.text)"
   ]
  },
  {
   "cell_type": "code",
   "execution_count": 26,
   "metadata": {},
   "outputs": [
    {
     "data": {
      "text/html": [
       "<div>\n",
       "<style scoped>\n",
       "    .dataframe tbody tr th:only-of-type {\n",
       "        vertical-align: middle;\n",
       "    }\n",
       "\n",
       "    .dataframe tbody tr th {\n",
       "        vertical-align: top;\n",
       "    }\n",
       "\n",
       "    .dataframe thead th {\n",
       "        text-align: right;\n",
       "    }\n",
       "</style>\n",
       "<table border=\"1\" class=\"dataframe\">\n",
       "  <thead>\n",
       "    <tr style=\"text-align: right;\">\n",
       "      <th></th>\n",
       "      <th>rank</th>\n",
       "      <th>team</th>\n",
       "      <th>points</th>\n",
       "      <th>goalsDiff</th>\n",
       "      <th>group</th>\n",
       "      <th>form</th>\n",
       "      <th>status</th>\n",
       "      <th>description</th>\n",
       "      <th>all</th>\n",
       "      <th>home</th>\n",
       "      <th>away</th>\n",
       "      <th>update</th>\n",
       "    </tr>\n",
       "  </thead>\n",
       "  <tbody>\n",
       "    <tr>\n",
       "      <th>1</th>\n",
       "      <td>2</td>\n",
       "      <td>{'id': 50, 'name': 'Manchester City', 'logo': ...</td>\n",
       "      <td>81</td>\n",
       "      <td>67</td>\n",
       "      <td>Premier League</td>\n",
       "      <td>WWWWW</td>\n",
       "      <td>same</td>\n",
       "      <td>Promotion - Champions League (Group Stage)</td>\n",
       "      <td>{'played': 38, 'win': 26, 'draw': 3, 'lose': 9...</td>\n",
       "      <td>{'played': 19, 'win': 15, 'draw': 2, 'lose': 2...</td>\n",
       "      <td>{'played': 19, 'win': 11, 'draw': 1, 'lose': 7...</td>\n",
       "      <td>2020-07-26T00:00:00+00:00</td>\n",
       "    </tr>\n",
       "  </tbody>\n",
       "</table>\n",
       "</div>"
      ],
      "text/plain": [
       "   rank                                               team  points  goalsDiff  \\\n",
       "1     2  {'id': 50, 'name': 'Manchester City', 'logo': ...      81         67   \n",
       "\n",
       "            group   form status                                 description  \\\n",
       "1  Premier League  WWWWW   same  Promotion - Champions League (Group Stage)   \n",
       "\n",
       "                                                 all  \\\n",
       "1  {'played': 38, 'win': 26, 'draw': 3, 'lose': 9...   \n",
       "\n",
       "                                                home  \\\n",
       "1  {'played': 19, 'win': 15, 'draw': 2, 'lose': 2...   \n",
       "\n",
       "                                                away  \\\n",
       "1  {'played': 19, 'win': 11, 'draw': 1, 'lose': 7...   \n",
       "\n",
       "                      update  \n",
       "1  2020-07-26T00:00:00+00:00  "
      ]
     },
     "execution_count": 26,
     "metadata": {},
     "output_type": "execute_result"
    }
   ],
   "source": [
    "#2019/2020\n",
    "data2 = resp2.json()\n",
    "df2019 = pd.DataFrame(data2['response'][0]['league']['standings'][0])\n",
    "team2019 = df2019.iloc[1:2,:]\n",
    "team2019"
   ]
  },
  {
   "cell_type": "code",
   "execution_count": 5,
   "metadata": {},
   "outputs": [
    {
     "name": "stdout",
     "output_type": "stream",
     "text": [
      "{\"get\":\"standings\",\"parameters\":{\"league\":\"39\",\"season\":\"2018\"},\"errors\":[],\"results\":1,\"paging\":{\"current\":1,\"total\":1},\"response\":[{\"league\":{\"id\":39,\"name\":\"Premier League\",\"country\":\"England\",\"logo\":\"https:\\/\\/media.api-sports.io\\/football\\/leagues\\/39.png\",\"flag\":\"https:\\/\\/media.api-sports.io\\/flags\\/gb.svg\",\"season\":2018,\"standings\":[[{\"rank\":1,\"team\":{\"id\":50,\"name\":\"Manchester City\",\"logo\":\"https:\\/\\/media.api-sports.io\\/football\\/teams\\/50.png\"},\"points\":98,\"goalsDiff\":72,\"group\":\"Premier League\",\"form\":\"WWWWW\",\"status\":null,\"description\":\"Promotion - Champions League (Group Stage)\",\"all\":{\"played\":38,\"win\":32,\"draw\":2,\"lose\":4,\"goals\":{\"for\":95,\"against\":23}},\"home\":{\"played\":19,\"win\":18,\"draw\":0,\"lose\":1,\"goals\":{\"for\":57,\"against\":12}},\"away\":{\"played\":19,\"win\":14,\"draw\":2,\"lose\":3,\"goals\":{\"for\":38,\"against\":11}},\"update\":\"2019-05-12T00:00:00+00:00\"},{\"rank\":2,\"team\":{\"id\":40,\"name\":\"Liverpool\",\"logo\":\"https:\\/\\/media.api-sports.io\\/football\\/teams\\/40.png\"},\"points\":97,\"goalsDiff\":67,\"group\":\"Premier League\",\"form\":\"WWWWW\",\"status\":null,\"description\":\"Promotion - Champions League (Group Stage)\",\"all\":{\"played\":38,\"win\":30,\"draw\":7,\"lose\":1,\"goals\":{\"for\":89,\"against\":22}},\"home\":{\"played\":19,\"win\":17,\"draw\":2,\"lose\":0,\"goals\":{\"for\":55,\"against\":10}},\"away\":{\"played\":19,\"win\":13,\"draw\":5,\"lose\":1,\"goals\":{\"for\":34,\"against\":12}},\"update\":\"2019-05-12T00:00:00+00:00\"},{\"rank\":3,\"team\":{\"id\":49,\"name\":\"Chelsea\",\"logo\":\"https:\\/\\/media.api-sports.io\\/football\\/teams\\/49.png\"},\"points\":72,\"goalsDiff\":24,\"group\":\"Premier League\",\"form\":\"DWDDL\",\"status\":null,\"description\":\"Promotion - Champions League (Group Stage)\",\"all\":{\"played\":38,\"win\":21,\"draw\":9,\"lose\":8,\"goals\":{\"for\":63,\"against\":39}},\"home\":{\"played\":19,\"win\":12,\"draw\":6,\"lose\":1,\"goals\":{\"for\":39,\"against\":12}},\"away\":{\"played\":19,\"win\":9,\"draw\":3,\"lose\":7,\"goals\":{\"for\":24,\"against\":27}},\"update\":\"2019-05-12T00:00:00+00:00\"},{\"rank\":4,\"team\":{\"id\":47,\"name\":\"Tottenham\",\"logo\":\"https:\\/\\/media.api-sports.io\\/football\\/teams\\/47.png\"},\"points\":71,\"goalsDiff\":28,\"group\":\"Premier League\",\"form\":\"DLLWL\",\"status\":null,\"description\":\"Promotion - Champions League (Group Stage)\",\"all\":{\"played\":38,\"win\":23,\"draw\":2,\"lose\":13,\"goals\":{\"for\":67,\"against\":39}},\"home\":{\"played\":19,\"win\":12,\"draw\":2,\"lose\":5,\"goals\":{\"for\":34,\"against\":16}},\"away\":{\"played\":19,\"win\":11,\"draw\":0,\"lose\":8,\"goals\":{\"for\":33,\"against\":23}},\"update\":\"2019-05-12T00:00:00+00:00\"},{\"rank\":5,\"team\":{\"id\":42,\"name\":\"Arsenal\",\"logo\":\"https:\\/\\/media.api-sports.io\\/football\\/teams\\/42.png\"},\"points\":70,\"goalsDiff\":22,\"group\":\"Premier League\",\"form\":\"WDLLL\",\"status\":null,\"description\":\"Promotion - Europa League (Group Stage)\",\"all\":{\"played\":38,\"win\":21,\"draw\":7,\"lose\":10,\"goals\":{\"for\":73,\"against\":51}},\"home\":{\"played\":19,\"win\":14,\"draw\":3,\"lose\":2,\"goals\":{\"for\":42,\"against\":16}},\"away\":{\"played\":19,\"win\":7,\"draw\":4,\"lose\":8,\"goals\":{\"for\":31,\"against\":35}},\"update\":\"2019-05-12T00:00:00+00:00\"},{\"rank\":6,\"team\":{\"id\":33,\"name\":\"Manchester United\",\"logo\":\"https:\\/\\/media.api-sports.io\\/football\\/teams\\/33.png\"},\"points\":66,\"goalsDiff\":11,\"group\":\"Premier League\",\"form\":\"LDDLL\",\"status\":null,\"description\":\"Promotion - Europa League (Qualification)\",\"all\":{\"played\":38,\"win\":19,\"draw\":9,\"lose\":10,\"goals\":{\"for\":65,\"against\":54}},\"home\":{\"played\":19,\"win\":10,\"draw\":6,\"lose\":3,\"goals\":{\"for\":33,\"against\":25}},\"away\":{\"played\":19,\"win\":9,\"draw\":3,\"lose\":7,\"goals\":{\"for\":32,\"against\":29}},\"update\":\"2019-05-12T00:00:00+00:00\"},{\"rank\":7,\"team\":{\"id\":39,\"name\":\"Wolves\",\"logo\":\"https:\\/\\/media.api-sports.io\\/football\\/teams\\/39.png\"},\"points\":57,\"goalsDiff\":1,\"group\":\"Premier League\",\"form\":\"LWWWD\",\"status\":null,\"description\":null,\"all\":{\"played\":38,\"win\":16,\"draw\":9,\"lose\":13,\"goals\":{\"for\":47,\"against\":46}},\"home\":{\"played\":19,\"win\":10,\"draw\":4,\"lose\":5,\"goals\":{\"for\":28,\"against\":21}},\"away\":{\"played\":19,\"win\":6,\"draw\":5,\"lose\":8,\"goals\":{\"for\":19,\"against\":25}},\"update\":\"2019-05-12T00:00:00+00:00\"},{\"rank\":8,\"team\":{\"id\":45,\"name\":\"Everton\",\"logo\":\"https:\\/\\/media.api-sports.io\\/football\\/teams\\/45.png\"},\"points\":54,\"goalsDiff\":8,\"group\":\"Premier League\",\"form\":\"DWDWL\",\"status\":null,\"description\":null,\"all\":{\"played\":38,\"win\":15,\"draw\":9,\"lose\":14,\"goals\":{\"for\":54,\"against\":46}},\"home\":{\"played\":19,\"win\":10,\"draw\":4,\"lose\":5,\"goals\":{\"for\":30,\"against\":21}},\"away\":{\"played\":19,\"win\":5,\"draw\":5,\"lose\":9,\"goals\":{\"for\":24,\"against\":25}},\"update\":\"2019-05-12T00:00:00+00:00\"},{\"rank\":9,\"team\":{\"id\":46,\"name\":\"Leicester\",\"logo\":\"https:\\/\\/media.api-sports.io\\/football\\/teams\\/46.png\"},\"points\":52,\"goalsDiff\":3,\"group\":\"Premier League\",\"form\":\"DLWDL\",\"status\":null,\"description\":null,\"all\":{\"played\":38,\"win\":15,\"draw\":7,\"lose\":16,\"goals\":{\"for\":51,\"against\":48}},\"home\":{\"played\":19,\"win\":8,\"draw\":3,\"lose\":8,\"goals\":{\"for\":24,\"against\":20}},\"away\":{\"played\":19,\"win\":7,\"draw\":4,\"lose\":8,\"goals\":{\"for\":27,\"against\":28}},\"update\":\"2019-05-12T00:00:00+00:00\"},{\"rank\":10,\"team\":{\"id\":48,\"name\":\"West Ham\",\"logo\":\"https:\\/\\/media.api-sports.io\\/football\\/teams\\/48.png\"},\"points\":52,\"goalsDiff\":-3,\"group\":\"Premier League\",\"form\":\"WWWDL\",\"status\":null,\"description\":null,\"all\":{\"played\":38,\"win\":15,\"draw\":7,\"lose\":16,\"goals\":{\"for\":52,\"against\":55}},\"home\":{\"played\":19,\"win\":9,\"draw\":4,\"lose\":6,\"goals\":{\"for\":32,\"against\":27}},\"away\":{\"played\":19,\"win\":6,\"draw\":3,\"lose\":10,\"goals\":{\"for\":20,\"against\":28}},\"update\":\"2019-05-12T00:00:00+00:00\"},{\"rank\":11,\"team\":{\"id\":38,\"name\":\"Watford\",\"logo\":\"https:\\/\\/media.api-sports.io\\/football\\/teams\\/38.png\"},\"points\":50,\"goalsDiff\":-7,\"group\":\"Premier League\",\"form\":\"LLLDW\",\"status\":null,\"description\":null,\"all\":{\"played\":38,\"win\":14,\"draw\":8,\"lose\":16,\"goals\":{\"for\":52,\"against\":59}},\"home\":{\"played\":19,\"win\":8,\"draw\":3,\"lose\":8,\"goals\":{\"for\":26,\"against\":28}},\"away\":{\"played\":19,\"win\":6,\"draw\":5,\"lose\":8,\"goals\":{\"for\":26,\"against\":31}},\"update\":\"2019-05-12T00:00:00+00:00\"},{\"rank\":12,\"team\":{\"id\":52,\"name\":\"Crystal Palace\",\"logo\":\"https:\\/\\/media.api-sports.io\\/football\\/teams\\/52.png\"},\"points\":49,\"goalsDiff\":-2,\"group\":\"Premier League\",\"form\":\"WWDWL\",\"status\":null,\"description\":null,\"all\":{\"played\":38,\"win\":14,\"draw\":7,\"lose\":17,\"goals\":{\"for\":51,\"against\":53}},\"home\":{\"played\":19,\"win\":5,\"draw\":5,\"lose\":9,\"goals\":{\"for\":19,\"against\":23}},\"away\":{\"played\":19,\"win\":9,\"draw\":2,\"lose\":8,\"goals\":{\"for\":32,\"against\":30}},\"update\":\"2019-05-12T00:00:00+00:00\"},{\"rank\":13,\"team\":{\"id\":34,\"name\":\"Newcastle\",\"logo\":\"https:\\/\\/media.api-sports.io\\/football\\/teams\\/34.png\"},\"points\":45,\"goalsDiff\":-6,\"group\":\"Premier League\",\"form\":\"WLDWW\",\"status\":null,\"description\":null,\"all\":{\"played\":38,\"win\":12,\"draw\":9,\"lose\":17,\"goals\":{\"for\":42,\"against\":48}},\"home\":{\"played\":19,\"win\":8,\"draw\":1,\"lose\":10,\"goals\":{\"for\":24,\"against\":25}},\"away\":{\"played\":19,\"win\":4,\"draw\":8,\"lose\":7,\"goals\":{\"for\":18,\"against\":23}},\"update\":\"2019-05-12T00:00:00+00:00\"},{\"rank\":14,\"team\":{\"id\":35,\"name\":\"Bournemouth\",\"logo\":\"https:\\/\\/media.api-sports.io\\/football\\/teams\\/35.png\"},\"points\":45,\"goalsDiff\":-14,\"group\":\"Premier League\",\"form\":\"LWDLW\",\"status\":null,\"description\":null,\"all\":{\"played\":38,\"win\":13,\"draw\":6,\"lose\":19,\"goals\":{\"for\":56,\"against\":70}},\"home\":{\"played\":19,\"win\":8,\"draw\":5,\"lose\":6,\"goals\":{\"for\":30,\"against\":25}},\"away\":{\"played\":19,\"win\":5,\"draw\":1,\"lose\":13,\"goals\":{\"for\":26,\"against\":45}},\"update\":\"2019-05-12T00:00:00+00:00\"},{\"rank\":15,\"team\":{\"id\":44,\"name\":\"Burnley\",\"logo\":\"https:\\/\\/media.api-sports.io\\/football\\/teams\\/44.png\"},\"points\":40,\"goalsDiff\":-23,\"group\":\"Premier League\",\"form\":\"LLLDW\",\"status\":null,\"description\":null,\"all\":{\"played\":38,\"win\":11,\"draw\":7,\"lose\":20,\"goals\":{\"for\":45,\"against\":68}},\"home\":{\"played\":19,\"win\":7,\"draw\":2,\"lose\":10,\"goals\":{\"for\":24,\"against\":32}},\"away\":{\"played\":19,\"win\":4,\"draw\":5,\"lose\":10,\"goals\":{\"for\":21,\"against\":36}},\"update\":\"2019-05-12T00:00:00+00:00\"},{\"rank\":16,\"team\":{\"id\":41,\"name\":\"Southampton\",\"logo\":\"https:\\/\\/media.api-sports.io\\/football\\/teams\\/41.png\"},\"points\":39,\"goalsDiff\":-20,\"group\":\"Premier League\",\"form\":\"DLDDL\",\"status\":null,\"description\":null,\"all\":{\"played\":38,\"win\":9,\"draw\":12,\"lose\":17,\"goals\":{\"for\":45,\"against\":65}},\"home\":{\"played\":19,\"win\":5,\"draw\":8,\"lose\":6,\"goals\":{\"for\":27,\"against\":30}},\"away\":{\"played\":19,\"win\":4,\"draw\":4,\"lose\":11,\"goals\":{\"for\":18,\"against\":35}},\"update\":\"2019-05-12T00:00:00+00:00\"},{\"rank\":17,\"team\":{\"id\":51,\"name\":\"Brighton\",\"logo\":\"https:\\/\\/media.api-sports.io\\/football\\/teams\\/51.png\"},\"points\":36,\"goalsDiff\":-25,\"group\":\"Premier League\",\"form\":\"LDDLD\",\"status\":null,\"description\":null,\"all\":{\"played\":38,\"win\":9,\"draw\":9,\"lose\":20,\"goals\":{\"for\":35,\"against\":60}},\"home\":{\"played\":19,\"win\":6,\"draw\":5,\"lose\":8,\"goals\":{\"for\":19,\"against\":28}},\"away\":{\"played\":19,\"win\":3,\"draw\":4,\"lose\":12,\"goals\":{\"for\":16,\"against\":32}},\"update\":\"2019-05-12T00:00:00+00:00\"},{\"rank\":18,\"team\":{\"id\":43,\"name\":\"Cardiff\",\"logo\":\"https:\\/\\/media.api-sports.io\\/football\\/teams\\/43.png\"},\"points\":34,\"goalsDiff\":-35,\"group\":\"Premier League\",\"form\":\"WLLLW\",\"status\":null,\"description\":\"Relegation - Championship\",\"all\":{\"played\":38,\"win\":10,\"draw\":4,\"lose\":24,\"goals\":{\"for\":34,\"against\":69}},\"home\":{\"played\":19,\"win\":6,\"draw\":2,\"lose\":11,\"goals\":{\"for\":21,\"against\":38}},\"away\":{\"played\":19,\"win\":4,\"draw\":2,\"lose\":13,\"goals\":{\"for\":13,\"against\":31}},\"update\":\"2019-05-12T00:00:00+00:00\"},{\"rank\":19,\"team\":{\"id\":36,\"name\":\"Fulham\",\"logo\":\"https:\\/\\/media.api-sports.io\\/football\\/teams\\/36.png\"},\"points\":26,\"goalsDiff\":-47,\"group\":\"Premier League\",\"form\":\"LLWWW\",\"status\":null,\"description\":\"Relegation - Championship\",\"all\":{\"played\":38,\"win\":7,\"draw\":5,\"lose\":26,\"goals\":{\"for\":34,\"against\":81}},\"home\":{\"played\":19,\"win\":6,\"draw\":3,\"lose\":10,\"goals\":{\"for\":22,\"against\":36}},\"away\":{\"played\":19,\"win\":1,\"draw\":2,\"lose\":16,\"goals\":{\"for\":12,\"against\":45}},\"update\":\"2019-05-12T00:00:00+00:00\"},{\"rank\":20,\"team\":{\"id\":37,\"name\":\"Huddersfield\",\"logo\":\"https:\\/\\/media.api-sports.io\\/football\\/teams\\/37.png\"},\"points\":16,\"goalsDiff\":-54,\"group\":\"Premier League\",\"form\":\"DDLLL\",\"status\":null,\"description\":\"Relegation - Championship\",\"all\":{\"played\":38,\"win\":3,\"draw\":7,\"lose\":28,\"goals\":{\"for\":22,\"against\":76}},\"home\":{\"played\":19,\"win\":2,\"draw\":3,\"lose\":14,\"goals\":{\"for\":10,\"against\":31}},\"away\":{\"played\":19,\"win\":1,\"draw\":4,\"lose\":14,\"goals\":{\"for\":12,\"against\":45}},\"update\":\"2019-05-12T00:00:00+00:00\"}]]}}]}\n"
     ]
    }
   ],
   "source": [
    "#2018/2019\n",
    "url = \"https://api-football-v1.p.rapidapi.com/v3/standings\"\n",
    "\n",
    "querystring = {\"league\":\"39\",\"season\":\"2018\"}\n",
    "\n",
    "headers = {\n",
    "\t\"X-RapidAPI-Host\": \"api-football-v1.p.rapidapi.com\",\n",
    "\t\"X-RapidAPI-Key\": \"ecad4fe8femsh2bf7c9cd0fe9bedp159909jsn0f8655e543b0\"\n",
    "}\n",
    "\n",
    "resp3 = requests.request(\"GET\", url, headers=headers, params=querystring)\n",
    "\n",
    "print(resp3.text)"
   ]
  },
  {
   "cell_type": "code",
   "execution_count": 27,
   "metadata": {},
   "outputs": [
    {
     "data": {
      "text/html": [
       "<div>\n",
       "<style scoped>\n",
       "    .dataframe tbody tr th:only-of-type {\n",
       "        vertical-align: middle;\n",
       "    }\n",
       "\n",
       "    .dataframe tbody tr th {\n",
       "        vertical-align: top;\n",
       "    }\n",
       "\n",
       "    .dataframe thead th {\n",
       "        text-align: right;\n",
       "    }\n",
       "</style>\n",
       "<table border=\"1\" class=\"dataframe\">\n",
       "  <thead>\n",
       "    <tr style=\"text-align: right;\">\n",
       "      <th></th>\n",
       "      <th>rank</th>\n",
       "      <th>team</th>\n",
       "      <th>points</th>\n",
       "      <th>goalsDiff</th>\n",
       "      <th>group</th>\n",
       "      <th>form</th>\n",
       "      <th>status</th>\n",
       "      <th>description</th>\n",
       "      <th>all</th>\n",
       "      <th>home</th>\n",
       "      <th>away</th>\n",
       "      <th>update</th>\n",
       "    </tr>\n",
       "  </thead>\n",
       "  <tbody>\n",
       "    <tr>\n",
       "      <th>1</th>\n",
       "      <td>2</td>\n",
       "      <td>{'id': 40, 'name': 'Liverpool', 'logo': 'https...</td>\n",
       "      <td>97</td>\n",
       "      <td>67</td>\n",
       "      <td>Premier League</td>\n",
       "      <td>WWWWW</td>\n",
       "      <td>None</td>\n",
       "      <td>Promotion - Champions League (Group Stage)</td>\n",
       "      <td>{'played': 38, 'win': 30, 'draw': 7, 'lose': 1...</td>\n",
       "      <td>{'played': 19, 'win': 17, 'draw': 2, 'lose': 0...</td>\n",
       "      <td>{'played': 19, 'win': 13, 'draw': 5, 'lose': 1...</td>\n",
       "      <td>2019-05-12T00:00:00+00:00</td>\n",
       "    </tr>\n",
       "  </tbody>\n",
       "</table>\n",
       "</div>"
      ],
      "text/plain": [
       "   rank                                               team  points  goalsDiff  \\\n",
       "1     2  {'id': 40, 'name': 'Liverpool', 'logo': 'https...      97         67   \n",
       "\n",
       "            group   form status                                 description  \\\n",
       "1  Premier League  WWWWW   None  Promotion - Champions League (Group Stage)   \n",
       "\n",
       "                                                 all  \\\n",
       "1  {'played': 38, 'win': 30, 'draw': 7, 'lose': 1...   \n",
       "\n",
       "                                                home  \\\n",
       "1  {'played': 19, 'win': 17, 'draw': 2, 'lose': 0...   \n",
       "\n",
       "                                                away  \\\n",
       "1  {'played': 19, 'win': 13, 'draw': 5, 'lose': 1...   \n",
       "\n",
       "                      update  \n",
       "1  2019-05-12T00:00:00+00:00  "
      ]
     },
     "execution_count": 27,
     "metadata": {},
     "output_type": "execute_result"
    }
   ],
   "source": [
    "#2018/2019\n",
    "data3 = resp3.json()\n",
    "df2018 = pd.DataFrame(data3['response'][0]['league']['standings'][0])\n",
    "team2018 = df2018.iloc[1:2,:]\n",
    "team2018"
   ]
  },
  {
   "cell_type": "code",
   "execution_count": 7,
   "metadata": {
    "scrolled": true
   },
   "outputs": [
    {
     "name": "stdout",
     "output_type": "stream",
     "text": [
      "{\"get\":\"standings\",\"parameters\":{\"league\":\"39\",\"season\":\"2017\"},\"errors\":[],\"results\":1,\"paging\":{\"current\":1,\"total\":1},\"response\":[{\"league\":{\"id\":39,\"name\":\"Premier League\",\"country\":\"England\",\"logo\":\"https:\\/\\/media.api-sports.io\\/football\\/leagues\\/39.png\",\"flag\":\"https:\\/\\/media.api-sports.io\\/flags\\/gb.svg\",\"season\":2017,\"standings\":[[{\"rank\":1,\"team\":{\"id\":50,\"name\":\"Manchester City\",\"logo\":\"https:\\/\\/media.api-sports.io\\/football\\/teams\\/50.png\"},\"points\":100,\"goalsDiff\":79,\"group\":\"Premier League\",\"form\":\"WWDWW\",\"status\":\"same\",\"description\":\"UEFA Champions League\",\"all\":{\"played\":38,\"win\":32,\"draw\":4,\"lose\":2,\"goals\":{\"for\":106,\"against\":27}},\"home\":{\"played\":19,\"win\":16,\"draw\":2,\"lose\":1,\"goals\":{\"for\":61,\"against\":14}},\"away\":{\"played\":19,\"win\":16,\"draw\":2,\"lose\":1,\"goals\":{\"for\":45,\"against\":13}},\"update\":\"2020-08-11T00:00:00+00:00\"},{\"rank\":2,\"team\":{\"id\":33,\"name\":\"Manchester United\",\"logo\":\"https:\\/\\/media.api-sports.io\\/football\\/teams\\/33.png\"},\"points\":81,\"goalsDiff\":40,\"group\":\"Premier League\",\"form\":\"WDLWW\",\"status\":\"same\",\"description\":\"UEFA Champions League\",\"all\":{\"played\":38,\"win\":25,\"draw\":6,\"lose\":7,\"goals\":{\"for\":68,\"against\":28}},\"home\":{\"played\":19,\"win\":15,\"draw\":2,\"lose\":2,\"goals\":{\"for\":38,\"against\":9}},\"away\":{\"played\":19,\"win\":10,\"draw\":4,\"lose\":5,\"goals\":{\"for\":30,\"against\":19}},\"update\":\"2020-08-11T00:00:00+00:00\"},{\"rank\":3,\"team\":{\"id\":47,\"name\":\"Tottenham\",\"logo\":\"https:\\/\\/media.api-sports.io\\/football\\/teams\\/47.png\"},\"points\":77,\"goalsDiff\":38,\"group\":\"Premier League\",\"form\":\"WWLWD\",\"status\":\"up\",\"description\":\"UEFA Champions League\",\"all\":{\"played\":38,\"win\":23,\"draw\":8,\"lose\":7,\"goals\":{\"for\":74,\"against\":36}},\"home\":{\"played\":19,\"win\":13,\"draw\":4,\"lose\":2,\"goals\":{\"for\":40,\"against\":16}},\"away\":{\"played\":19,\"win\":10,\"draw\":4,\"lose\":5,\"goals\":{\"for\":34,\"against\":20}},\"update\":\"2020-08-11T00:00:00+00:00\"},{\"rank\":4,\"team\":{\"id\":40,\"name\":\"Liverpool\",\"logo\":\"https:\\/\\/media.api-sports.io\\/football\\/teams\\/40.png\"},\"points\":75,\"goalsDiff\":46,\"group\":\"Premier League\",\"form\":\"WLDDW\",\"status\":\"down\",\"description\":\"UEFA Champions League\",\"all\":{\"played\":38,\"win\":21,\"draw\":12,\"lose\":5,\"goals\":{\"for\":84,\"against\":38}},\"home\":{\"played\":19,\"win\":12,\"draw\":7,\"lose\":0,\"goals\":{\"for\":45,\"against\":10}},\"away\":{\"played\":19,\"win\":9,\"draw\":5,\"lose\":5,\"goals\":{\"for\":39,\"against\":28}},\"update\":\"2020-08-11T00:00:00+00:00\"},{\"rank\":5,\"team\":{\"id\":49,\"name\":\"Chelsea\",\"logo\":\"https:\\/\\/media.api-sports.io\\/football\\/teams\\/49.png\"},\"points\":70,\"goalsDiff\":24,\"group\":\"Premier League\",\"form\":\"LDWWW\",\"status\":\"same\",\"description\":\"UEFA Europa League\",\"all\":{\"played\":38,\"win\":21,\"draw\":7,\"lose\":10,\"goals\":{\"for\":62,\"against\":38}},\"home\":{\"played\":19,\"win\":11,\"draw\":4,\"lose\":4,\"goals\":{\"for\":30,\"against\":16}},\"away\":{\"played\":19,\"win\":10,\"draw\":3,\"lose\":6,\"goals\":{\"for\":32,\"against\":22}},\"update\":\"2020-08-11T00:00:00+00:00\"},{\"rank\":6,\"team\":{\"id\":42,\"name\":\"Arsenal\",\"logo\":\"https:\\/\\/media.api-sports.io\\/football\\/teams\\/42.png\"},\"points\":63,\"goalsDiff\":23,\"group\":\"Premier League\",\"form\":\"WLWLW\",\"status\":\"same\",\"description\":null,\"all\":{\"played\":38,\"win\":19,\"draw\":6,\"lose\":13,\"goals\":{\"for\":74,\"against\":51}},\"home\":{\"played\":19,\"win\":15,\"draw\":2,\"lose\":2,\"goals\":{\"for\":54,\"against\":20}},\"away\":{\"played\":19,\"win\":4,\"draw\":4,\"lose\":11,\"goals\":{\"for\":20,\"against\":31}},\"update\":\"2020-08-11T00:00:00+00:00\"},{\"rank\":7,\"team\":{\"id\":44,\"name\":\"Burnley\",\"logo\":\"https:\\/\\/media.api-sports.io\\/football\\/teams\\/44.png\"},\"points\":54,\"goalsDiff\":-3,\"group\":\"Premier League\",\"form\":\"LLDDL\",\"status\":\"same\",\"description\":null,\"all\":{\"played\":38,\"win\":14,\"draw\":12,\"lose\":12,\"goals\":{\"for\":36,\"against\":39}},\"home\":{\"played\":19,\"win\":7,\"draw\":5,\"lose\":7,\"goals\":{\"for\":16,\"against\":17}},\"away\":{\"played\":19,\"win\":7,\"draw\":7,\"lose\":5,\"goals\":{\"for\":20,\"against\":22}},\"update\":\"2020-08-11T00:00:00+00:00\"},{\"rank\":8,\"team\":{\"id\":45,\"name\":\"Everton\",\"logo\":\"https:\\/\\/media.api-sports.io\\/football\\/teams\\/45.png\"},\"points\":49,\"goalsDiff\":-14,\"group\":\"Premier League\",\"form\":\"LDWWD\",\"status\":\"same\",\"description\":null,\"all\":{\"played\":38,\"win\":13,\"draw\":10,\"lose\":15,\"goals\":{\"for\":44,\"against\":58}},\"home\":{\"played\":19,\"win\":10,\"draw\":4,\"lose\":5,\"goals\":{\"for\":28,\"against\":22}},\"away\":{\"played\":19,\"win\":3,\"draw\":6,\"lose\":10,\"goals\":{\"for\":16,\"against\":36}},\"update\":\"2020-08-11T00:00:00+00:00\"},{\"rank\":9,\"team\":{\"id\":46,\"name\":\"Leicester\",\"logo\":\"https:\\/\\/media.api-sports.io\\/football\\/teams\\/46.png\"},\"points\":47,\"goalsDiff\":-4,\"group\":\"Premier League\",\"form\":\"LWLLD\",\"status\":\"same\",\"description\":null,\"all\":{\"played\":38,\"win\":12,\"draw\":11,\"lose\":15,\"goals\":{\"for\":56,\"against\":60}},\"home\":{\"played\":19,\"win\":7,\"draw\":6,\"lose\":6,\"goals\":{\"for\":25,\"against\":22}},\"away\":{\"played\":19,\"win\":5,\"draw\":5,\"lose\":9,\"goals\":{\"for\":31,\"against\":38}},\"update\":\"2020-08-11T00:00:00+00:00\"},{\"rank\":10,\"team\":{\"id\":34,\"name\":\"Newcastle\",\"logo\":\"https:\\/\\/media.api-sports.io\\/football\\/teams\\/34.png\"},\"points\":44,\"goalsDiff\":-8,\"group\":\"Premier League\",\"form\":\"WLLLL\",\"status\":\"same\",\"description\":null,\"all\":{\"played\":38,\"win\":12,\"draw\":8,\"lose\":18,\"goals\":{\"for\":39,\"against\":47}},\"home\":{\"played\":19,\"win\":8,\"draw\":4,\"lose\":7,\"goals\":{\"for\":21,\"against\":17}},\"away\":{\"played\":19,\"win\":4,\"draw\":4,\"lose\":11,\"goals\":{\"for\":18,\"against\":30}},\"update\":\"2020-08-11T00:00:00+00:00\"},{\"rank\":11,\"team\":{\"id\":52,\"name\":\"Crystal Palace\",\"logo\":\"https:\\/\\/media.api-sports.io\\/football\\/teams\\/52.png\"},\"points\":44,\"goalsDiff\":-10,\"group\":\"Premier League\",\"form\":\"WWWDW\",\"status\":\"same\",\"description\":null,\"all\":{\"played\":38,\"win\":11,\"draw\":11,\"lose\":16,\"goals\":{\"for\":45,\"against\":55}},\"home\":{\"played\":19,\"win\":7,\"draw\":5,\"lose\":7,\"goals\":{\"for\":29,\"against\":27}},\"away\":{\"played\":19,\"win\":4,\"draw\":6,\"lose\":9,\"goals\":{\"for\":16,\"against\":28}},\"update\":\"2020-08-11T00:00:00+00:00\"},{\"rank\":12,\"team\":{\"id\":35,\"name\":\"Bournemouth\",\"logo\":\"https:\\/\\/media.api-sports.io\\/football\\/teams\\/35.png\"},\"points\":44,\"goalsDiff\":-16,\"group\":\"Premier League\",\"form\":\"WWLLL\",\"status\":\"same\",\"description\":null,\"all\":{\"played\":38,\"win\":11,\"draw\":11,\"lose\":16,\"goals\":{\"for\":45,\"against\":61}},\"home\":{\"played\":19,\"win\":7,\"draw\":5,\"lose\":7,\"goals\":{\"for\":26,\"against\":30}},\"away\":{\"played\":19,\"win\":4,\"draw\":6,\"lose\":9,\"goals\":{\"for\":19,\"against\":31}},\"update\":\"2020-08-11T00:00:00+00:00\"},{\"rank\":13,\"team\":{\"id\":48,\"name\":\"West Ham\",\"logo\":\"https:\\/\\/media.api-sports.io\\/football\\/teams\\/48.png\"},\"points\":42,\"goalsDiff\":-20,\"group\":\"Premier League\",\"form\":\"WDWLL\",\"status\":\"up\",\"description\":null,\"all\":{\"played\":38,\"win\":10,\"draw\":12,\"lose\":16,\"goals\":{\"for\":48,\"against\":68}},\"home\":{\"played\":19,\"win\":7,\"draw\":6,\"lose\":6,\"goals\":{\"for\":24,\"against\":26}},\"away\":{\"played\":19,\"win\":3,\"draw\":6,\"lose\":10,\"goals\":{\"for\":24,\"against\":42}},\"update\":\"2020-08-11T00:00:00+00:00\"},{\"rank\":14,\"team\":{\"id\":38,\"name\":\"Watford\",\"logo\":\"https:\\/\\/media.api-sports.io\\/football\\/teams\\/38.png\"},\"points\":41,\"goalsDiff\":-20,\"group\":\"Premier League\",\"form\":\"LWLDL\",\"status\":\"down\",\"description\":null,\"all\":{\"played\":38,\"win\":11,\"draw\":8,\"lose\":19,\"goals\":{\"for\":44,\"against\":64}},\"home\":{\"played\":19,\"win\":7,\"draw\":6,\"lose\":6,\"goals\":{\"for\":27,\"against\":31}},\"away\":{\"played\":19,\"win\":4,\"draw\":2,\"lose\":13,\"goals\":{\"for\":17,\"against\":33}},\"update\":\"2020-08-11T00:00:00+00:00\"},{\"rank\":15,\"team\":{\"id\":51,\"name\":\"Brighton\",\"logo\":\"https:\\/\\/media.api-sports.io\\/football\\/teams\\/51.png\"},\"points\":40,\"goalsDiff\":-20,\"group\":\"Premier League\",\"form\":\"LLWDD\",\"status\":\"down\",\"description\":null,\"all\":{\"played\":38,\"win\":9,\"draw\":13,\"lose\":16,\"goals\":{\"for\":34,\"against\":54}},\"home\":{\"played\":19,\"win\":7,\"draw\":8,\"lose\":4,\"goals\":{\"for\":24,\"against\":25}},\"away\":{\"played\":19,\"win\":2,\"draw\":5,\"lose\":12,\"goals\":{\"for\":10,\"against\":29}},\"update\":\"2020-08-11T00:00:00+00:00\"},{\"rank\":16,\"team\":{\"id\":37,\"name\":\"Huddersfield\",\"logo\":\"https:\\/\\/media.api-sports.io\\/football\\/teams\\/37.png\"},\"points\":37,\"goalsDiff\":-30,\"group\":\"Premier League\",\"form\":\"LDDLW\",\"status\":\"same\",\"description\":null,\"all\":{\"played\":38,\"win\":9,\"draw\":10,\"lose\":19,\"goals\":{\"for\":28,\"against\":58}},\"home\":{\"played\":19,\"win\":6,\"draw\":5,\"lose\":8,\"goals\":{\"for\":16,\"against\":25}},\"away\":{\"played\":19,\"win\":3,\"draw\":5,\"lose\":11,\"goals\":{\"for\":12,\"against\":33}},\"update\":\"2020-08-11T00:00:00+00:00\"},{\"rank\":17,\"team\":{\"id\":41,\"name\":\"Southampton\",\"logo\":\"https:\\/\\/media.api-sports.io\\/football\\/teams\\/41.png\"},\"points\":36,\"goalsDiff\":-19,\"group\":\"Premier League\",\"form\":\"LWDWD\",\"status\":\"up\",\"description\":null,\"all\":{\"played\":38,\"win\":7,\"draw\":15,\"lose\":16,\"goals\":{\"for\":37,\"against\":56}},\"home\":{\"played\":19,\"win\":4,\"draw\":7,\"lose\":8,\"goals\":{\"for\":20,\"against\":26}},\"away\":{\"played\":19,\"win\":3,\"draw\":8,\"lose\":8,\"goals\":{\"for\":17,\"against\":30}},\"update\":\"2020-08-11T00:00:00+00:00\"},{\"rank\":18,\"team\":{\"id\":76,\"name\":\"Swansea\",\"logo\":\"https:\\/\\/media.api-sports.io\\/football\\/teams\\/76.png\"},\"points\":33,\"goalsDiff\":-28,\"group\":\"Premier League\",\"form\":\"LLLLL\",\"status\":\"down\",\"description\":\"Relegation\",\"all\":{\"played\":38,\"win\":8,\"draw\":9,\"lose\":21,\"goals\":{\"for\":28,\"against\":56}},\"home\":{\"played\":19,\"win\":6,\"draw\":3,\"lose\":10,\"goals\":{\"for\":17,\"against\":24}},\"away\":{\"played\":19,\"win\":2,\"draw\":6,\"lose\":11,\"goals\":{\"for\":11,\"against\":32}},\"update\":\"2020-08-11T00:00:00+00:00\"},{\"rank\":19,\"team\":{\"id\":75,\"name\":\"Stoke City\",\"logo\":\"https:\\/\\/media.api-sports.io\\/football\\/teams\\/75.png\"},\"points\":33,\"goalsDiff\":-33,\"group\":\"Premier League\",\"form\":\"WLDDD\",\"status\":\"same\",\"description\":\"Relegation\",\"all\":{\"played\":38,\"win\":7,\"draw\":12,\"lose\":19,\"goals\":{\"for\":35,\"against\":68}},\"home\":{\"played\":19,\"win\":5,\"draw\":5,\"lose\":9,\"goals\":{\"for\":20,\"against\":30}},\"away\":{\"played\":19,\"win\":2,\"draw\":7,\"lose\":10,\"goals\":{\"for\":15,\"against\":38}},\"update\":\"2020-08-11T00:00:00+00:00\"},{\"rank\":20,\"team\":{\"id\":60,\"name\":\"West Brom\",\"logo\":\"https:\\/\\/media.api-sports.io\\/football\\/teams\\/60.png\"},\"points\":31,\"goalsDiff\":-25,\"group\":\"Premier League\",\"form\":\"LWWDW\",\"status\":\"same\",\"description\":\"Relegation\",\"all\":{\"played\":38,\"win\":6,\"draw\":13,\"lose\":19,\"goals\":{\"for\":31,\"against\":56}},\"home\":{\"played\":19,\"win\":3,\"draw\":9,\"lose\":7,\"goals\":{\"for\":21,\"against\":29}},\"away\":{\"played\":19,\"win\":3,\"draw\":4,\"lose\":12,\"goals\":{\"for\":10,\"against\":27}},\"update\":\"2020-08-11T00:00:00+00:00\"}]]}}]}\n"
     ]
    }
   ],
   "source": [
    "#2017/2018\n",
    "url = \"https://api-football-v1.p.rapidapi.com/v3/standings\"\n",
    "\n",
    "querystring = {\"season\":\"2017\",\"league\":\"39\"}\n",
    "\n",
    "headers = {\n",
    "\t\"X-RapidAPI-Host\": \"api-football-v1.p.rapidapi.com\",\n",
    "\t\"X-RapidAPI-Key\": \"ecad4fe8femsh2bf7c9cd0fe9bedp159909jsn0f8655e543b0\"\n",
    "}\n",
    "\n",
    "resp4 = requests.request(\"GET\", url, headers=headers, params=querystring)\n",
    "\n",
    "print(resp4.text)"
   ]
  },
  {
   "cell_type": "code",
   "execution_count": 28,
   "metadata": {
    "scrolled": true
   },
   "outputs": [
    {
     "data": {
      "text/html": [
       "<div>\n",
       "<style scoped>\n",
       "    .dataframe tbody tr th:only-of-type {\n",
       "        vertical-align: middle;\n",
       "    }\n",
       "\n",
       "    .dataframe tbody tr th {\n",
       "        vertical-align: top;\n",
       "    }\n",
       "\n",
       "    .dataframe thead th {\n",
       "        text-align: right;\n",
       "    }\n",
       "</style>\n",
       "<table border=\"1\" class=\"dataframe\">\n",
       "  <thead>\n",
       "    <tr style=\"text-align: right;\">\n",
       "      <th></th>\n",
       "      <th>rank</th>\n",
       "      <th>team</th>\n",
       "      <th>points</th>\n",
       "      <th>goalsDiff</th>\n",
       "      <th>group</th>\n",
       "      <th>form</th>\n",
       "      <th>status</th>\n",
       "      <th>description</th>\n",
       "      <th>all</th>\n",
       "      <th>home</th>\n",
       "      <th>away</th>\n",
       "      <th>update</th>\n",
       "    </tr>\n",
       "  </thead>\n",
       "  <tbody>\n",
       "    <tr>\n",
       "      <th>3</th>\n",
       "      <td>4</td>\n",
       "      <td>{'id': 40, 'name': 'Liverpool', 'logo': 'https...</td>\n",
       "      <td>75</td>\n",
       "      <td>46</td>\n",
       "      <td>Premier League</td>\n",
       "      <td>WLDDW</td>\n",
       "      <td>down</td>\n",
       "      <td>UEFA Champions League</td>\n",
       "      <td>{'played': 38, 'win': 21, 'draw': 12, 'lose': ...</td>\n",
       "      <td>{'played': 19, 'win': 12, 'draw': 7, 'lose': 0...</td>\n",
       "      <td>{'played': 19, 'win': 9, 'draw': 5, 'lose': 5,...</td>\n",
       "      <td>2020-08-11T00:00:00+00:00</td>\n",
       "    </tr>\n",
       "  </tbody>\n",
       "</table>\n",
       "</div>"
      ],
      "text/plain": [
       "   rank                                               team  points  goalsDiff  \\\n",
       "3     4  {'id': 40, 'name': 'Liverpool', 'logo': 'https...      75         46   \n",
       "\n",
       "            group   form status            description  \\\n",
       "3  Premier League  WLDDW   down  UEFA Champions League   \n",
       "\n",
       "                                                 all  \\\n",
       "3  {'played': 38, 'win': 21, 'draw': 12, 'lose': ...   \n",
       "\n",
       "                                                home  \\\n",
       "3  {'played': 19, 'win': 12, 'draw': 7, 'lose': 0...   \n",
       "\n",
       "                                                away  \\\n",
       "3  {'played': 19, 'win': 9, 'draw': 5, 'lose': 5,...   \n",
       "\n",
       "                      update  \n",
       "3  2020-08-11T00:00:00+00:00  "
      ]
     },
     "execution_count": 28,
     "metadata": {},
     "output_type": "execute_result"
    }
   ],
   "source": [
    "#2017/2018\n",
    "data4 = resp4.json()\n",
    "df2017 = pd.DataFrame(data4['response'][0]['league']['standings'][0])\n",
    "team2017 = df2017.iloc[3:4,:]\n",
    "team2017"
   ]
  },
  {
   "cell_type": "code",
   "execution_count": 9,
   "metadata": {},
   "outputs": [
    {
     "name": "stdout",
     "output_type": "stream",
     "text": [
      "{\"get\":\"standings\",\"parameters\":{\"league\":\"39\",\"season\":\"2016\"},\"errors\":[],\"results\":1,\"paging\":{\"current\":1,\"total\":1},\"response\":[{\"league\":{\"id\":39,\"name\":\"Premier League\",\"country\":\"England\",\"logo\":\"https:\\/\\/media.api-sports.io\\/football\\/leagues\\/39.png\",\"flag\":\"https:\\/\\/media.api-sports.io\\/flags\\/gb.svg\",\"season\":2016,\"standings\":[[{\"rank\":1,\"team\":{\"id\":49,\"name\":\"Chelsea\",\"logo\":\"https:\\/\\/media.api-sports.io\\/football\\/teams\\/49.png\"},\"points\":93,\"goalsDiff\":52,\"group\":\"Premier League\",\"form\":\"WWWWW\",\"status\":null,\"description\":\"UEFA Champions League\",\"all\":{\"played\":38,\"win\":30,\"draw\":3,\"lose\":5,\"goals\":{\"for\":85,\"against\":33}},\"home\":{\"played\":19,\"win\":17,\"draw\":0,\"lose\":2,\"goals\":{\"for\":55,\"against\":17}},\"away\":{\"played\":19,\"win\":13,\"draw\":3,\"lose\":3,\"goals\":{\"for\":30,\"against\":16}},\"update\":\"2018-02-15T00:00:00+00:00\"},{\"rank\":2,\"team\":{\"id\":47,\"name\":\"Tottenham\",\"logo\":\"https:\\/\\/media.api-sports.io\\/football\\/teams\\/47.png\"},\"points\":86,\"goalsDiff\":60,\"group\":\"Premier League\",\"form\":\"WWWLW\",\"status\":null,\"description\":\"UEFA Champions League\",\"all\":{\"played\":38,\"win\":26,\"draw\":8,\"lose\":4,\"goals\":{\"for\":86,\"against\":26}},\"home\":{\"played\":19,\"win\":17,\"draw\":2,\"lose\":0,\"goals\":{\"for\":47,\"against\":9}},\"away\":{\"played\":19,\"win\":9,\"draw\":6,\"lose\":4,\"goals\":{\"for\":39,\"against\":17}},\"update\":\"2018-02-15T00:00:00+00:00\"},{\"rank\":3,\"team\":{\"id\":50,\"name\":\"Manchester City\",\"logo\":\"https:\\/\\/media.api-sports.io\\/football\\/teams\\/50.png\"},\"points\":78,\"goalsDiff\":41,\"group\":\"Premier League\",\"form\":\"WWWWD\",\"status\":null,\"description\":\"UEFA Champions League\",\"all\":{\"played\":38,\"win\":23,\"draw\":9,\"lose\":6,\"goals\":{\"for\":80,\"against\":39}},\"home\":{\"played\":19,\"win\":11,\"draw\":7,\"lose\":1,\"goals\":{\"for\":37,\"against\":17}},\"away\":{\"played\":19,\"win\":12,\"draw\":2,\"lose\":5,\"goals\":{\"for\":43,\"against\":22}},\"update\":\"2018-02-15T00:00:00+00:00\"},{\"rank\":4,\"team\":{\"id\":40,\"name\":\"Liverpool\",\"logo\":\"https:\\/\\/media.api-sports.io\\/football\\/teams\\/40.png\"},\"points\":76,\"goalsDiff\":36,\"group\":\"Premier League\",\"form\":\"WWDWL\",\"status\":null,\"description\":\"UEFA Champions League Qualifiers\",\"all\":{\"played\":38,\"win\":22,\"draw\":10,\"lose\":6,\"goals\":{\"for\":78,\"against\":42}},\"home\":{\"played\":19,\"win\":12,\"draw\":5,\"lose\":2,\"goals\":{\"for\":45,\"against\":18}},\"away\":{\"played\":19,\"win\":10,\"draw\":5,\"lose\":4,\"goals\":{\"for\":33,\"against\":24}},\"update\":\"2018-02-15T00:00:00+00:00\"},{\"rank\":5,\"team\":{\"id\":42,\"name\":\"Arsenal\",\"logo\":\"https:\\/\\/media.api-sports.io\\/football\\/teams\\/42.png\"},\"points\":75,\"goalsDiff\":33,\"group\":\"Premier League\",\"form\":\"WWWWW\",\"status\":null,\"description\":\"UEFA Europa League\",\"all\":{\"played\":38,\"win\":23,\"draw\":6,\"lose\":9,\"goals\":{\"for\":77,\"against\":44}},\"home\":{\"played\":19,\"win\":14,\"draw\":3,\"lose\":2,\"goals\":{\"for\":39,\"against\":16}},\"away\":{\"played\":19,\"win\":9,\"draw\":3,\"lose\":7,\"goals\":{\"for\":38,\"against\":28}},\"update\":\"2018-02-15T00:00:00+00:00\"},{\"rank\":6,\"team\":{\"id\":33,\"name\":\"Manchester United\",\"logo\":\"https:\\/\\/media.api-sports.io\\/football\\/teams\\/33.png\"},\"points\":69,\"goalsDiff\":25,\"group\":\"Premier League\",\"form\":\"WDLLD\",\"status\":null,\"description\":null,\"all\":{\"played\":38,\"win\":18,\"draw\":15,\"lose\":5,\"goals\":{\"for\":54,\"against\":29}},\"home\":{\"played\":19,\"win\":8,\"draw\":10,\"lose\":1,\"goals\":{\"for\":26,\"against\":12}},\"away\":{\"played\":19,\"win\":10,\"draw\":5,\"lose\":4,\"goals\":{\"for\":28,\"against\":17}},\"update\":\"2018-02-15T00:00:00+00:00\"},{\"rank\":7,\"team\":{\"id\":45,\"name\":\"Everton\",\"logo\":\"https:\\/\\/media.api-sports.io\\/football\\/teams\\/45.png\"},\"points\":61,\"goalsDiff\":18,\"group\":\"Premier League\",\"form\":\"LWLLD\",\"status\":null,\"description\":null,\"all\":{\"played\":38,\"win\":17,\"draw\":10,\"lose\":11,\"goals\":{\"for\":62,\"against\":44}},\"home\":{\"played\":19,\"win\":13,\"draw\":4,\"lose\":2,\"goals\":{\"for\":42,\"against\":16}},\"away\":{\"played\":19,\"win\":4,\"draw\":6,\"lose\":9,\"goals\":{\"for\":20,\"against\":28}},\"update\":\"2018-02-15T00:00:00+00:00\"},{\"rank\":8,\"team\":{\"id\":41,\"name\":\"Southampton\",\"logo\":\"https:\\/\\/media.api-sports.io\\/football\\/teams\\/41.png\"},\"points\":46,\"goalsDiff\":-7,\"group\":\"Premier League\",\"form\":\"LDWLD\",\"status\":null,\"description\":null,\"all\":{\"played\":38,\"win\":12,\"draw\":10,\"lose\":16,\"goals\":{\"for\":41,\"against\":48}},\"home\":{\"played\":19,\"win\":6,\"draw\":6,\"lose\":7,\"goals\":{\"for\":17,\"against\":21}},\"away\":{\"played\":19,\"win\":6,\"draw\":4,\"lose\":9,\"goals\":{\"for\":24,\"against\":27}},\"update\":\"2018-02-15T00:00:00+00:00\"},{\"rank\":9,\"team\":{\"id\":35,\"name\":\"Bournemouth\",\"logo\":\"https:\\/\\/media.api-sports.io\\/football\\/teams\\/35.png\"},\"points\":46,\"goalsDiff\":-12,\"group\":\"Premier League\",\"form\":\"DWDWW\",\"status\":null,\"description\":null,\"all\":{\"played\":38,\"win\":12,\"draw\":10,\"lose\":16,\"goals\":{\"for\":55,\"against\":67}},\"home\":{\"played\":19,\"win\":9,\"draw\":4,\"lose\":6,\"goals\":{\"for\":35,\"against\":29}},\"away\":{\"played\":19,\"win\":3,\"draw\":6,\"lose\":10,\"goals\":{\"for\":20,\"against\":38}},\"update\":\"2018-02-15T00:00:00+00:00\"},{\"rank\":10,\"team\":{\"id\":60,\"name\":\"West Brom\",\"logo\":\"https:\\/\\/media.api-sports.io\\/football\\/teams\\/60.png\"},\"points\":45,\"goalsDiff\":-8,\"group\":\"Premier League\",\"form\":\"LLLDL\",\"status\":null,\"description\":null,\"all\":{\"played\":38,\"win\":12,\"draw\":9,\"lose\":17,\"goals\":{\"for\":43,\"against\":51}},\"home\":{\"played\":19,\"win\":9,\"draw\":2,\"lose\":8,\"goals\":{\"for\":27,\"against\":22}},\"away\":{\"played\":19,\"win\":3,\"draw\":7,\"lose\":9,\"goals\":{\"for\":16,\"against\":29}},\"update\":\"2018-02-15T00:00:00+00:00\"},{\"rank\":11,\"team\":{\"id\":48,\"name\":\"West Ham\",\"logo\":\"https:\\/\\/media.api-sports.io\\/football\\/teams\\/48.png\"},\"points\":45,\"goalsDiff\":-17,\"group\":\"Premier League\",\"form\":\"WLWDD\",\"status\":null,\"description\":null,\"all\":{\"played\":38,\"win\":12,\"draw\":9,\"lose\":17,\"goals\":{\"for\":47,\"against\":64}},\"home\":{\"played\":19,\"win\":7,\"draw\":4,\"lose\":8,\"goals\":{\"for\":19,\"against\":31}},\"away\":{\"played\":19,\"win\":5,\"draw\":5,\"lose\":9,\"goals\":{\"for\":28,\"against\":33}},\"update\":\"2018-02-15T00:00:00+00:00\"},{\"rank\":12,\"team\":{\"id\":46,\"name\":\"Leicester\",\"logo\":\"https:\\/\\/media.api-sports.io\\/football\\/teams\\/46.png\"},\"points\":44,\"goalsDiff\":-15,\"group\":\"Premier League\",\"form\":\"DLLWW\",\"status\":null,\"description\":null,\"all\":{\"played\":38,\"win\":12,\"draw\":8,\"lose\":18,\"goals\":{\"for\":48,\"against\":63}},\"home\":{\"played\":19,\"win\":10,\"draw\":4,\"lose\":5,\"goals\":{\"for\":31,\"against\":25}},\"away\":{\"played\":19,\"win\":2,\"draw\":4,\"lose\":13,\"goals\":{\"for\":17,\"against\":38}},\"update\":\"2018-02-15T00:00:00+00:00\"},{\"rank\":13,\"team\":{\"id\":75,\"name\":\"Stoke City\",\"logo\":\"https:\\/\\/media.api-sports.io\\/football\\/teams\\/75.png\"},\"points\":44,\"goalsDiff\":-15,\"group\":\"Premier League\",\"form\":\"WLDDL\",\"status\":null,\"description\":null,\"all\":{\"played\":38,\"win\":11,\"draw\":11,\"lose\":16,\"goals\":{\"for\":41,\"against\":56}},\"home\":{\"played\":19,\"win\":7,\"draw\":6,\"lose\":6,\"goals\":{\"for\":24,\"against\":24}},\"away\":{\"played\":19,\"win\":4,\"draw\":5,\"lose\":10,\"goals\":{\"for\":17,\"against\":32}},\"update\":\"2018-02-15T00:00:00+00:00\"},{\"rank\":14,\"team\":{\"id\":52,\"name\":\"Crystal Palace\",\"logo\":\"https:\\/\\/media.api-sports.io\\/football\\/teams\\/52.png\"},\"points\":41,\"goalsDiff\":-13,\"group\":\"Premier League\",\"form\":\"LWLLL\",\"status\":null,\"description\":null,\"all\":{\"played\":38,\"win\":12,\"draw\":5,\"lose\":21,\"goals\":{\"for\":50,\"against\":63}},\"home\":{\"played\":19,\"win\":6,\"draw\":2,\"lose\":11,\"goals\":{\"for\":24,\"against\":25}},\"away\":{\"played\":19,\"win\":6,\"draw\":3,\"lose\":10,\"goals\":{\"for\":26,\"against\":38}},\"update\":\"2018-02-15T00:00:00+00:00\"},{\"rank\":15,\"team\":{\"id\":76,\"name\":\"Swansea\",\"logo\":\"https:\\/\\/media.api-sports.io\\/football\\/teams\\/76.png\"},\"points\":41,\"goalsDiff\":-25,\"group\":\"Premier League\",\"form\":\"WWWDW\",\"status\":null,\"description\":null,\"all\":{\"played\":38,\"win\":12,\"draw\":5,\"lose\":21,\"goals\":{\"for\":45,\"against\":70}},\"home\":{\"played\":19,\"win\":8,\"draw\":3,\"lose\":8,\"goals\":{\"for\":27,\"against\":34}},\"away\":{\"played\":19,\"win\":4,\"draw\":2,\"lose\":13,\"goals\":{\"for\":18,\"against\":36}},\"update\":\"2018-02-15T00:00:00+00:00\"},{\"rank\":16,\"team\":{\"id\":44,\"name\":\"Burnley\",\"logo\":\"https:\\/\\/media.api-sports.io\\/football\\/teams\\/44.png\"},\"points\":40,\"goalsDiff\":-16,\"group\":\"Premier League\",\"form\":\"LLDWL\",\"status\":null,\"description\":null,\"all\":{\"played\":38,\"win\":11,\"draw\":7,\"lose\":20,\"goals\":{\"for\":39,\"against\":55}},\"home\":{\"played\":19,\"win\":10,\"draw\":3,\"lose\":6,\"goals\":{\"for\":26,\"against\":20}},\"away\":{\"played\":19,\"win\":1,\"draw\":4,\"lose\":14,\"goals\":{\"for\":13,\"against\":35}},\"update\":\"2018-02-15T00:00:00+00:00\"},{\"rank\":17,\"team\":{\"id\":38,\"name\":\"Watford\",\"logo\":\"https:\\/\\/media.api-sports.io\\/football\\/teams\\/38.png\"},\"points\":40,\"goalsDiff\":-28,\"group\":\"Premier League\",\"form\":\"LLLLL\",\"status\":null,\"description\":null,\"all\":{\"played\":38,\"win\":11,\"draw\":7,\"lose\":20,\"goals\":{\"for\":40,\"against\":68}},\"home\":{\"played\":19,\"win\":8,\"draw\":4,\"lose\":7,\"goals\":{\"for\":25,\"against\":29}},\"away\":{\"played\":19,\"win\":3,\"draw\":3,\"lose\":13,\"goals\":{\"for\":15,\"against\":39}},\"update\":\"2018-02-15T00:00:00+00:00\"},{\"rank\":18,\"team\":{\"id\":64,\"name\":\"Hull City\",\"logo\":\"https:\\/\\/media.api-sports.io\\/football\\/teams\\/64.png\"},\"points\":34,\"goalsDiff\":-43,\"group\":\"Premier League\",\"form\":\"LLLDW\",\"status\":null,\"description\":\"Relegation\",\"all\":{\"played\":38,\"win\":9,\"draw\":7,\"lose\":22,\"goals\":{\"for\":37,\"against\":80}},\"home\":{\"played\":19,\"win\":8,\"draw\":4,\"lose\":7,\"goals\":{\"for\":28,\"against\":35}},\"away\":{\"played\":19,\"win\":1,\"draw\":3,\"lose\":15,\"goals\":{\"for\":9,\"against\":45}},\"update\":\"2018-02-15T00:00:00+00:00\"},{\"rank\":19,\"team\":{\"id\":70,\"name\":\"Middlesbrough\",\"logo\":\"https:\\/\\/media.api-sports.io\\/football\\/teams\\/70.png\"},\"points\":28,\"goalsDiff\":-26,\"group\":\"Premier League\",\"form\":\"LLLDW\",\"status\":null,\"description\":\"Relegation\",\"all\":{\"played\":38,\"win\":5,\"draw\":13,\"lose\":20,\"goals\":{\"for\":27,\"against\":53}},\"home\":{\"played\":19,\"win\":4,\"draw\":6,\"lose\":9,\"goals\":{\"for\":17,\"against\":23}},\"away\":{\"played\":19,\"win\":1,\"draw\":7,\"lose\":11,\"goals\":{\"for\":10,\"against\":30}},\"update\":\"2018-02-15T00:00:00+00:00\"},{\"rank\":20,\"team\":{\"id\":746,\"name\":\"Sunderland\",\"logo\":\"https:\\/\\/media.api-sports.io\\/football\\/teams\\/746.png\"},\"points\":24,\"goalsDiff\":-40,\"group\":\"Premier League\",\"form\":\"LLLWL\",\"status\":null,\"description\":\"Relegation\",\"all\":{\"played\":38,\"win\":6,\"draw\":6,\"lose\":26,\"goals\":{\"for\":29,\"against\":69}},\"home\":{\"played\":19,\"win\":3,\"draw\":5,\"lose\":11,\"goals\":{\"for\":16,\"against\":34}},\"away\":{\"played\":19,\"win\":3,\"draw\":1,\"lose\":15,\"goals\":{\"for\":13,\"against\":35}},\"update\":\"2018-02-15T00:00:00+00:00\"}]]}}]}\n"
     ]
    }
   ],
   "source": [
    "#2016/2017\n",
    "url = \"https://api-football-v1.p.rapidapi.com/v3/standings\"\n",
    "\n",
    "querystring = {\"season\":\"2016\",\"league\":\"39\"}\n",
    "\n",
    "headers = {\n",
    "\t\"X-RapidAPI-Host\": \"api-football-v1.p.rapidapi.com\",\n",
    "\t\"X-RapidAPI-Key\": \"ecad4fe8femsh2bf7c9cd0fe9bedp159909jsn0f8655e543b0\"\n",
    "}\n",
    "\n",
    "resp5 = requests.request(\"GET\", url, headers=headers, params=querystring)\n",
    "\n",
    "print(resp5.text)"
   ]
  },
  {
   "cell_type": "code",
   "execution_count": 10,
   "metadata": {},
   "outputs": [
    {
     "data": {
      "text/html": [
       "<div>\n",
       "<style scoped>\n",
       "    .dataframe tbody tr th:only-of-type {\n",
       "        vertical-align: middle;\n",
       "    }\n",
       "\n",
       "    .dataframe tbody tr th {\n",
       "        vertical-align: top;\n",
       "    }\n",
       "\n",
       "    .dataframe thead th {\n",
       "        text-align: right;\n",
       "    }\n",
       "</style>\n",
       "<table border=\"1\" class=\"dataframe\">\n",
       "  <thead>\n",
       "    <tr style=\"text-align: right;\">\n",
       "      <th></th>\n",
       "      <th>rank</th>\n",
       "      <th>team</th>\n",
       "      <th>points</th>\n",
       "      <th>goalsDiff</th>\n",
       "      <th>group</th>\n",
       "      <th>form</th>\n",
       "      <th>status</th>\n",
       "      <th>description</th>\n",
       "      <th>all</th>\n",
       "      <th>home</th>\n",
       "      <th>away</th>\n",
       "      <th>update</th>\n",
       "    </tr>\n",
       "  </thead>\n",
       "  <tbody>\n",
       "    <tr>\n",
       "      <th>0</th>\n",
       "      <td>1</td>\n",
       "      <td>{'id': 49, 'name': 'Chelsea', 'logo': 'https:/...</td>\n",
       "      <td>93</td>\n",
       "      <td>52</td>\n",
       "      <td>Premier League</td>\n",
       "      <td>WWWWW</td>\n",
       "      <td>None</td>\n",
       "      <td>UEFA Champions League</td>\n",
       "      <td>{'played': 38, 'win': 30, 'draw': 3, 'lose': 5...</td>\n",
       "      <td>{'played': 19, 'win': 17, 'draw': 0, 'lose': 2...</td>\n",
       "      <td>{'played': 19, 'win': 13, 'draw': 3, 'lose': 3...</td>\n",
       "      <td>2018-02-15T00:00:00+00:00</td>\n",
       "    </tr>\n",
       "  </tbody>\n",
       "</table>\n",
       "</div>"
      ],
      "text/plain": [
       "   rank                                               team  points  goalsDiff  \\\n",
       "0     1  {'id': 49, 'name': 'Chelsea', 'logo': 'https:/...      93         52   \n",
       "\n",
       "            group   form status            description  \\\n",
       "0  Premier League  WWWWW   None  UEFA Champions League   \n",
       "\n",
       "                                                 all  \\\n",
       "0  {'played': 38, 'win': 30, 'draw': 3, 'lose': 5...   \n",
       "\n",
       "                                                home  \\\n",
       "0  {'played': 19, 'win': 17, 'draw': 0, 'lose': 2...   \n",
       "\n",
       "                                                away  \\\n",
       "0  {'played': 19, 'win': 13, 'draw': 3, 'lose': 3...   \n",
       "\n",
       "                      update  \n",
       "0  2018-02-15T00:00:00+00:00  "
      ]
     },
     "execution_count": 10,
     "metadata": {},
     "output_type": "execute_result"
    }
   ],
   "source": [
    "#2016/2017\n",
    "data5 = resp5.json()\n",
    "df2016 = pd.DataFrame(data5['response'][0]['league']['standings'][0])\n",
    "team2016 = df2016.iloc[0:1,:]\n",
    "team2016"
   ]
  },
  {
   "cell_type": "code",
   "execution_count": 11,
   "metadata": {},
   "outputs": [
    {
     "name": "stdout",
     "output_type": "stream",
     "text": [
      "{\"get\":\"standings\",\"parameters\":{\"league\":\"39\",\"season\":\"2015\"},\"errors\":[],\"results\":1,\"paging\":{\"current\":1,\"total\":1},\"response\":[{\"league\":{\"id\":39,\"name\":\"Premier League\",\"country\":\"England\",\"logo\":\"https:\\/\\/media.api-sports.io\\/football\\/leagues\\/39.png\",\"flag\":\"https:\\/\\/media.api-sports.io\\/flags\\/gb.svg\",\"season\":2015,\"standings\":[[{\"rank\":1,\"team\":{\"id\":46,\"name\":\"Leicester\",\"logo\":\"https:\\/\\/media.api-sports.io\\/football\\/teams\\/46.png\"},\"points\":81,\"goalsDiff\":32,\"group\":\"Premier League\",\"form\":\"DWDWD\",\"status\":null,\"description\":\"UEFA Champions League\",\"all\":{\"played\":38,\"win\":23,\"draw\":12,\"lose\":3,\"goals\":{\"for\":68,\"against\":36}},\"home\":{\"played\":19,\"win\":12,\"draw\":6,\"lose\":1,\"goals\":{\"for\":35,\"against\":18}},\"away\":{\"played\":19,\"win\":11,\"draw\":6,\"lose\":2,\"goals\":{\"for\":33,\"against\":18}},\"update\":\"2018-02-15T00:00:00+00:00\"},{\"rank\":2,\"team\":{\"id\":42,\"name\":\"Arsenal\",\"logo\":\"https:\\/\\/media.api-sports.io\\/football\\/teams\\/42.png\"},\"points\":71,\"goalsDiff\":29,\"group\":\"Premier League\",\"form\":\"WDWDW\",\"status\":null,\"description\":\"UEFA Champions League\",\"all\":{\"played\":38,\"win\":20,\"draw\":11,\"lose\":7,\"goals\":{\"for\":65,\"against\":36}},\"home\":{\"played\":19,\"win\":12,\"draw\":4,\"lose\":3,\"goals\":{\"for\":31,\"against\":11}},\"away\":{\"played\":19,\"win\":8,\"draw\":7,\"lose\":4,\"goals\":{\"for\":34,\"against\":25}},\"update\":\"2018-02-15T00:00:00+00:00\"},{\"rank\":3,\"team\":{\"id\":47,\"name\":\"Tottenham\",\"logo\":\"https:\\/\\/media.api-sports.io\\/football\\/teams\\/47.png\"},\"points\":70,\"goalsDiff\":34,\"group\":\"Premier League\",\"form\":\"LLDDW\",\"status\":null,\"description\":\"UEFA Champions League\",\"all\":{\"played\":38,\"win\":19,\"draw\":13,\"lose\":6,\"goals\":{\"for\":69,\"against\":35}},\"home\":{\"played\":19,\"win\":10,\"draw\":6,\"lose\":3,\"goals\":{\"for\":35,\"against\":15}},\"away\":{\"played\":19,\"win\":9,\"draw\":7,\"lose\":3,\"goals\":{\"for\":34,\"against\":20}},\"update\":\"2018-02-15T00:00:00+00:00\"},{\"rank\":4,\"team\":{\"id\":50,\"name\":\"Manchester City\",\"logo\":\"https:\\/\\/media.api-sports.io\\/football\\/teams\\/50.png\"},\"points\":66,\"goalsDiff\":30,\"group\":\"Premier League\",\"form\":\"DDLWD\",\"status\":null,\"description\":\"UEFA Champions League Qualifiers\",\"all\":{\"played\":38,\"win\":19,\"draw\":9,\"lose\":10,\"goals\":{\"for\":71,\"against\":41}},\"home\":{\"played\":19,\"win\":12,\"draw\":2,\"lose\":5,\"goals\":{\"for\":47,\"against\":21}},\"away\":{\"played\":19,\"win\":7,\"draw\":7,\"lose\":5,\"goals\":{\"for\":24,\"against\":20}},\"update\":\"2018-02-15T00:00:00+00:00\"},{\"rank\":5,\"team\":{\"id\":33,\"name\":\"Manchester United\",\"logo\":\"https:\\/\\/media.api-sports.io\\/football\\/teams\\/33.png\"},\"points\":66,\"goalsDiff\":14,\"group\":\"Premier League\",\"form\":\"WLWDW\",\"status\":null,\"description\":\"UEFA Europa League\",\"all\":{\"played\":38,\"win\":19,\"draw\":9,\"lose\":10,\"goals\":{\"for\":49,\"against\":35}},\"home\":{\"played\":19,\"win\":12,\"draw\":5,\"lose\":2,\"goals\":{\"for\":27,\"against\":9}},\"away\":{\"played\":19,\"win\":7,\"draw\":4,\"lose\":8,\"goals\":{\"for\":22,\"against\":26}},\"update\":\"2018-02-15T00:00:00+00:00\"},{\"rank\":6,\"team\":{\"id\":41,\"name\":\"Southampton\",\"logo\":\"https:\\/\\/media.api-sports.io\\/football\\/teams\\/41.png\"},\"points\":63,\"goalsDiff\":18,\"group\":\"Premier League\",\"form\":\"WWWWD\",\"status\":null,\"description\":null,\"all\":{\"played\":38,\"win\":18,\"draw\":9,\"lose\":11,\"goals\":{\"for\":59,\"against\":41}},\"home\":{\"played\":19,\"win\":11,\"draw\":3,\"lose\":5,\"goals\":{\"for\":39,\"against\":22}},\"away\":{\"played\":19,\"win\":7,\"draw\":6,\"lose\":6,\"goals\":{\"for\":20,\"against\":19}},\"update\":\"2018-02-15T00:00:00+00:00\"},{\"rank\":7,\"team\":{\"id\":48,\"name\":\"West Ham\",\"logo\":\"https:\\/\\/media.api-sports.io\\/football\\/teams\\/48.png\"},\"points\":62,\"goalsDiff\":14,\"group\":\"Premier League\",\"form\":\"LWLWW\",\"status\":null,\"description\":null,\"all\":{\"played\":38,\"win\":16,\"draw\":14,\"lose\":8,\"goals\":{\"for\":65,\"against\":51}},\"home\":{\"played\":19,\"win\":9,\"draw\":7,\"lose\":3,\"goals\":{\"for\":34,\"against\":26}},\"away\":{\"played\":19,\"win\":7,\"draw\":7,\"lose\":5,\"goals\":{\"for\":31,\"against\":25}},\"update\":\"2018-02-15T00:00:00+00:00\"},{\"rank\":8,\"team\":{\"id\":40,\"name\":\"Liverpool\",\"logo\":\"https:\\/\\/media.api-sports.io\\/football\\/teams\\/40.png\"},\"points\":60,\"goalsDiff\":13,\"group\":\"Premier League\",\"form\":\"DDWLD\",\"status\":null,\"description\":null,\"all\":{\"played\":38,\"win\":16,\"draw\":12,\"lose\":10,\"goals\":{\"for\":63,\"against\":50}},\"home\":{\"played\":19,\"win\":8,\"draw\":8,\"lose\":3,\"goals\":{\"for\":33,\"against\":22}},\"away\":{\"played\":19,\"win\":8,\"draw\":4,\"lose\":7,\"goals\":{\"for\":30,\"against\":28}},\"update\":\"2018-02-15T00:00:00+00:00\"},{\"rank\":9,\"team\":{\"id\":75,\"name\":\"Stoke City\",\"logo\":\"https:\\/\\/media.api-sports.io\\/football\\/teams\\/75.png\"},\"points\":51,\"goalsDiff\":-14,\"group\":\"Premier League\",\"form\":\"WLDLL\",\"status\":null,\"description\":null,\"all\":{\"played\":38,\"win\":14,\"draw\":9,\"lose\":15,\"goals\":{\"for\":41,\"against\":55}},\"home\":{\"played\":19,\"win\":8,\"draw\":4,\"lose\":7,\"goals\":{\"for\":22,\"against\":24}},\"away\":{\"played\":19,\"win\":6,\"draw\":5,\"lose\":8,\"goals\":{\"for\":19,\"against\":31}},\"update\":\"2018-02-15T00:00:00+00:00\"},{\"rank\":10,\"team\":{\"id\":49,\"name\":\"Chelsea\",\"logo\":\"https:\\/\\/media.api-sports.io\\/football\\/teams\\/49.png\"},\"points\":50,\"goalsDiff\":6,\"group\":\"Premier League\",\"form\":\"DDLDW\",\"status\":null,\"description\":null,\"all\":{\"played\":38,\"win\":12,\"draw\":14,\"lose\":12,\"goals\":{\"for\":59,\"against\":53}},\"home\":{\"played\":19,\"win\":5,\"draw\":9,\"lose\":5,\"goals\":{\"for\":32,\"against\":30}},\"away\":{\"played\":19,\"win\":7,\"draw\":5,\"lose\":7,\"goals\":{\"for\":27,\"against\":23}},\"update\":\"2018-02-15T00:00:00+00:00\"},{\"rank\":11,\"team\":{\"id\":45,\"name\":\"Everton\",\"logo\":\"https:\\/\\/media.api-sports.io\\/football\\/teams\\/45.png\"},\"points\":47,\"goalsDiff\":4,\"group\":\"Premier League\",\"form\":\"WLLWL\",\"status\":null,\"description\":null,\"all\":{\"played\":38,\"win\":11,\"draw\":14,\"lose\":13,\"goals\":{\"for\":59,\"against\":55}},\"home\":{\"played\":19,\"win\":6,\"draw\":5,\"lose\":8,\"goals\":{\"for\":35,\"against\":30}},\"away\":{\"played\":19,\"win\":5,\"draw\":9,\"lose\":5,\"goals\":{\"for\":24,\"against\":25}},\"update\":\"2018-02-15T00:00:00+00:00\"},{\"rank\":12,\"team\":{\"id\":76,\"name\":\"Swansea\",\"logo\":\"https:\\/\\/media.api-sports.io\\/football\\/teams\\/76.png\"},\"points\":47,\"goalsDiff\":-10,\"group\":\"Premier League\",\"form\":\"DWWLL\",\"status\":null,\"description\":null,\"all\":{\"played\":38,\"win\":12,\"draw\":11,\"lose\":15,\"goals\":{\"for\":42,\"against\":52}},\"home\":{\"played\":19,\"win\":8,\"draw\":6,\"lose\":5,\"goals\":{\"for\":20,\"against\":20}},\"away\":{\"played\":19,\"win\":4,\"draw\":5,\"lose\":10,\"goals\":{\"for\":22,\"against\":32}},\"update\":\"2018-02-15T00:00:00+00:00\"},{\"rank\":13,\"team\":{\"id\":38,\"name\":\"Watford\",\"logo\":\"https:\\/\\/media.api-sports.io\\/football\\/teams\\/38.png\"},\"points\":45,\"goalsDiff\":-10,\"group\":\"Premier League\",\"form\":\"DLLWL\",\"status\":null,\"description\":null,\"all\":{\"played\":38,\"win\":12,\"draw\":9,\"lose\":17,\"goals\":{\"for\":40,\"against\":50}},\"home\":{\"played\":19,\"win\":6,\"draw\":6,\"lose\":7,\"goals\":{\"for\":20,\"against\":19}},\"away\":{\"played\":19,\"win\":6,\"draw\":3,\"lose\":10,\"goals\":{\"for\":20,\"against\":31}},\"update\":\"2018-02-15T00:00:00+00:00\"},{\"rank\":14,\"team\":{\"id\":60,\"name\":\"West Brom\",\"logo\":\"https:\\/\\/media.api-sports.io\\/football\\/teams\\/60.png\"},\"points\":43,\"goalsDiff\":-14,\"group\":\"Premier League\",\"form\":\"DDLDL\",\"status\":null,\"description\":null,\"all\":{\"played\":38,\"win\":10,\"draw\":13,\"lose\":15,\"goals\":{\"for\":34,\"against\":48}},\"home\":{\"played\":19,\"win\":6,\"draw\":5,\"lose\":8,\"goals\":{\"for\":20,\"against\":26}},\"away\":{\"played\":19,\"win\":4,\"draw\":8,\"lose\":7,\"goals\":{\"for\":14,\"against\":22}},\"update\":\"2018-02-15T00:00:00+00:00\"},{\"rank\":15,\"team\":{\"id\":52,\"name\":\"Crystal Palace\",\"logo\":\"https:\\/\\/media.api-sports.io\\/football\\/teams\\/52.png\"},\"points\":42,\"goalsDiff\":-12,\"group\":\"Premier League\",\"form\":\"LWLLD\",\"status\":null,\"description\":null,\"all\":{\"played\":38,\"win\":11,\"draw\":9,\"lose\":18,\"goals\":{\"for\":39,\"against\":51}},\"home\":{\"played\":19,\"win\":6,\"draw\":3,\"lose\":10,\"goals\":{\"for\":19,\"against\":23}},\"away\":{\"played\":19,\"win\":5,\"draw\":6,\"lose\":8,\"goals\":{\"for\":20,\"against\":28}},\"update\":\"2018-02-15T00:00:00+00:00\"},{\"rank\":16,\"team\":{\"id\":35,\"name\":\"Bournemouth\",\"logo\":\"https:\\/\\/media.api-sports.io\\/football\\/teams\\/35.png\"},\"points\":42,\"goalsDiff\":-22,\"group\":\"Premier League\",\"form\":\"LDLLL\",\"status\":null,\"description\":null,\"all\":{\"played\":38,\"win\":11,\"draw\":9,\"lose\":18,\"goals\":{\"for\":45,\"against\":67}},\"home\":{\"played\":19,\"win\":5,\"draw\":5,\"lose\":9,\"goals\":{\"for\":23,\"against\":34}},\"away\":{\"played\":19,\"win\":6,\"draw\":4,\"lose\":9,\"goals\":{\"for\":22,\"against\":33}},\"update\":\"2018-02-15T00:00:00+00:00\"},{\"rank\":17,\"team\":{\"id\":746,\"name\":\"Sunderland\",\"logo\":\"https:\\/\\/media.api-sports.io\\/football\\/teams\\/746.png\"},\"points\":39,\"goalsDiff\":-14,\"group\":\"Premier League\",\"form\":\"DWWDD\",\"status\":null,\"description\":null,\"all\":{\"played\":38,\"win\":9,\"draw\":12,\"lose\":17,\"goals\":{\"for\":48,\"against\":62}},\"home\":{\"played\":19,\"win\":6,\"draw\":6,\"lose\":7,\"goals\":{\"for\":23,\"against\":20}},\"away\":{\"played\":19,\"win\":3,\"draw\":6,\"lose\":10,\"goals\":{\"for\":25,\"against\":42}},\"update\":\"2018-02-15T00:00:00+00:00\"},{\"rank\":18,\"team\":{\"id\":34,\"name\":\"Newcastle\",\"logo\":\"https:\\/\\/media.api-sports.io\\/football\\/teams\\/34.png\"},\"points\":37,\"goalsDiff\":-21,\"group\":\"Premier League\",\"form\":\"WDWDD\",\"status\":null,\"description\":\"Relegation\",\"all\":{\"played\":38,\"win\":9,\"draw\":10,\"lose\":19,\"goals\":{\"for\":44,\"against\":65}},\"home\":{\"played\":19,\"win\":7,\"draw\":7,\"lose\":5,\"goals\":{\"for\":32,\"against\":24}},\"away\":{\"played\":19,\"win\":2,\"draw\":3,\"lose\":14,\"goals\":{\"for\":12,\"against\":41}},\"update\":\"2018-02-15T00:00:00+00:00\"},{\"rank\":19,\"team\":{\"id\":71,\"name\":\"Norwich\",\"logo\":\"https:\\/\\/media.api-sports.io\\/football\\/teams\\/71.png\"},\"points\":34,\"goalsDiff\":-28,\"group\":\"Premier League\",\"form\":\"LWLLL\",\"status\":null,\"description\":\"Relegation\",\"all\":{\"played\":38,\"win\":9,\"draw\":7,\"lose\":22,\"goals\":{\"for\":39,\"against\":67}},\"home\":{\"played\":19,\"win\":6,\"draw\":5,\"lose\":8,\"goals\":{\"for\":26,\"against\":30}},\"away\":{\"played\":19,\"win\":3,\"draw\":2,\"lose\":14,\"goals\":{\"for\":13,\"against\":37}},\"update\":\"2018-02-15T00:00:00+00:00\"},{\"rank\":20,\"team\":{\"id\":66,\"name\":\"Aston Villa\",\"logo\":\"https:\\/\\/media.api-sports.io\\/football\\/teams\\/66.png\"},\"points\":17,\"goalsDiff\":-49,\"group\":\"Premier League\",\"form\":\"LDLLL\",\"status\":null,\"description\":\"Relegation\",\"all\":{\"played\":38,\"win\":3,\"draw\":8,\"lose\":27,\"goals\":{\"for\":27,\"against\":76}},\"home\":{\"played\":19,\"win\":2,\"draw\":5,\"lose\":12,\"goals\":{\"for\":14,\"against\":35}},\"away\":{\"played\":19,\"win\":1,\"draw\":3,\"lose\":15,\"goals\":{\"for\":13,\"against\":41}},\"update\":\"2018-02-15T00:00:00+00:00\"}]]}}]}\n"
     ]
    }
   ],
   "source": [
    "url = \"https://api-football-v1.p.rapidapi.com/v3/standings\"\n",
    "\n",
    "querystring = {\"season\":\"2015\",\"league\":\"39\"}\n",
    "\n",
    "headers = {\n",
    "\t\"X-RapidAPI-Host\": \"api-football-v1.p.rapidapi.com\",\n",
    "\t\"X-RapidAPI-Key\": \"ecad4fe8femsh2bf7c9cd0fe9bedp159909jsn0f8655e543b0\"\n",
    "}\n",
    "\n",
    "resp6 = requests.request(\"GET\", url, headers=headers, params=querystring)\n",
    "\n",
    "print(resp6.text)"
   ]
  },
  {
   "cell_type": "code",
   "execution_count": 12,
   "metadata": {},
   "outputs": [
    {
     "data": {
      "text/html": [
       "<div>\n",
       "<style scoped>\n",
       "    .dataframe tbody tr th:only-of-type {\n",
       "        vertical-align: middle;\n",
       "    }\n",
       "\n",
       "    .dataframe tbody tr th {\n",
       "        vertical-align: top;\n",
       "    }\n",
       "\n",
       "    .dataframe thead th {\n",
       "        text-align: right;\n",
       "    }\n",
       "</style>\n",
       "<table border=\"1\" class=\"dataframe\">\n",
       "  <thead>\n",
       "    <tr style=\"text-align: right;\">\n",
       "      <th></th>\n",
       "      <th>rank</th>\n",
       "      <th>team</th>\n",
       "      <th>points</th>\n",
       "      <th>goalsDiff</th>\n",
       "      <th>group</th>\n",
       "      <th>form</th>\n",
       "      <th>status</th>\n",
       "      <th>description</th>\n",
       "      <th>all</th>\n",
       "      <th>home</th>\n",
       "      <th>away</th>\n",
       "      <th>update</th>\n",
       "    </tr>\n",
       "  </thead>\n",
       "  <tbody>\n",
       "    <tr>\n",
       "      <th>0</th>\n",
       "      <td>1</td>\n",
       "      <td>{'id': 46, 'name': 'Leicester', 'logo': 'https...</td>\n",
       "      <td>81</td>\n",
       "      <td>32</td>\n",
       "      <td>Premier League</td>\n",
       "      <td>DWDWD</td>\n",
       "      <td>None</td>\n",
       "      <td>UEFA Champions League</td>\n",
       "      <td>{'played': 38, 'win': 23, 'draw': 12, 'lose': ...</td>\n",
       "      <td>{'played': 19, 'win': 12, 'draw': 6, 'lose': 1...</td>\n",
       "      <td>{'played': 19, 'win': 11, 'draw': 6, 'lose': 2...</td>\n",
       "      <td>2018-02-15T00:00:00+00:00</td>\n",
       "    </tr>\n",
       "  </tbody>\n",
       "</table>\n",
       "</div>"
      ],
      "text/plain": [
       "   rank                                               team  points  goalsDiff  \\\n",
       "0     1  {'id': 46, 'name': 'Leicester', 'logo': 'https...      81         32   \n",
       "\n",
       "            group   form status            description  \\\n",
       "0  Premier League  DWDWD   None  UEFA Champions League   \n",
       "\n",
       "                                                 all  \\\n",
       "0  {'played': 38, 'win': 23, 'draw': 12, 'lose': ...   \n",
       "\n",
       "                                                home  \\\n",
       "0  {'played': 19, 'win': 12, 'draw': 6, 'lose': 1...   \n",
       "\n",
       "                                                away  \\\n",
       "0  {'played': 19, 'win': 11, 'draw': 6, 'lose': 2...   \n",
       "\n",
       "                      update  \n",
       "0  2018-02-15T00:00:00+00:00  "
      ]
     },
     "execution_count": 12,
     "metadata": {},
     "output_type": "execute_result"
    }
   ],
   "source": [
    "#2015/2016\n",
    "data6 = resp6.json()\n",
    "df2015 = pd.DataFrame(data6['response'][0]['league']['standings'][0])\n",
    "team2015 = df2015.iloc[0:1,:]\n",
    "team2015"
   ]
  },
  {
   "cell_type": "code",
   "execution_count": 13,
   "metadata": {},
   "outputs": [
    {
     "name": "stdout",
     "output_type": "stream",
     "text": [
      "{\"get\":\"standings\",\"parameters\":{\"league\":\"39\",\"season\":\"2014\"},\"errors\":[],\"results\":1,\"paging\":{\"current\":1,\"total\":1},\"response\":[{\"league\":{\"id\":39,\"name\":\"Premier League\",\"country\":\"England\",\"logo\":\"https:\\/\\/media.api-sports.io\\/football\\/leagues\\/39.png\",\"flag\":\"https:\\/\\/media.api-sports.io\\/flags\\/gb.svg\",\"season\":2014,\"standings\":[[{\"rank\":1,\"team\":{\"id\":49,\"name\":\"Chelsea\",\"logo\":\"https:\\/\\/media.api-sports.io\\/football\\/teams\\/49.png\"},\"points\":87,\"goalsDiff\":41,\"group\":\"Premier League\",\"form\":\"WLDWW\",\"status\":null,\"description\":\"UEFA Champions League\",\"all\":{\"played\":38,\"win\":26,\"draw\":9,\"lose\":3,\"goals\":{\"for\":73,\"against\":32}},\"home\":{\"played\":19,\"win\":15,\"draw\":4,\"lose\":0,\"goals\":{\"for\":36,\"against\":9}},\"away\":{\"played\":19,\"win\":11,\"draw\":5,\"lose\":3,\"goals\":{\"for\":37,\"against\":23}},\"update\":\"2018-02-15T00:00:00+00:00\"},{\"rank\":2,\"team\":{\"id\":50,\"name\":\"Manchester City\",\"logo\":\"https:\\/\\/media.api-sports.io\\/football\\/teams\\/50.png\"},\"points\":79,\"goalsDiff\":45,\"group\":\"Premier League\",\"form\":\"WWWWW\",\"status\":null,\"description\":\"UEFA Champions League\",\"all\":{\"played\":38,\"win\":24,\"draw\":7,\"lose\":7,\"goals\":{\"for\":83,\"against\":38}},\"home\":{\"played\":19,\"win\":14,\"draw\":3,\"lose\":2,\"goals\":{\"for\":44,\"against\":14}},\"away\":{\"played\":19,\"win\":10,\"draw\":4,\"lose\":5,\"goals\":{\"for\":39,\"against\":24}},\"update\":\"2018-02-15T00:00:00+00:00\"},{\"rank\":3,\"team\":{\"id\":42,\"name\":\"Arsenal\",\"logo\":\"https:\\/\\/media.api-sports.io\\/football\\/teams\\/42.png\"},\"points\":75,\"goalsDiff\":35,\"group\":\"Premier League\",\"form\":\"WDDLW\",\"status\":null,\"description\":\"UEFA Champions League\",\"all\":{\"played\":38,\"win\":22,\"draw\":9,\"lose\":7,\"goals\":{\"for\":71,\"against\":36}},\"home\":{\"played\":19,\"win\":12,\"draw\":5,\"lose\":2,\"goals\":{\"for\":41,\"against\":14}},\"away\":{\"played\":19,\"win\":10,\"draw\":4,\"lose\":5,\"goals\":{\"for\":30,\"against\":22}},\"update\":\"2018-02-15T00:00:00+00:00\"},{\"rank\":4,\"team\":{\"id\":33,\"name\":\"Manchester United\",\"logo\":\"https:\\/\\/media.api-sports.io\\/football\\/teams\\/33.png\"},\"points\":70,\"goalsDiff\":25,\"group\":\"Premier League\",\"form\":\"DDWLL\",\"status\":null,\"description\":\"UEFA Champions League Qualifiers\",\"all\":{\"played\":38,\"win\":20,\"draw\":10,\"lose\":8,\"goals\":{\"for\":62,\"against\":37}},\"home\":{\"played\":19,\"win\":14,\"draw\":2,\"lose\":3,\"goals\":{\"for\":41,\"against\":15}},\"away\":{\"played\":19,\"win\":6,\"draw\":8,\"lose\":5,\"goals\":{\"for\":21,\"against\":22}},\"update\":\"2018-02-15T00:00:00+00:00\"},{\"rank\":5,\"team\":{\"id\":47,\"name\":\"Tottenham\",\"logo\":\"https:\\/\\/media.api-sports.io\\/football\\/teams\\/47.png\"},\"points\":64,\"goalsDiff\":5,\"group\":\"Premier League\",\"form\":\"WWLLD\",\"status\":null,\"description\":\"UEFA Europa League\",\"all\":{\"played\":38,\"win\":19,\"draw\":7,\"lose\":12,\"goals\":{\"for\":58,\"against\":53}},\"home\":{\"played\":19,\"win\":10,\"draw\":3,\"lose\":6,\"goals\":{\"for\":31,\"against\":24}},\"away\":{\"played\":19,\"win\":9,\"draw\":4,\"lose\":6,\"goals\":{\"for\":27,\"against\":29}},\"update\":\"2018-02-15T00:00:00+00:00\"},{\"rank\":6,\"team\":{\"id\":40,\"name\":\"Liverpool\",\"logo\":\"https:\\/\\/media.api-sports.io\\/football\\/teams\\/40.png\"},\"points\":62,\"goalsDiff\":4,\"group\":\"Premier League\",\"form\":\"LLDWL\",\"status\":null,\"description\":null,\"all\":{\"played\":38,\"win\":18,\"draw\":8,\"lose\":12,\"goals\":{\"for\":52,\"against\":48}},\"home\":{\"played\":19,\"win\":10,\"draw\":5,\"lose\":4,\"goals\":{\"for\":30,\"against\":20}},\"away\":{\"played\":19,\"win\":8,\"draw\":3,\"lose\":8,\"goals\":{\"for\":22,\"against\":28}},\"update\":\"2018-02-15T00:00:00+00:00\"},{\"rank\":7,\"team\":{\"id\":41,\"name\":\"Southampton\",\"logo\":\"https:\\/\\/media.api-sports.io\\/football\\/teams\\/41.png\"},\"points\":60,\"goalsDiff\":21,\"group\":\"Premier League\",\"form\":\"LWLLD\",\"status\":null,\"description\":null,\"all\":{\"played\":38,\"win\":18,\"draw\":6,\"lose\":14,\"goals\":{\"for\":54,\"against\":33}},\"home\":{\"played\":19,\"win\":11,\"draw\":4,\"lose\":4,\"goals\":{\"for\":37,\"against\":13}},\"away\":{\"played\":19,\"win\":7,\"draw\":2,\"lose\":10,\"goals\":{\"for\":17,\"against\":20}},\"update\":\"2018-02-15T00:00:00+00:00\"},{\"rank\":8,\"team\":{\"id\":76,\"name\":\"Swansea\",\"logo\":\"https:\\/\\/media.api-sports.io\\/football\\/teams\\/76.png\"},\"points\":56,\"goalsDiff\":-3,\"group\":\"Premier League\",\"form\":\"LLWWW\",\"status\":null,\"description\":null,\"all\":{\"played\":38,\"win\":16,\"draw\":8,\"lose\":14,\"goals\":{\"for\":46,\"against\":49}},\"home\":{\"played\":19,\"win\":9,\"draw\":5,\"lose\":5,\"goals\":{\"for\":27,\"against\":22}},\"away\":{\"played\":19,\"win\":7,\"draw\":3,\"lose\":9,\"goals\":{\"for\":19,\"against\":27}},\"update\":\"2018-02-15T00:00:00+00:00\"},{\"rank\":9,\"team\":{\"id\":75,\"name\":\"Stoke City\",\"logo\":\"https:\\/\\/media.api-sports.io\\/football\\/teams\\/75.png\"},\"points\":54,\"goalsDiff\":3,\"group\":\"Premier League\",\"form\":\"WDWLD\",\"status\":null,\"description\":null,\"all\":{\"played\":38,\"win\":15,\"draw\":9,\"lose\":14,\"goals\":{\"for\":48,\"against\":45}},\"home\":{\"played\":19,\"win\":10,\"draw\":3,\"lose\":6,\"goals\":{\"for\":32,\"against\":22}},\"away\":{\"played\":19,\"win\":5,\"draw\":6,\"lose\":8,\"goals\":{\"for\":16,\"against\":23}},\"update\":\"2018-02-15T00:00:00+00:00\"},{\"rank\":10,\"team\":{\"id\":52,\"name\":\"Crystal Palace\",\"logo\":\"https:\\/\\/media.api-sports.io\\/football\\/teams\\/52.png\"},\"points\":48,\"goalsDiff\":-4,\"group\":\"Premier League\",\"form\":\"WWLLL\",\"status\":null,\"description\":null,\"all\":{\"played\":38,\"win\":13,\"draw\":9,\"lose\":16,\"goals\":{\"for\":47,\"against\":51}},\"home\":{\"played\":19,\"win\":6,\"draw\":3,\"lose\":10,\"goals\":{\"for\":21,\"against\":27}},\"away\":{\"played\":19,\"win\":7,\"draw\":6,\"lose\":6,\"goals\":{\"for\":26,\"against\":24}},\"update\":\"2018-02-15T00:00:00+00:00\"},{\"rank\":11,\"team\":{\"id\":45,\"name\":\"Everton\",\"logo\":\"https:\\/\\/media.api-sports.io\\/football\\/teams\\/45.png\"},\"points\":47,\"goalsDiff\":-2,\"group\":\"Premier League\",\"form\":\"LWLLW\",\"status\":null,\"description\":null,\"all\":{\"played\":38,\"win\":12,\"draw\":11,\"lose\":15,\"goals\":{\"for\":48,\"against\":50}},\"home\":{\"played\":19,\"win\":7,\"draw\":7,\"lose\":5,\"goals\":{\"for\":27,\"against\":21}},\"away\":{\"played\":19,\"win\":5,\"draw\":4,\"lose\":10,\"goals\":{\"for\":21,\"against\":29}},\"update\":\"2018-02-15T00:00:00+00:00\"},{\"rank\":12,\"team\":{\"id\":48,\"name\":\"West Ham\",\"logo\":\"https:\\/\\/media.api-sports.io\\/football\\/teams\\/48.png\"},\"points\":47,\"goalsDiff\":-3,\"group\":\"Premier League\",\"form\":\"LLLWD\",\"status\":null,\"description\":null,\"all\":{\"played\":38,\"win\":12,\"draw\":11,\"lose\":15,\"goals\":{\"for\":44,\"against\":47}},\"home\":{\"played\":19,\"win\":9,\"draw\":4,\"lose\":6,\"goals\":{\"for\":25,\"against\":18}},\"away\":{\"played\":19,\"win\":3,\"draw\":7,\"lose\":9,\"goals\":{\"for\":19,\"against\":29}},\"update\":\"2018-02-15T00:00:00+00:00\"},{\"rank\":13,\"team\":{\"id\":60,\"name\":\"West Brom\",\"logo\":\"https:\\/\\/media.api-sports.io\\/football\\/teams\\/60.png\"},\"points\":44,\"goalsDiff\":-13,\"group\":\"Premier League\",\"form\":\"LWDWD\",\"status\":null,\"description\":null,\"all\":{\"played\":38,\"win\":11,\"draw\":11,\"lose\":16,\"goals\":{\"for\":38,\"against\":51}},\"home\":{\"played\":19,\"win\":7,\"draw\":4,\"lose\":8,\"goals\":{\"for\":24,\"against\":26}},\"away\":{\"played\":19,\"win\":4,\"draw\":7,\"lose\":8,\"goals\":{\"for\":14,\"against\":25}},\"update\":\"2018-02-15T00:00:00+00:00\"},{\"rank\":14,\"team\":{\"id\":46,\"name\":\"Leicester\",\"logo\":\"https:\\/\\/media.api-sports.io\\/football\\/teams\\/46.png\"},\"points\":41,\"goalsDiff\":-9,\"group\":\"Premier League\",\"form\":\"WDWWL\",\"status\":null,\"description\":null,\"all\":{\"played\":38,\"win\":11,\"draw\":8,\"lose\":19,\"goals\":{\"for\":46,\"against\":55}},\"home\":{\"played\":19,\"win\":7,\"draw\":5,\"lose\":7,\"goals\":{\"for\":28,\"against\":22}},\"away\":{\"played\":19,\"win\":4,\"draw\":3,\"lose\":12,\"goals\":{\"for\":18,\"against\":33}},\"update\":\"2018-02-15T00:00:00+00:00\"},{\"rank\":15,\"team\":{\"id\":34,\"name\":\"Newcastle\",\"logo\":\"https:\\/\\/media.api-sports.io\\/football\\/teams\\/34.png\"},\"points\":39,\"goalsDiff\":-23,\"group\":\"Premier League\",\"form\":\"WLDLL\",\"status\":null,\"description\":null,\"all\":{\"played\":38,\"win\":10,\"draw\":9,\"lose\":19,\"goals\":{\"for\":40,\"against\":63}},\"home\":{\"played\":19,\"win\":7,\"draw\":5,\"lose\":7,\"goals\":{\"for\":26,\"against\":27}},\"away\":{\"played\":19,\"win\":3,\"draw\":4,\"lose\":12,\"goals\":{\"for\":14,\"against\":36}},\"update\":\"2018-02-15T00:00:00+00:00\"},{\"rank\":16,\"team\":{\"id\":746,\"name\":\"Sunderland\",\"logo\":\"https:\\/\\/media.api-sports.io\\/football\\/teams\\/746.png\"},\"points\":38,\"goalsDiff\":-22,\"group\":\"Premier League\",\"form\":\"LDDWW\",\"status\":null,\"description\":null,\"all\":{\"played\":38,\"win\":7,\"draw\":17,\"lose\":14,\"goals\":{\"for\":31,\"against\":53}},\"home\":{\"played\":19,\"win\":4,\"draw\":8,\"lose\":7,\"goals\":{\"for\":16,\"against\":27}},\"away\":{\"played\":19,\"win\":3,\"draw\":9,\"lose\":7,\"goals\":{\"for\":15,\"against\":26}},\"update\":\"2018-02-15T00:00:00+00:00\"},{\"rank\":17,\"team\":{\"id\":66,\"name\":\"Aston Villa\",\"logo\":\"https:\\/\\/media.api-sports.io\\/football\\/teams\\/66.png\"},\"points\":38,\"goalsDiff\":-26,\"group\":\"Premier League\",\"form\":\"LLWWL\",\"status\":null,\"description\":null,\"all\":{\"played\":38,\"win\":10,\"draw\":8,\"lose\":20,\"goals\":{\"for\":31,\"against\":57}},\"home\":{\"played\":19,\"win\":5,\"draw\":6,\"lose\":8,\"goals\":{\"for\":18,\"against\":25}},\"away\":{\"played\":19,\"win\":5,\"draw\":2,\"lose\":12,\"goals\":{\"for\":13,\"against\":32}},\"update\":\"2018-02-15T00:00:00+00:00\"},{\"rank\":18,\"team\":{\"id\":64,\"name\":\"Hull City\",\"logo\":\"https:\\/\\/media.api-sports.io\\/football\\/teams\\/64.png\"},\"points\":35,\"goalsDiff\":-18,\"group\":\"Premier League\",\"form\":\"DLLLW\",\"status\":null,\"description\":\"Relegation\",\"all\":{\"played\":38,\"win\":8,\"draw\":11,\"lose\":19,\"goals\":{\"for\":33,\"against\":51}},\"home\":{\"played\":19,\"win\":5,\"draw\":5,\"lose\":9,\"goals\":{\"for\":19,\"against\":24}},\"away\":{\"played\":19,\"win\":3,\"draw\":6,\"lose\":10,\"goals\":{\"for\":14,\"against\":27}},\"update\":\"2018-02-15T00:00:00+00:00\"},{\"rank\":19,\"team\":{\"id\":44,\"name\":\"Burnley\",\"logo\":\"https:\\/\\/media.api-sports.io\\/football\\/teams\\/44.png\"},\"points\":33,\"goalsDiff\":-25,\"group\":\"Premier League\",\"form\":\"WDWLL\",\"status\":null,\"description\":\"Relegation\",\"all\":{\"played\":38,\"win\":7,\"draw\":12,\"lose\":19,\"goals\":{\"for\":28,\"against\":53}},\"home\":{\"played\":19,\"win\":4,\"draw\":7,\"lose\":8,\"goals\":{\"for\":14,\"against\":21}},\"away\":{\"played\":19,\"win\":3,\"draw\":5,\"lose\":11,\"goals\":{\"for\":14,\"against\":32}},\"update\":\"2018-02-15T00:00:00+00:00\"},{\"rank\":20,\"team\":{\"id\":72,\"name\":\"QPR\",\"logo\":\"https:\\/\\/media.api-sports.io\\/football\\/teams\\/72.png\"},\"points\":30,\"goalsDiff\":-31,\"group\":\"Premier League\",\"form\":\"LWLLD\",\"status\":null,\"description\":\"Relegation\",\"all\":{\"played\":38,\"win\":8,\"draw\":6,\"lose\":24,\"goals\":{\"for\":42,\"against\":73}},\"home\":{\"played\":19,\"win\":6,\"draw\":5,\"lose\":8,\"goals\":{\"for\":23,\"against\":24}},\"away\":{\"played\":19,\"win\":2,\"draw\":1,\"lose\":16,\"goals\":{\"for\":19,\"against\":49}},\"update\":\"2018-02-15T00:00:00+00:00\"}]]}}]}\n"
     ]
    }
   ],
   "source": [
    "url = \"https://api-football-v1.p.rapidapi.com/v3/standings\"\n",
    "\n",
    "querystring = {\"season\":\"2014\",\"league\":\"39\"}\n",
    "\n",
    "headers = {\n",
    "\t\"X-RapidAPI-Host\": \"api-football-v1.p.rapidapi.com\",\n",
    "\t\"X-RapidAPI-Key\": \"ecad4fe8femsh2bf7c9cd0fe9bedp159909jsn0f8655e543b0\"\n",
    "}\n",
    "\n",
    "resp7 = requests.request(\"GET\", url, headers=headers, params=querystring)\n",
    "\n",
    "print(resp7.text)"
   ]
  },
  {
   "cell_type": "code",
   "execution_count": 14,
   "metadata": {},
   "outputs": [
    {
     "data": {
      "text/html": [
       "<div>\n",
       "<style scoped>\n",
       "    .dataframe tbody tr th:only-of-type {\n",
       "        vertical-align: middle;\n",
       "    }\n",
       "\n",
       "    .dataframe tbody tr th {\n",
       "        vertical-align: top;\n",
       "    }\n",
       "\n",
       "    .dataframe thead th {\n",
       "        text-align: right;\n",
       "    }\n",
       "</style>\n",
       "<table border=\"1\" class=\"dataframe\">\n",
       "  <thead>\n",
       "    <tr style=\"text-align: right;\">\n",
       "      <th></th>\n",
       "      <th>rank</th>\n",
       "      <th>team</th>\n",
       "      <th>points</th>\n",
       "      <th>goalsDiff</th>\n",
       "      <th>group</th>\n",
       "      <th>form</th>\n",
       "      <th>status</th>\n",
       "      <th>description</th>\n",
       "      <th>all</th>\n",
       "      <th>home</th>\n",
       "      <th>away</th>\n",
       "      <th>update</th>\n",
       "    </tr>\n",
       "  </thead>\n",
       "  <tbody>\n",
       "    <tr>\n",
       "      <th>0</th>\n",
       "      <td>1</td>\n",
       "      <td>{'id': 49, 'name': 'Chelsea', 'logo': 'https:/...</td>\n",
       "      <td>87</td>\n",
       "      <td>41</td>\n",
       "      <td>Premier League</td>\n",
       "      <td>WLDWW</td>\n",
       "      <td>None</td>\n",
       "      <td>UEFA Champions League</td>\n",
       "      <td>{'played': 38, 'win': 26, 'draw': 9, 'lose': 3...</td>\n",
       "      <td>{'played': 19, 'win': 15, 'draw': 4, 'lose': 0...</td>\n",
       "      <td>{'played': 19, 'win': 11, 'draw': 5, 'lose': 3...</td>\n",
       "      <td>2018-02-15T00:00:00+00:00</td>\n",
       "    </tr>\n",
       "  </tbody>\n",
       "</table>\n",
       "</div>"
      ],
      "text/plain": [
       "   rank                                               team  points  goalsDiff  \\\n",
       "0     1  {'id': 49, 'name': 'Chelsea', 'logo': 'https:/...      87         41   \n",
       "\n",
       "            group   form status            description  \\\n",
       "0  Premier League  WLDWW   None  UEFA Champions League   \n",
       "\n",
       "                                                 all  \\\n",
       "0  {'played': 38, 'win': 26, 'draw': 9, 'lose': 3...   \n",
       "\n",
       "                                                home  \\\n",
       "0  {'played': 19, 'win': 15, 'draw': 4, 'lose': 0...   \n",
       "\n",
       "                                                away  \\\n",
       "0  {'played': 19, 'win': 11, 'draw': 5, 'lose': 3...   \n",
       "\n",
       "                      update  \n",
       "0  2018-02-15T00:00:00+00:00  "
      ]
     },
     "execution_count": 14,
     "metadata": {},
     "output_type": "execute_result"
    }
   ],
   "source": [
    "#2014/2015\n",
    "data7 = resp7.json()\n",
    "df2014 = pd.DataFrame(data7['response'][0]['league']['standings'][0])\n",
    "team2014 = df2014.iloc[0:1,:]\n",
    "team2014"
   ]
  },
  {
   "cell_type": "code",
   "execution_count": 15,
   "metadata": {},
   "outputs": [
    {
     "name": "stdout",
     "output_type": "stream",
     "text": [
      "{\"get\":\"standings\",\"parameters\":{\"league\":\"39\",\"season\":\"2013\"},\"errors\":[],\"results\":1,\"paging\":{\"current\":1,\"total\":1},\"response\":[{\"league\":{\"id\":39,\"name\":\"Premier League\",\"country\":\"England\",\"logo\":\"https:\\/\\/media.api-sports.io\\/football\\/leagues\\/39.png\",\"flag\":\"https:\\/\\/media.api-sports.io\\/flags\\/gb.svg\",\"season\":2013,\"standings\":[[{\"rank\":1,\"team\":{\"id\":50,\"name\":\"Manchester City\",\"logo\":\"https:\\/\\/media.api-sports.io\\/football\\/teams\\/50.png\"},\"points\":86,\"goalsDiff\":65,\"group\":\"Premier League\",\"form\":\"WWWWW\",\"status\":null,\"description\":\"UEFA Champions League\",\"all\":{\"played\":38,\"win\":27,\"draw\":5,\"lose\":6,\"goals\":{\"for\":102,\"against\":37}},\"home\":{\"played\":19,\"win\":17,\"draw\":1,\"lose\":1,\"goals\":{\"for\":63,\"against\":13}},\"away\":{\"played\":19,\"win\":10,\"draw\":4,\"lose\":5,\"goals\":{\"for\":39,\"against\":24}},\"update\":\"2018-02-15T00:00:00+00:00\"},{\"rank\":2,\"team\":{\"id\":40,\"name\":\"Liverpool\",\"logo\":\"https:\\/\\/media.api-sports.io\\/football\\/teams\\/40.png\"},\"points\":84,\"goalsDiff\":51,\"group\":\"Premier League\",\"form\":\"WDLWW\",\"status\":null,\"description\":\"UEFA Champions League\",\"all\":{\"played\":38,\"win\":26,\"draw\":6,\"lose\":6,\"goals\":{\"for\":101,\"against\":50}},\"home\":{\"played\":19,\"win\":16,\"draw\":1,\"lose\":2,\"goals\":{\"for\":53,\"against\":18}},\"away\":{\"played\":19,\"win\":10,\"draw\":5,\"lose\":4,\"goals\":{\"for\":48,\"against\":32}},\"update\":\"2018-02-15T00:00:00+00:00\"},{\"rank\":3,\"team\":{\"id\":49,\"name\":\"Chelsea\",\"logo\":\"https:\\/\\/media.api-sports.io\\/football\\/teams\\/49.png\"},\"points\":82,\"goalsDiff\":44,\"group\":\"Premier League\",\"form\":\"WDWLW\",\"status\":null,\"description\":\"UEFA Champions League\",\"all\":{\"played\":38,\"win\":25,\"draw\":7,\"lose\":6,\"goals\":{\"for\":71,\"against\":27}},\"home\":{\"played\":19,\"win\":15,\"draw\":3,\"lose\":1,\"goals\":{\"for\":43,\"against\":11}},\"away\":{\"played\":19,\"win\":10,\"draw\":4,\"lose\":5,\"goals\":{\"for\":28,\"against\":16}},\"update\":\"2018-02-15T00:00:00+00:00\"},{\"rank\":4,\"team\":{\"id\":42,\"name\":\"Arsenal\",\"logo\":\"https:\\/\\/media.api-sports.io\\/football\\/teams\\/42.png\"},\"points\":79,\"goalsDiff\":27,\"group\":\"Premier League\",\"form\":\"WWWWW\",\"status\":null,\"description\":\"UEFA Champions League Qualifiers\",\"all\":{\"played\":38,\"win\":24,\"draw\":7,\"lose\":7,\"goals\":{\"for\":68,\"against\":41}},\"home\":{\"played\":19,\"win\":13,\"draw\":5,\"lose\":1,\"goals\":{\"for\":36,\"against\":11}},\"away\":{\"played\":19,\"win\":11,\"draw\":2,\"lose\":6,\"goals\":{\"for\":32,\"against\":30}},\"update\":\"2018-02-15T00:00:00+00:00\"},{\"rank\":5,\"team\":{\"id\":45,\"name\":\"Everton\",\"logo\":\"https:\\/\\/media.api-sports.io\\/football\\/teams\\/45.png\"},\"points\":72,\"goalsDiff\":22,\"group\":\"Premier League\",\"form\":\"WLLWL\",\"status\":null,\"description\":\"UEFA Europa League\",\"all\":{\"played\":38,\"win\":21,\"draw\":9,\"lose\":8,\"goals\":{\"for\":61,\"against\":39}},\"home\":{\"played\":19,\"win\":13,\"draw\":3,\"lose\":3,\"goals\":{\"for\":38,\"against\":19}},\"away\":{\"played\":19,\"win\":8,\"draw\":6,\"lose\":5,\"goals\":{\"for\":23,\"against\":20}},\"update\":\"2018-02-15T00:00:00+00:00\"},{\"rank\":6,\"team\":{\"id\":47,\"name\":\"Tottenham\",\"logo\":\"https:\\/\\/media.api-sports.io\\/football\\/teams\\/47.png\"},\"points\":69,\"goalsDiff\":4,\"group\":\"Premier League\",\"form\":\"WLWWD\",\"status\":null,\"description\":null,\"all\":{\"played\":38,\"win\":21,\"draw\":6,\"lose\":11,\"goals\":{\"for\":55,\"against\":51}},\"home\":{\"played\":19,\"win\":11,\"draw\":3,\"lose\":5,\"goals\":{\"for\":30,\"against\":23}},\"away\":{\"played\":19,\"win\":10,\"draw\":3,\"lose\":6,\"goals\":{\"for\":25,\"against\":28}},\"update\":\"2018-02-15T00:00:00+00:00\"},{\"rank\":7,\"team\":{\"id\":33,\"name\":\"Manchester United\",\"logo\":\"https:\\/\\/media.api-sports.io\\/football\\/teams\\/33.png\"},\"points\":64,\"goalsDiff\":21,\"group\":\"Premier League\",\"form\":\"DWLWL\",\"status\":null,\"description\":null,\"all\":{\"played\":38,\"win\":19,\"draw\":7,\"lose\":12,\"goals\":{\"for\":64,\"against\":43}},\"home\":{\"played\":19,\"win\":9,\"draw\":3,\"lose\":7,\"goals\":{\"for\":29,\"against\":21}},\"away\":{\"played\":19,\"win\":10,\"draw\":4,\"lose\":5,\"goals\":{\"for\":35,\"against\":22}},\"update\":\"2018-02-15T00:00:00+00:00\"},{\"rank\":8,\"team\":{\"id\":41,\"name\":\"Southampton\",\"logo\":\"https:\\/\\/media.api-sports.io\\/football\\/teams\\/41.png\"},\"points\":56,\"goalsDiff\":8,\"group\":\"Premier League\",\"form\":\"DWWDL\",\"status\":null,\"description\":null,\"all\":{\"played\":38,\"win\":15,\"draw\":11,\"lose\":12,\"goals\":{\"for\":54,\"against\":46}},\"home\":{\"played\":19,\"win\":8,\"draw\":6,\"lose\":5,\"goals\":{\"for\":32,\"against\":23}},\"away\":{\"played\":19,\"win\":7,\"draw\":5,\"lose\":7,\"goals\":{\"for\":22,\"against\":23}},\"update\":\"2018-02-15T00:00:00+00:00\"},{\"rank\":9,\"team\":{\"id\":75,\"name\":\"Stoke City\",\"logo\":\"https:\\/\\/media.api-sports.io\\/football\\/teams\\/75.png\"},\"points\":50,\"goalsDiff\":-7,\"group\":\"Premier League\",\"form\":\"WWLDW\",\"status\":null,\"description\":null,\"all\":{\"played\":38,\"win\":13,\"draw\":11,\"lose\":14,\"goals\":{\"for\":45,\"against\":52}},\"home\":{\"played\":19,\"win\":10,\"draw\":6,\"lose\":3,\"goals\":{\"for\":27,\"against\":17}},\"away\":{\"played\":19,\"win\":3,\"draw\":5,\"lose\":11,\"goals\":{\"for\":18,\"against\":35}},\"update\":\"2018-02-15T00:00:00+00:00\"},{\"rank\":10,\"team\":{\"id\":34,\"name\":\"Newcastle\",\"logo\":\"https:\\/\\/media.api-sports.io\\/football\\/teams\\/34.png\"},\"points\":49,\"goalsDiff\":-16,\"group\":\"Premier League\",\"form\":\"LWLLL\",\"status\":null,\"description\":null,\"all\":{\"played\":38,\"win\":15,\"draw\":4,\"lose\":19,\"goals\":{\"for\":43,\"against\":59}},\"home\":{\"played\":19,\"win\":8,\"draw\":3,\"lose\":8,\"goals\":{\"for\":23,\"against\":28}},\"away\":{\"played\":19,\"win\":7,\"draw\":1,\"lose\":11,\"goals\":{\"for\":20,\"against\":31}},\"update\":\"2018-02-15T00:00:00+00:00\"},{\"rank\":11,\"team\":{\"id\":52,\"name\":\"Crystal Palace\",\"logo\":\"https:\\/\\/media.api-sports.io\\/football\\/teams\\/52.png\"},\"points\":45,\"goalsDiff\":-15,\"group\":\"Premier League\",\"form\":\"DDLWW\",\"status\":null,\"description\":null,\"all\":{\"played\":38,\"win\":13,\"draw\":6,\"lose\":19,\"goals\":{\"for\":33,\"against\":48}},\"home\":{\"played\":19,\"win\":8,\"draw\":3,\"lose\":8,\"goals\":{\"for\":18,\"against\":23}},\"away\":{\"played\":19,\"win\":5,\"draw\":3,\"lose\":11,\"goals\":{\"for\":15,\"against\":25}},\"update\":\"2018-02-15T00:00:00+00:00\"},{\"rank\":12,\"team\":{\"id\":76,\"name\":\"Swansea\",\"logo\":\"https:\\/\\/media.api-sports.io\\/football\\/teams\\/76.png\"},\"points\":42,\"goalsDiff\":0,\"group\":\"Premier League\",\"form\":\"WLWWL\",\"status\":null,\"description\":null,\"all\":{\"played\":38,\"win\":11,\"draw\":9,\"lose\":18,\"goals\":{\"for\":54,\"against\":54}},\"home\":{\"played\":19,\"win\":6,\"draw\":5,\"lose\":8,\"goals\":{\"for\":33,\"against\":26}},\"away\":{\"played\":19,\"win\":5,\"draw\":4,\"lose\":10,\"goals\":{\"for\":21,\"against\":28}},\"update\":\"2018-02-15T00:00:00+00:00\"},{\"rank\":13,\"team\":{\"id\":48,\"name\":\"West Ham\",\"logo\":\"https:\\/\\/media.api-sports.io\\/football\\/teams\\/48.png\"},\"points\":40,\"goalsDiff\":-11,\"group\":\"Premier League\",\"form\":\"LWLLL\",\"status\":null,\"description\":null,\"all\":{\"played\":38,\"win\":11,\"draw\":7,\"lose\":20,\"goals\":{\"for\":40,\"against\":51}},\"home\":{\"played\":19,\"win\":7,\"draw\":3,\"lose\":9,\"goals\":{\"for\":25,\"against\":26}},\"away\":{\"played\":19,\"win\":4,\"draw\":4,\"lose\":11,\"goals\":{\"for\":15,\"against\":25}},\"update\":\"2018-02-15T00:00:00+00:00\"},{\"rank\":14,\"team\":{\"id\":746,\"name\":\"Sunderland\",\"logo\":\"https:\\/\\/media.api-sports.io\\/football\\/teams\\/746.png\"},\"points\":38,\"goalsDiff\":-19,\"group\":\"Premier League\",\"form\":\"LWWWW\",\"status\":null,\"description\":null,\"all\":{\"played\":38,\"win\":10,\"draw\":8,\"lose\":20,\"goals\":{\"for\":41,\"against\":60}},\"home\":{\"played\":19,\"win\":5,\"draw\":3,\"lose\":11,\"goals\":{\"for\":21,\"against\":27}},\"away\":{\"played\":19,\"win\":5,\"draw\":5,\"lose\":9,\"goals\":{\"for\":20,\"against\":33}},\"update\":\"2018-02-15T00:00:00+00:00\"},{\"rank\":15,\"team\":{\"id\":66,\"name\":\"Aston Villa\",\"logo\":\"https:\\/\\/media.api-sports.io\\/football\\/teams\\/66.png\"},\"points\":38,\"goalsDiff\":-22,\"group\":\"Premier League\",\"form\":\"LLWLD\",\"status\":null,\"description\":null,\"all\":{\"played\":38,\"win\":10,\"draw\":8,\"lose\":20,\"goals\":{\"for\":39,\"against\":61}},\"home\":{\"played\":19,\"win\":6,\"draw\":3,\"lose\":10,\"goals\":{\"for\":22,\"against\":29}},\"away\":{\"played\":19,\"win\":4,\"draw\":5,\"lose\":10,\"goals\":{\"for\":17,\"against\":32}},\"update\":\"2018-02-15T00:00:00+00:00\"},{\"rank\":16,\"team\":{\"id\":64,\"name\":\"Hull City\",\"logo\":\"https:\\/\\/media.api-sports.io\\/football\\/teams\\/64.png\"},\"points\":37,\"goalsDiff\":-15,\"group\":\"Premier League\",\"form\":\"LLLDL\",\"status\":null,\"description\":null,\"all\":{\"played\":38,\"win\":10,\"draw\":7,\"lose\":21,\"goals\":{\"for\":38,\"against\":53}},\"home\":{\"played\":19,\"win\":7,\"draw\":4,\"lose\":8,\"goals\":{\"for\":20,\"against\":21}},\"away\":{\"played\":19,\"win\":3,\"draw\":3,\"lose\":13,\"goals\":{\"for\":18,\"against\":32}},\"update\":\"2018-02-15T00:00:00+00:00\"},{\"rank\":17,\"team\":{\"id\":60,\"name\":\"West Brom\",\"logo\":\"https:\\/\\/media.api-sports.io\\/football\\/teams\\/60.png\"},\"points\":36,\"goalsDiff\":-16,\"group\":\"Premier League\",\"form\":\"LLLWL\",\"status\":null,\"description\":null,\"all\":{\"played\":38,\"win\":7,\"draw\":15,\"lose\":16,\"goals\":{\"for\":43,\"against\":59}},\"home\":{\"played\":19,\"win\":4,\"draw\":9,\"lose\":6,\"goals\":{\"for\":24,\"against\":27}},\"away\":{\"played\":19,\"win\":3,\"draw\":6,\"lose\":10,\"goals\":{\"for\":19,\"against\":32}},\"update\":\"2018-02-15T00:00:00+00:00\"},{\"rank\":18,\"team\":{\"id\":71,\"name\":\"Norwich\",\"logo\":\"https:\\/\\/media.api-sports.io\\/football\\/teams\\/71.png\"},\"points\":33,\"goalsDiff\":-34,\"group\":\"Premier League\",\"form\":\"LDLLL\",\"status\":null,\"description\":\"Relegation\",\"all\":{\"played\":38,\"win\":8,\"draw\":9,\"lose\":21,\"goals\":{\"for\":28,\"against\":62}},\"home\":{\"played\":19,\"win\":6,\"draw\":6,\"lose\":7,\"goals\":{\"for\":17,\"against\":18}},\"away\":{\"played\":19,\"win\":2,\"draw\":3,\"lose\":14,\"goals\":{\"for\":11,\"against\":44}},\"update\":\"2018-02-15T00:00:00+00:00\"},{\"rank\":19,\"team\":{\"id\":36,\"name\":\"Fulham\",\"logo\":\"https:\\/\\/media.api-sports.io\\/football\\/teams\\/36.png\"},\"points\":32,\"goalsDiff\":-45,\"group\":\"Premier League\",\"form\":\"DLDLW\",\"status\":null,\"description\":\"Relegation\",\"all\":{\"played\":38,\"win\":9,\"draw\":5,\"lose\":24,\"goals\":{\"for\":40,\"against\":85}},\"home\":{\"played\":19,\"win\":5,\"draw\":3,\"lose\":11,\"goals\":{\"for\":24,\"against\":38}},\"away\":{\"played\":19,\"win\":4,\"draw\":2,\"lose\":13,\"goals\":{\"for\":16,\"against\":47}},\"update\":\"2018-02-15T00:00:00+00:00\"},{\"rank\":20,\"team\":{\"id\":43,\"name\":\"Cardiff\",\"logo\":\"https:\\/\\/media.api-sports.io\\/football\\/teams\\/43.png\"},\"points\":30,\"goalsDiff\":-42,\"group\":\"Premier League\",\"form\":\"LLLDW\",\"status\":null,\"description\":\"Relegation\",\"all\":{\"played\":38,\"win\":7,\"draw\":9,\"lose\":22,\"goals\":{\"for\":32,\"against\":74}},\"home\":{\"played\":19,\"win\":5,\"draw\":5,\"lose\":9,\"goals\":{\"for\":20,\"against\":35}},\"away\":{\"played\":19,\"win\":2,\"draw\":4,\"lose\":13,\"goals\":{\"for\":12,\"against\":39}},\"update\":\"2018-02-15T00:00:00+00:00\"}]]}}]}\n"
     ]
    }
   ],
   "source": [
    "url = \"https://api-football-v1.p.rapidapi.com/v3/standings\"\n",
    "\n",
    "querystring = {\"season\":\"2013\",\"league\":\"39\"}\n",
    "\n",
    "headers = {\n",
    "\t\"X-RapidAPI-Host\": \"api-football-v1.p.rapidapi.com\",\n",
    "\t\"X-RapidAPI-Key\": \"ecad4fe8femsh2bf7c9cd0fe9bedp159909jsn0f8655e543b0\"\n",
    "}\n",
    "\n",
    "resp8 = requests.request(\"GET\", url, headers=headers, params=querystring)\n",
    "\n",
    "print(resp8.text)"
   ]
  },
  {
   "cell_type": "code",
   "execution_count": 29,
   "metadata": {},
   "outputs": [
    {
     "data": {
      "text/html": [
       "<div>\n",
       "<style scoped>\n",
       "    .dataframe tbody tr th:only-of-type {\n",
       "        vertical-align: middle;\n",
       "    }\n",
       "\n",
       "    .dataframe tbody tr th {\n",
       "        vertical-align: top;\n",
       "    }\n",
       "\n",
       "    .dataframe thead th {\n",
       "        text-align: right;\n",
       "    }\n",
       "</style>\n",
       "<table border=\"1\" class=\"dataframe\">\n",
       "  <thead>\n",
       "    <tr style=\"text-align: right;\">\n",
       "      <th></th>\n",
       "      <th>rank</th>\n",
       "      <th>team</th>\n",
       "      <th>points</th>\n",
       "      <th>goalsDiff</th>\n",
       "      <th>group</th>\n",
       "      <th>form</th>\n",
       "      <th>status</th>\n",
       "      <th>description</th>\n",
       "      <th>all</th>\n",
       "      <th>home</th>\n",
       "      <th>away</th>\n",
       "      <th>update</th>\n",
       "    </tr>\n",
       "  </thead>\n",
       "  <tbody>\n",
       "    <tr>\n",
       "      <th>1</th>\n",
       "      <td>2</td>\n",
       "      <td>{'id': 40, 'name': 'Liverpool', 'logo': 'https...</td>\n",
       "      <td>84</td>\n",
       "      <td>51</td>\n",
       "      <td>Premier League</td>\n",
       "      <td>WDLWW</td>\n",
       "      <td>None</td>\n",
       "      <td>UEFA Champions League</td>\n",
       "      <td>{'played': 38, 'win': 26, 'draw': 6, 'lose': 6...</td>\n",
       "      <td>{'played': 19, 'win': 16, 'draw': 1, 'lose': 2...</td>\n",
       "      <td>{'played': 19, 'win': 10, 'draw': 5, 'lose': 4...</td>\n",
       "      <td>2018-02-15T00:00:00+00:00</td>\n",
       "    </tr>\n",
       "  </tbody>\n",
       "</table>\n",
       "</div>"
      ],
      "text/plain": [
       "   rank                                               team  points  goalsDiff  \\\n",
       "1     2  {'id': 40, 'name': 'Liverpool', 'logo': 'https...      84         51   \n",
       "\n",
       "            group   form status            description  \\\n",
       "1  Premier League  WDLWW   None  UEFA Champions League   \n",
       "\n",
       "                                                 all  \\\n",
       "1  {'played': 38, 'win': 26, 'draw': 6, 'lose': 6...   \n",
       "\n",
       "                                                home  \\\n",
       "1  {'played': 19, 'win': 16, 'draw': 1, 'lose': 2...   \n",
       "\n",
       "                                                away  \\\n",
       "1  {'played': 19, 'win': 10, 'draw': 5, 'lose': 4...   \n",
       "\n",
       "                      update  \n",
       "1  2018-02-15T00:00:00+00:00  "
      ]
     },
     "execution_count": 29,
     "metadata": {},
     "output_type": "execute_result"
    }
   ],
   "source": [
    "#2013/2014\n",
    "data8 = resp8.json()\n",
    "df2013 = pd.DataFrame(data8['response'][0]['league']['standings'][0])\n",
    "team2013 = df2013.iloc[1:2,:]\n",
    "team2013"
   ]
  },
  {
   "cell_type": "code",
   "execution_count": 17,
   "metadata": {},
   "outputs": [
    {
     "name": "stdout",
     "output_type": "stream",
     "text": [
      "{\"get\":\"standings\",\"parameters\":{\"league\":\"39\",\"season\":\"2012\"},\"errors\":[],\"results\":1,\"paging\":{\"current\":1,\"total\":1},\"response\":[{\"league\":{\"id\":39,\"name\":\"Premier League\",\"country\":\"England\",\"logo\":\"https:\\/\\/media.api-sports.io\\/football\\/leagues\\/39.png\",\"flag\":\"https:\\/\\/media.api-sports.io\\/flags\\/gb.svg\",\"season\":2012,\"standings\":[[{\"rank\":1,\"team\":{\"id\":33,\"name\":\"Manchester United\",\"logo\":\"https:\\/\\/media.api-sports.io\\/football\\/teams\\/33.png\"},\"points\":89,\"goalsDiff\":43,\"group\":\"Premier League\",\"form\":\"DWLDW\",\"status\":null,\"description\":\"UEFA Champions League\",\"all\":{\"played\":38,\"win\":28,\"draw\":5,\"lose\":5,\"goals\":{\"for\":86,\"against\":43}},\"home\":{\"played\":19,\"win\":16,\"draw\":0,\"lose\":3,\"goals\":{\"for\":45,\"against\":19}},\"away\":{\"played\":19,\"win\":12,\"draw\":5,\"lose\":2,\"goals\":{\"for\":41,\"against\":24}},\"update\":\"2018-02-15T00:00:00+00:00\"},{\"rank\":2,\"team\":{\"id\":50,\"name\":\"Manchester City\",\"logo\":\"https:\\/\\/media.api-sports.io\\/football\\/teams\\/50.png\"},\"points\":78,\"goalsDiff\":32,\"group\":\"Premier League\",\"form\":\"LWWDW\",\"status\":null,\"description\":\"UEFA Champions League\",\"all\":{\"played\":38,\"win\":23,\"draw\":9,\"lose\":6,\"goals\":{\"for\":66,\"against\":34}},\"home\":{\"played\":19,\"win\":14,\"draw\":3,\"lose\":2,\"goals\":{\"for\":41,\"against\":15}},\"away\":{\"played\":19,\"win\":9,\"draw\":6,\"lose\":4,\"goals\":{\"for\":25,\"against\":19}},\"update\":\"2018-02-15T00:00:00+00:00\"},{\"rank\":3,\"team\":{\"id\":49,\"name\":\"Chelsea\",\"logo\":\"https:\\/\\/media.api-sports.io\\/football\\/teams\\/49.png\"},\"points\":75,\"goalsDiff\":36,\"group\":\"Premier League\",\"form\":\"WWDWW\",\"status\":null,\"description\":\"UEFA Champions League\",\"all\":{\"played\":38,\"win\":22,\"draw\":9,\"lose\":7,\"goals\":{\"for\":75,\"against\":39}},\"home\":{\"played\":19,\"win\":12,\"draw\":5,\"lose\":2,\"goals\":{\"for\":41,\"against\":16}},\"away\":{\"played\":19,\"win\":10,\"draw\":4,\"lose\":5,\"goals\":{\"for\":34,\"against\":23}},\"update\":\"2018-02-15T00:00:00+00:00\"},{\"rank\":4,\"team\":{\"id\":42,\"name\":\"Arsenal\",\"logo\":\"https:\\/\\/media.api-sports.io\\/football\\/teams\\/42.png\"},\"points\":73,\"goalsDiff\":35,\"group\":\"Premier League\",\"form\":\"WWWDW\",\"status\":null,\"description\":\"UEFA Champions League Qualifiers\",\"all\":{\"played\":38,\"win\":21,\"draw\":10,\"lose\":7,\"goals\":{\"for\":72,\"against\":37}},\"home\":{\"played\":19,\"win\":11,\"draw\":5,\"lose\":3,\"goals\":{\"for\":47,\"against\":23}},\"away\":{\"played\":19,\"win\":10,\"draw\":5,\"lose\":4,\"goals\":{\"for\":25,\"against\":14}},\"update\":\"2018-02-15T00:00:00+00:00\"},{\"rank\":5,\"team\":{\"id\":47,\"name\":\"Tottenham\",\"logo\":\"https:\\/\\/media.api-sports.io\\/football\\/teams\\/47.png\"},\"points\":72,\"goalsDiff\":20,\"group\":\"Premier League\",\"form\":\"WWDWD\",\"status\":null,\"description\":\"UEFA Europa League\",\"all\":{\"played\":38,\"win\":21,\"draw\":9,\"lose\":8,\"goals\":{\"for\":66,\"against\":46}},\"home\":{\"played\":19,\"win\":11,\"draw\":5,\"lose\":3,\"goals\":{\"for\":29,\"against\":18}},\"away\":{\"played\":19,\"win\":10,\"draw\":4,\"lose\":5,\"goals\":{\"for\":37,\"against\":28}},\"update\":\"2018-02-15T00:00:00+00:00\"},{\"rank\":6,\"team\":{\"id\":45,\"name\":\"Everton\",\"logo\":\"https:\\/\\/media.api-sports.io\\/football\\/teams\\/45.png\"},\"points\":63,\"goalsDiff\":15,\"group\":\"Premier League\",\"form\":\"LWDWL\",\"status\":null,\"description\":null,\"all\":{\"played\":38,\"win\":16,\"draw\":15,\"lose\":7,\"goals\":{\"for\":55,\"against\":40}},\"home\":{\"played\":19,\"win\":12,\"draw\":6,\"lose\":1,\"goals\":{\"for\":33,\"against\":17}},\"away\":{\"played\":19,\"win\":4,\"draw\":9,\"lose\":6,\"goals\":{\"for\":22,\"against\":23}},\"update\":\"2018-02-15T00:00:00+00:00\"},{\"rank\":7,\"team\":{\"id\":40,\"name\":\"Liverpool\",\"logo\":\"https:\\/\\/media.api-sports.io\\/football\\/teams\\/40.png\"},\"points\":61,\"goalsDiff\":28,\"group\":\"Premier League\",\"form\":\"WWDWD\",\"status\":null,\"description\":null,\"all\":{\"played\":38,\"win\":16,\"draw\":13,\"lose\":9,\"goals\":{\"for\":71,\"against\":43}},\"home\":{\"played\":19,\"win\":9,\"draw\":6,\"lose\":4,\"goals\":{\"for\":33,\"against\":16}},\"away\":{\"played\":19,\"win\":7,\"draw\":7,\"lose\":5,\"goals\":{\"for\":38,\"against\":27}},\"update\":\"2018-02-15T00:00:00+00:00\"},{\"rank\":8,\"team\":{\"id\":60,\"name\":\"West Brom\",\"logo\":\"https:\\/\\/media.api-sports.io\\/football\\/teams\\/60.png\"},\"points\":49,\"goalsDiff\":-4,\"group\":\"Premier League\",\"form\":\"DLLLW\",\"status\":null,\"description\":null,\"all\":{\"played\":38,\"win\":14,\"draw\":7,\"lose\":17,\"goals\":{\"for\":53,\"against\":57}},\"home\":{\"played\":19,\"win\":9,\"draw\":4,\"lose\":6,\"goals\":{\"for\":32,\"against\":25}},\"away\":{\"played\":19,\"win\":5,\"draw\":3,\"lose\":11,\"goals\":{\"for\":21,\"against\":32}},\"update\":\"2018-02-15T00:00:00+00:00\"},{\"rank\":9,\"team\":{\"id\":76,\"name\":\"Swansea\",\"logo\":\"https:\\/\\/media.api-sports.io\\/football\\/teams\\/76.png\"},\"points\":46,\"goalsDiff\":-4,\"group\":\"Premier League\",\"form\":\"LLWDL\",\"status\":null,\"description\":null,\"all\":{\"played\":38,\"win\":11,\"draw\":13,\"lose\":14,\"goals\":{\"for\":47,\"against\":51}},\"home\":{\"played\":19,\"win\":6,\"draw\":8,\"lose\":5,\"goals\":{\"for\":28,\"against\":26}},\"away\":{\"played\":19,\"win\":5,\"draw\":5,\"lose\":9,\"goals\":{\"for\":19,\"against\":25}},\"update\":\"2018-02-15T00:00:00+00:00\"},{\"rank\":10,\"team\":{\"id\":48,\"name\":\"West Ham\",\"logo\":\"https:\\/\\/media.api-sports.io\\/football\\/teams\\/48.png\"},\"points\":46,\"goalsDiff\":-8,\"group\":\"Premier League\",\"form\":\"WLDLW\",\"status\":null,\"description\":null,\"all\":{\"played\":38,\"win\":12,\"draw\":10,\"lose\":16,\"goals\":{\"for\":45,\"against\":53}},\"home\":{\"played\":19,\"win\":9,\"draw\":6,\"lose\":4,\"goals\":{\"for\":34,\"against\":22}},\"away\":{\"played\":19,\"win\":3,\"draw\":4,\"lose\":12,\"goals\":{\"for\":11,\"against\":31}},\"update\":\"2018-02-15T00:00:00+00:00\"},{\"rank\":11,\"team\":{\"id\":71,\"name\":\"Norwich\",\"logo\":\"https:\\/\\/media.api-sports.io\\/football\\/teams\\/71.png\"},\"points\":44,\"goalsDiff\":-17,\"group\":\"Premier League\",\"form\":\"WWLLW\",\"status\":null,\"description\":null,\"all\":{\"played\":38,\"win\":10,\"draw\":14,\"lose\":14,\"goals\":{\"for\":41,\"against\":58}},\"home\":{\"played\":19,\"win\":8,\"draw\":7,\"lose\":4,\"goals\":{\"for\":25,\"against\":20}},\"away\":{\"played\":19,\"win\":2,\"draw\":7,\"lose\":10,\"goals\":{\"for\":16,\"against\":38}},\"update\":\"2018-02-15T00:00:00+00:00\"},{\"rank\":12,\"team\":{\"id\":36,\"name\":\"Fulham\",\"logo\":\"https:\\/\\/media.api-sports.io\\/football\\/teams\\/36.png\"},\"points\":43,\"goalsDiff\":-10,\"group\":\"Premier League\",\"form\":\"WLLLL\",\"status\":null,\"description\":null,\"all\":{\"played\":38,\"win\":11,\"draw\":10,\"lose\":17,\"goals\":{\"for\":50,\"against\":60}},\"home\":{\"played\":19,\"win\":7,\"draw\":3,\"lose\":9,\"goals\":{\"for\":28,\"against\":30}},\"away\":{\"played\":19,\"win\":4,\"draw\":7,\"lose\":8,\"goals\":{\"for\":22,\"against\":30}},\"update\":\"2018-02-15T00:00:00+00:00\"},{\"rank\":13,\"team\":{\"id\":75,\"name\":\"Stoke City\",\"logo\":\"https:\\/\\/media.api-sports.io\\/football\\/teams\\/75.png\"},\"points\":42,\"goalsDiff\":-11,\"group\":\"Premier League\",\"form\":\"DLDWW\",\"status\":null,\"description\":null,\"all\":{\"played\":38,\"win\":9,\"draw\":15,\"lose\":14,\"goals\":{\"for\":34,\"against\":45}},\"home\":{\"played\":19,\"win\":7,\"draw\":7,\"lose\":5,\"goals\":{\"for\":21,\"against\":22}},\"away\":{\"played\":19,\"win\":2,\"draw\":8,\"lose\":9,\"goals\":{\"for\":13,\"against\":23}},\"update\":\"2018-02-15T00:00:00+00:00\"},{\"rank\":14,\"team\":{\"id\":41,\"name\":\"Southampton\",\"logo\":\"https:\\/\\/media.api-sports.io\\/football\\/teams\\/41.png\"},\"points\":41,\"goalsDiff\":-11,\"group\":\"Premier League\",\"form\":\"DDLLD\",\"status\":null,\"description\":null,\"all\":{\"played\":38,\"win\":9,\"draw\":14,\"lose\":15,\"goals\":{\"for\":49,\"against\":60}},\"home\":{\"played\":19,\"win\":6,\"draw\":7,\"lose\":6,\"goals\":{\"for\":26,\"against\":24}},\"away\":{\"played\":19,\"win\":3,\"draw\":7,\"lose\":9,\"goals\":{\"for\":23,\"against\":36}},\"update\":\"2018-02-15T00:00:00+00:00\"},{\"rank\":15,\"team\":{\"id\":66,\"name\":\"Aston Villa\",\"logo\":\"https:\\/\\/media.api-sports.io\\/football\\/teams\\/66.png\"},\"points\":41,\"goalsDiff\":-22,\"group\":\"Premier League\",\"form\":\"DLWWL\",\"status\":null,\"description\":null,\"all\":{\"played\":38,\"win\":10,\"draw\":11,\"lose\":17,\"goals\":{\"for\":47,\"against\":69}},\"home\":{\"played\":19,\"win\":5,\"draw\":5,\"lose\":9,\"goals\":{\"for\":23,\"against\":28}},\"away\":{\"played\":19,\"win\":5,\"draw\":6,\"lose\":8,\"goals\":{\"for\":24,\"against\":41}},\"update\":\"2018-02-15T00:00:00+00:00\"},{\"rank\":16,\"team\":{\"id\":34,\"name\":\"Newcastle\",\"logo\":\"https:\\/\\/media.api-sports.io\\/football\\/teams\\/34.png\"},\"points\":41,\"goalsDiff\":-23,\"group\":\"Premier League\",\"form\":\"LWDLD\",\"status\":null,\"description\":null,\"all\":{\"played\":38,\"win\":11,\"draw\":8,\"lose\":19,\"goals\":{\"for\":45,\"against\":68}},\"home\":{\"played\":19,\"win\":9,\"draw\":1,\"lose\":9,\"goals\":{\"for\":24,\"against\":31}},\"away\":{\"played\":19,\"win\":2,\"draw\":7,\"lose\":10,\"goals\":{\"for\":21,\"against\":37}},\"update\":\"2018-02-15T00:00:00+00:00\"},{\"rank\":17,\"team\":{\"id\":746,\"name\":\"Sunderland\",\"logo\":\"https:\\/\\/media.api-sports.io\\/football\\/teams\\/746.png\"},\"points\":39,\"goalsDiff\":-13,\"group\":\"Premier League\",\"form\":\"LDDLW\",\"status\":null,\"description\":null,\"all\":{\"played\":38,\"win\":9,\"draw\":12,\"lose\":17,\"goals\":{\"for\":41,\"against\":54}},\"home\":{\"played\":19,\"win\":5,\"draw\":8,\"lose\":6,\"goals\":{\"for\":20,\"against\":19}},\"away\":{\"played\":19,\"win\":4,\"draw\":4,\"lose\":11,\"goals\":{\"for\":21,\"against\":35}},\"update\":\"2018-02-15T00:00:00+00:00\"},{\"rank\":18,\"team\":{\"id\":61,\"name\":\"Wigan\",\"logo\":\"https:\\/\\/media.api-sports.io\\/football\\/teams\\/61.png\"},\"points\":36,\"goalsDiff\":-26,\"group\":\"Premier League\",\"form\":\"DLLWD\",\"status\":null,\"description\":\"Relegation\",\"all\":{\"played\":38,\"win\":9,\"draw\":9,\"lose\":20,\"goals\":{\"for\":47,\"against\":73}},\"home\":{\"played\":19,\"win\":4,\"draw\":6,\"lose\":9,\"goals\":{\"for\":26,\"against\":39}},\"away\":{\"played\":19,\"win\":5,\"draw\":3,\"lose\":11,\"goals\":{\"for\":21,\"against\":34}},\"update\":\"2018-02-15T00:00:00+00:00\"},{\"rank\":19,\"team\":{\"id\":53,\"name\":\"Reading\",\"logo\":\"https:\\/\\/media.api-sports.io\\/football\\/teams\\/53.png\"},\"points\":28,\"goalsDiff\":-30,\"group\":\"Premier League\",\"form\":\"LLWDL\",\"status\":null,\"description\":\"Relegation\",\"all\":{\"played\":38,\"win\":6,\"draw\":10,\"lose\":22,\"goals\":{\"for\":43,\"against\":73}},\"home\":{\"played\":19,\"win\":4,\"draw\":8,\"lose\":7,\"goals\":{\"for\":23,\"against\":33}},\"away\":{\"played\":19,\"win\":2,\"draw\":2,\"lose\":15,\"goals\":{\"for\":20,\"against\":40}},\"update\":\"2018-02-15T00:00:00+00:00\"},{\"rank\":20,\"team\":{\"id\":72,\"name\":\"QPR\",\"logo\":\"https:\\/\\/media.api-sports.io\\/football\\/teams\\/72.png\"},\"points\":25,\"goalsDiff\":-30,\"group\":\"Premier League\",\"form\":\"LLLDL\",\"status\":null,\"description\":\"Relegation\",\"all\":{\"played\":38,\"win\":4,\"draw\":13,\"lose\":21,\"goals\":{\"for\":30,\"against\":60}},\"home\":{\"played\":19,\"win\":2,\"draw\":8,\"lose\":9,\"goals\":{\"for\":13,\"against\":28}},\"away\":{\"played\":19,\"win\":2,\"draw\":5,\"lose\":12,\"goals\":{\"for\":17,\"against\":32}},\"update\":\"2018-02-15T00:00:00+00:00\"}]]}}]}\n"
     ]
    }
   ],
   "source": [
    "url = \"https://api-football-v1.p.rapidapi.com/v3/standings\"\n",
    "\n",
    "querystring = {\"season\":\"2012\",\"league\":\"39\"}\n",
    "\n",
    "headers = {\n",
    "\t\"X-RapidAPI-Host\": \"api-football-v1.p.rapidapi.com\",\n",
    "\t\"X-RapidAPI-Key\": \"ecad4fe8femsh2bf7c9cd0fe9bedp159909jsn0f8655e543b0\"\n",
    "}\n",
    "\n",
    "resp9 = requests.request(\"GET\", url, headers=headers, params=querystring)\n",
    "\n",
    "print(resp9.text)"
   ]
  },
  {
   "cell_type": "code",
   "execution_count": 30,
   "metadata": {},
   "outputs": [
    {
     "data": {
      "text/html": [
       "<div>\n",
       "<style scoped>\n",
       "    .dataframe tbody tr th:only-of-type {\n",
       "        vertical-align: middle;\n",
       "    }\n",
       "\n",
       "    .dataframe tbody tr th {\n",
       "        vertical-align: top;\n",
       "    }\n",
       "\n",
       "    .dataframe thead th {\n",
       "        text-align: right;\n",
       "    }\n",
       "</style>\n",
       "<table border=\"1\" class=\"dataframe\">\n",
       "  <thead>\n",
       "    <tr style=\"text-align: right;\">\n",
       "      <th></th>\n",
       "      <th>rank</th>\n",
       "      <th>team</th>\n",
       "      <th>points</th>\n",
       "      <th>goalsDiff</th>\n",
       "      <th>group</th>\n",
       "      <th>form</th>\n",
       "      <th>status</th>\n",
       "      <th>description</th>\n",
       "      <th>all</th>\n",
       "      <th>home</th>\n",
       "      <th>away</th>\n",
       "      <th>update</th>\n",
       "    </tr>\n",
       "  </thead>\n",
       "  <tbody>\n",
       "    <tr>\n",
       "      <th>4</th>\n",
       "      <td>5</td>\n",
       "      <td>{'id': 47, 'name': 'Tottenham', 'logo': 'https...</td>\n",
       "      <td>72</td>\n",
       "      <td>20</td>\n",
       "      <td>Premier League</td>\n",
       "      <td>WWDWD</td>\n",
       "      <td>None</td>\n",
       "      <td>UEFA Europa League</td>\n",
       "      <td>{'played': 38, 'win': 21, 'draw': 9, 'lose': 8...</td>\n",
       "      <td>{'played': 19, 'win': 11, 'draw': 5, 'lose': 3...</td>\n",
       "      <td>{'played': 19, 'win': 10, 'draw': 4, 'lose': 5...</td>\n",
       "      <td>2018-02-15T00:00:00+00:00</td>\n",
       "    </tr>\n",
       "  </tbody>\n",
       "</table>\n",
       "</div>"
      ],
      "text/plain": [
       "   rank                                               team  points  goalsDiff  \\\n",
       "4     5  {'id': 47, 'name': 'Tottenham', 'logo': 'https...      72         20   \n",
       "\n",
       "            group   form status         description  \\\n",
       "4  Premier League  WWDWD   None  UEFA Europa League   \n",
       "\n",
       "                                                 all  \\\n",
       "4  {'played': 38, 'win': 21, 'draw': 9, 'lose': 8...   \n",
       "\n",
       "                                                home  \\\n",
       "4  {'played': 19, 'win': 11, 'draw': 5, 'lose': 3...   \n",
       "\n",
       "                                                away  \\\n",
       "4  {'played': 19, 'win': 10, 'draw': 4, 'lose': 5...   \n",
       "\n",
       "                      update  \n",
       "4  2018-02-15T00:00:00+00:00  "
      ]
     },
     "execution_count": 30,
     "metadata": {},
     "output_type": "execute_result"
    }
   ],
   "source": [
    "#2012/2013\n",
    "data9 = resp9.json()\n",
    "df2012 = pd.DataFrame(data9['response'][0]['league']['standings'][0])\n",
    "team2012 = df2012.iloc[4:5,:]\n",
    "team2012"
   ]
  },
  {
   "cell_type": "code",
   "execution_count": 19,
   "metadata": {},
   "outputs": [
    {
     "name": "stdout",
     "output_type": "stream",
     "text": [
      "{\"get\":\"standings\",\"parameters\":{\"league\":\"39\",\"season\":\"2011\"},\"errors\":[],\"results\":1,\"paging\":{\"current\":1,\"total\":1},\"response\":[{\"league\":{\"id\":39,\"name\":\"Premier League\",\"country\":\"England\",\"logo\":\"https:\\/\\/media.api-sports.io\\/football\\/leagues\\/39.png\",\"flag\":\"https:\\/\\/media.api-sports.io\\/flags\\/gb.svg\",\"season\":2011,\"standings\":[[{\"rank\":1,\"team\":{\"id\":50,\"name\":\"Manchester City\",\"logo\":\"https:\\/\\/media.api-sports.io\\/football\\/teams\\/50.png\"},\"points\":89,\"goalsDiff\":64,\"group\":\"Premier League\",\"form\":\"WWWWW\",\"status\":null,\"description\":\"UEFA Champions League\",\"all\":{\"played\":38,\"win\":28,\"draw\":5,\"lose\":5,\"goals\":{\"for\":93,\"against\":29}},\"home\":{\"played\":19,\"win\":18,\"draw\":1,\"lose\":0,\"goals\":{\"for\":55,\"against\":12}},\"away\":{\"played\":19,\"win\":10,\"draw\":4,\"lose\":5,\"goals\":{\"for\":38,\"against\":17}},\"update\":\"2018-02-15T00:00:00+00:00\"},{\"rank\":2,\"team\":{\"id\":33,\"name\":\"Manchester United\",\"logo\":\"https:\\/\\/media.api-sports.io\\/football\\/teams\\/33.png\"},\"points\":89,\"goalsDiff\":56,\"group\":\"Premier League\",\"form\":\"WWLDW\",\"status\":null,\"description\":\"UEFA Champions League\",\"all\":{\"played\":38,\"win\":28,\"draw\":5,\"lose\":5,\"goals\":{\"for\":89,\"against\":33}},\"home\":{\"played\":19,\"win\":15,\"draw\":2,\"lose\":2,\"goals\":{\"for\":52,\"against\":19}},\"away\":{\"played\":19,\"win\":13,\"draw\":3,\"lose\":3,\"goals\":{\"for\":37,\"against\":14}},\"update\":\"2018-02-15T00:00:00+00:00\"},{\"rank\":3,\"team\":{\"id\":42,\"name\":\"Arsenal\",\"logo\":\"https:\\/\\/media.api-sports.io\\/football\\/teams\\/42.png\"},\"points\":70,\"goalsDiff\":25,\"group\":\"Premier League\",\"form\":\"WDDDL\",\"status\":null,\"description\":\"UEFA Champions League\",\"all\":{\"played\":38,\"win\":21,\"draw\":7,\"lose\":10,\"goals\":{\"for\":74,\"against\":49}},\"home\":{\"played\":19,\"win\":12,\"draw\":4,\"lose\":3,\"goals\":{\"for\":39,\"against\":17}},\"away\":{\"played\":19,\"win\":9,\"draw\":3,\"lose\":7,\"goals\":{\"for\":35,\"against\":32}},\"update\":\"2018-02-15T00:00:00+00:00\"},{\"rank\":4,\"team\":{\"id\":47,\"name\":\"Tottenham\",\"logo\":\"https:\\/\\/media.api-sports.io\\/football\\/teams\\/47.png\"},\"points\":69,\"goalsDiff\":25,\"group\":\"Premier League\",\"form\":\"WDWWL\",\"status\":null,\"description\":\"UEFA Champions League Qualifiers\",\"all\":{\"played\":38,\"win\":20,\"draw\":9,\"lose\":9,\"goals\":{\"for\":66,\"against\":41}},\"home\":{\"played\":19,\"win\":13,\"draw\":3,\"lose\":3,\"goals\":{\"for\":39,\"against\":17}},\"away\":{\"played\":19,\"win\":7,\"draw\":6,\"lose\":6,\"goals\":{\"for\":27,\"against\":24}},\"update\":\"2018-02-15T00:00:00+00:00\"},{\"rank\":5,\"team\":{\"id\":34,\"name\":\"Newcastle\",\"logo\":\"https:\\/\\/media.api-sports.io\\/football\\/teams\\/34.png\"},\"points\":65,\"goalsDiff\":5,\"group\":\"Premier League\",\"form\":\"LLWLW\",\"status\":null,\"description\":\"UEFA Europa League\",\"all\":{\"played\":38,\"win\":19,\"draw\":8,\"lose\":11,\"goals\":{\"for\":56,\"against\":51}},\"home\":{\"played\":19,\"win\":11,\"draw\":5,\"lose\":3,\"goals\":{\"for\":29,\"against\":17}},\"away\":{\"played\":19,\"win\":8,\"draw\":3,\"lose\":8,\"goals\":{\"for\":27,\"against\":34}},\"update\":\"2018-02-15T00:00:00+00:00\"},{\"rank\":6,\"team\":{\"id\":49,\"name\":\"Chelsea\",\"logo\":\"https:\\/\\/media.api-sports.io\\/football\\/teams\\/49.png\"},\"points\":64,\"goalsDiff\":19,\"group\":\"Premier League\",\"form\":\"WLLWD\",\"status\":null,\"description\":null,\"all\":{\"played\":38,\"win\":18,\"draw\":10,\"lose\":10,\"goals\":{\"for\":65,\"against\":46}},\"home\":{\"played\":19,\"win\":12,\"draw\":3,\"lose\":4,\"goals\":{\"for\":41,\"against\":24}},\"away\":{\"played\":19,\"win\":6,\"draw\":7,\"lose\":6,\"goals\":{\"for\":24,\"against\":22}},\"update\":\"2018-02-15T00:00:00+00:00\"},{\"rank\":7,\"team\":{\"id\":45,\"name\":\"Everton\",\"logo\":\"https:\\/\\/media.api-sports.io\\/football\\/teams\\/45.png\"},\"points\":56,\"goalsDiff\":10,\"group\":\"Premier League\",\"form\":\"WDDWD\",\"status\":null,\"description\":null,\"all\":{\"played\":38,\"win\":15,\"draw\":11,\"lose\":12,\"goals\":{\"for\":50,\"against\":40}},\"home\":{\"played\":19,\"win\":10,\"draw\":3,\"lose\":6,\"goals\":{\"for\":28,\"against\":15}},\"away\":{\"played\":19,\"win\":5,\"draw\":8,\"lose\":6,\"goals\":{\"for\":22,\"against\":25}},\"update\":\"2018-02-15T00:00:00+00:00\"},{\"rank\":8,\"team\":{\"id\":40,\"name\":\"Liverpool\",\"logo\":\"https:\\/\\/media.api-sports.io\\/football\\/teams\\/40.png\"},\"points\":52,\"goalsDiff\":7,\"group\":\"Premier League\",\"form\":\"LWLWL\",\"status\":null,\"description\":null,\"all\":{\"played\":38,\"win\":14,\"draw\":10,\"lose\":14,\"goals\":{\"for\":47,\"against\":40}},\"home\":{\"played\":19,\"win\":6,\"draw\":9,\"lose\":4,\"goals\":{\"for\":24,\"against\":16}},\"away\":{\"played\":19,\"win\":8,\"draw\":1,\"lose\":10,\"goals\":{\"for\":23,\"against\":24}},\"update\":\"2018-02-15T00:00:00+00:00\"},{\"rank\":9,\"team\":{\"id\":36,\"name\":\"Fulham\",\"logo\":\"https:\\/\\/media.api-sports.io\\/football\\/teams\\/36.png\"},\"points\":52,\"goalsDiff\":-3,\"group\":\"Premier League\",\"form\":\"LWWLW\",\"status\":null,\"description\":null,\"all\":{\"played\":38,\"win\":14,\"draw\":10,\"lose\":14,\"goals\":{\"for\":48,\"against\":51}},\"home\":{\"played\":19,\"win\":10,\"draw\":5,\"lose\":4,\"goals\":{\"for\":36,\"against\":26}},\"away\":{\"played\":19,\"win\":4,\"draw\":5,\"lose\":10,\"goals\":{\"for\":12,\"against\":25}},\"update\":\"2018-02-15T00:00:00+00:00\"},{\"rank\":10,\"team\":{\"id\":60,\"name\":\"West Brom\",\"logo\":\"https:\\/\\/media.api-sports.io\\/football\\/teams\\/60.png\"},\"points\":47,\"goalsDiff\":-7,\"group\":\"Premier League\",\"form\":\"LDDWW\",\"status\":null,\"description\":null,\"all\":{\"played\":38,\"win\":13,\"draw\":8,\"lose\":17,\"goals\":{\"for\":45,\"against\":52}},\"home\":{\"played\":19,\"win\":6,\"draw\":3,\"lose\":10,\"goals\":{\"for\":21,\"against\":22}},\"away\":{\"played\":19,\"win\":7,\"draw\":5,\"lose\":7,\"goals\":{\"for\":24,\"against\":30}},\"update\":\"2018-02-15T00:00:00+00:00\"},{\"rank\":11,\"team\":{\"id\":76,\"name\":\"Swansea\",\"logo\":\"https:\\/\\/media.api-sports.io\\/football\\/teams\\/76.png\"},\"points\":47,\"goalsDiff\":-7,\"group\":\"Premier League\",\"form\":\"WLDDW\",\"status\":null,\"description\":null,\"all\":{\"played\":38,\"win\":12,\"draw\":11,\"lose\":15,\"goals\":{\"for\":44,\"against\":51}},\"home\":{\"played\":19,\"win\":8,\"draw\":7,\"lose\":4,\"goals\":{\"for\":27,\"against\":18}},\"away\":{\"played\":19,\"win\":4,\"draw\":4,\"lose\":11,\"goals\":{\"for\":17,\"against\":33}},\"update\":\"2018-02-15T00:00:00+00:00\"},{\"rank\":12,\"team\":{\"id\":71,\"name\":\"Norwich\",\"logo\":\"https:\\/\\/media.api-sports.io\\/football\\/teams\\/71.png\"},\"points\":47,\"goalsDiff\":-14,\"group\":\"Premier League\",\"form\":\"WDLLL\",\"status\":null,\"description\":null,\"all\":{\"played\":38,\"win\":12,\"draw\":11,\"lose\":15,\"goals\":{\"for\":52,\"against\":66}},\"home\":{\"played\":19,\"win\":7,\"draw\":6,\"lose\":6,\"goals\":{\"for\":28,\"against\":30}},\"away\":{\"played\":19,\"win\":5,\"draw\":5,\"lose\":9,\"goals\":{\"for\":24,\"against\":36}},\"update\":\"2018-02-15T00:00:00+00:00\"},{\"rank\":13,\"team\":{\"id\":746,\"name\":\"Sunderland\",\"logo\":\"https:\\/\\/media.api-sports.io\\/football\\/teams\\/746.png\"},\"points\":45,\"goalsDiff\":-1,\"group\":\"Premier League\",\"form\":\"LLDDD\",\"status\":null,\"description\":null,\"all\":{\"played\":38,\"win\":11,\"draw\":12,\"lose\":15,\"goals\":{\"for\":45,\"against\":46}},\"home\":{\"played\":19,\"win\":7,\"draw\":7,\"lose\":5,\"goals\":{\"for\":26,\"against\":17}},\"away\":{\"played\":19,\"win\":4,\"draw\":5,\"lose\":10,\"goals\":{\"for\":19,\"against\":29}},\"update\":\"2018-02-15T00:00:00+00:00\"},{\"rank\":14,\"team\":{\"id\":75,\"name\":\"Stoke City\",\"logo\":\"https:\\/\\/media.api-sports.io\\/football\\/teams\\/75.png\"},\"points\":45,\"goalsDiff\":-17,\"group\":\"Premier League\",\"form\":\"DLDDL\",\"status\":null,\"description\":null,\"all\":{\"played\":38,\"win\":11,\"draw\":12,\"lose\":15,\"goals\":{\"for\":36,\"against\":53}},\"home\":{\"played\":19,\"win\":7,\"draw\":8,\"lose\":4,\"goals\":{\"for\":25,\"against\":20}},\"away\":{\"played\":19,\"win\":4,\"draw\":4,\"lose\":11,\"goals\":{\"for\":11,\"against\":33}},\"update\":\"2018-02-15T00:00:00+00:00\"},{\"rank\":15,\"team\":{\"id\":61,\"name\":\"Wigan\",\"logo\":\"https:\\/\\/media.api-sports.io\\/football\\/teams\\/61.png\"},\"points\":43,\"goalsDiff\":-20,\"group\":\"Premier League\",\"form\":\"WWWLW\",\"status\":null,\"description\":null,\"all\":{\"played\":38,\"win\":11,\"draw\":10,\"lose\":17,\"goals\":{\"for\":42,\"against\":62}},\"home\":{\"played\":19,\"win\":5,\"draw\":7,\"lose\":7,\"goals\":{\"for\":22,\"against\":27}},\"away\":{\"played\":19,\"win\":6,\"draw\":3,\"lose\":10,\"goals\":{\"for\":20,\"against\":35}},\"update\":\"2018-02-15T00:00:00+00:00\"},{\"rank\":16,\"team\":{\"id\":66,\"name\":\"Aston Villa\",\"logo\":\"https:\\/\\/media.api-sports.io\\/football\\/teams\\/66.png\"},\"points\":38,\"goalsDiff\":-16,\"group\":\"Premier League\",\"form\":\"LDDLD\",\"status\":null,\"description\":null,\"all\":{\"played\":38,\"win\":7,\"draw\":17,\"lose\":14,\"goals\":{\"for\":37,\"against\":53}},\"home\":{\"played\":19,\"win\":4,\"draw\":7,\"lose\":8,\"goals\":{\"for\":20,\"against\":25}},\"away\":{\"played\":19,\"win\":3,\"draw\":10,\"lose\":6,\"goals\":{\"for\":17,\"against\":28}},\"update\":\"2018-02-15T00:00:00+00:00\"},{\"rank\":17,\"team\":{\"id\":72,\"name\":\"QPR\",\"logo\":\"https:\\/\\/media.api-sports.io\\/football\\/teams\\/72.png\"},\"points\":37,\"goalsDiff\":-23,\"group\":\"Premier League\",\"form\":\"LWLWL\",\"status\":null,\"description\":null,\"all\":{\"played\":38,\"win\":10,\"draw\":7,\"lose\":21,\"goals\":{\"for\":43,\"against\":66}},\"home\":{\"played\":19,\"win\":7,\"draw\":5,\"lose\":7,\"goals\":{\"for\":24,\"against\":25}},\"away\":{\"played\":19,\"win\":3,\"draw\":2,\"lose\":14,\"goals\":{\"for\":19,\"against\":41}},\"update\":\"2018-02-15T00:00:00+00:00\"},{\"rank\":18,\"team\":{\"id\":68,\"name\":\"Bolton\",\"logo\":\"https:\\/\\/media.api-sports.io\\/football\\/teams\\/68.png\"},\"points\":36,\"goalsDiff\":-31,\"group\":\"Premier League\",\"form\":\"DDLDW\",\"status\":null,\"description\":\"Relegation\",\"all\":{\"played\":38,\"win\":10,\"draw\":6,\"lose\":22,\"goals\":{\"for\":46,\"against\":77}},\"home\":{\"played\":19,\"win\":4,\"draw\":4,\"lose\":11,\"goals\":{\"for\":23,\"against\":39}},\"away\":{\"played\":19,\"win\":6,\"draw\":2,\"lose\":11,\"goals\":{\"for\":23,\"against\":38}},\"update\":\"2018-02-15T00:00:00+00:00\"},{\"rank\":19,\"team\":{\"id\":67,\"name\":\"Blackburn\",\"logo\":\"https:\\/\\/media.api-sports.io\\/football\\/teams\\/67.png\"},\"points\":31,\"goalsDiff\":-30,\"group\":\"Premier League\",\"form\":\"LLLWL\",\"status\":null,\"description\":\"Relegation\",\"all\":{\"played\":38,\"win\":8,\"draw\":7,\"lose\":23,\"goals\":{\"for\":48,\"against\":78}},\"home\":{\"played\":19,\"win\":6,\"draw\":1,\"lose\":12,\"goals\":{\"for\":26,\"against\":33}},\"away\":{\"played\":19,\"win\":2,\"draw\":6,\"lose\":11,\"goals\":{\"for\":22,\"against\":45}},\"update\":\"2018-02-15T00:00:00+00:00\"},{\"rank\":20,\"team\":{\"id\":39,\"name\":\"Wolves\",\"logo\":\"https:\\/\\/media.api-sports.io\\/football\\/teams\\/39.png\"},\"points\":25,\"goalsDiff\":-42,\"group\":\"Premier League\",\"form\":\"LDDLD\",\"status\":null,\"description\":\"Relegation\",\"all\":{\"played\":38,\"win\":5,\"draw\":10,\"lose\":23,\"goals\":{\"for\":40,\"against\":82}},\"home\":{\"played\":19,\"win\":3,\"draw\":3,\"lose\":13,\"goals\":{\"for\":19,\"against\":43}},\"away\":{\"played\":19,\"win\":2,\"draw\":7,\"lose\":10,\"goals\":{\"for\":21,\"against\":39}},\"update\":\"2018-02-15T00:00:00+00:00\"}]]}}]}\n"
     ]
    }
   ],
   "source": [
    "#2011/2012\n",
    "url = \"https://api-football-v1.p.rapidapi.com/v3/standings\"\n",
    "\n",
    "querystring = {\"season\":\"2011\",\"league\":\"39\"}\n",
    "\n",
    "headers = {\n",
    "\t\"X-RapidAPI-Host\": \"api-football-v1.p.rapidapi.com\",\n",
    "\t\"X-RapidAPI-Key\": \"ecad4fe8femsh2bf7c9cd0fe9bedp159909jsn0f8655e543b0\"\n",
    "}\n",
    "\n",
    "resp10 = requests.request(\"GET\", url, headers=headers, params=querystring)\n",
    "\n",
    "print(resp10.text)"
   ]
  },
  {
   "cell_type": "code",
   "execution_count": 20,
   "metadata": {},
   "outputs": [
    {
     "data": {
      "text/html": [
       "<div>\n",
       "<style scoped>\n",
       "    .dataframe tbody tr th:only-of-type {\n",
       "        vertical-align: middle;\n",
       "    }\n",
       "\n",
       "    .dataframe tbody tr th {\n",
       "        vertical-align: top;\n",
       "    }\n",
       "\n",
       "    .dataframe thead th {\n",
       "        text-align: right;\n",
       "    }\n",
       "</style>\n",
       "<table border=\"1\" class=\"dataframe\">\n",
       "  <thead>\n",
       "    <tr style=\"text-align: right;\">\n",
       "      <th></th>\n",
       "      <th>rank</th>\n",
       "      <th>team</th>\n",
       "      <th>points</th>\n",
       "      <th>goalsDiff</th>\n",
       "      <th>group</th>\n",
       "      <th>form</th>\n",
       "      <th>status</th>\n",
       "      <th>description</th>\n",
       "      <th>all</th>\n",
       "      <th>home</th>\n",
       "      <th>away</th>\n",
       "      <th>update</th>\n",
       "    </tr>\n",
       "  </thead>\n",
       "  <tbody>\n",
       "    <tr>\n",
       "      <th>0</th>\n",
       "      <td>1</td>\n",
       "      <td>{'id': 50, 'name': 'Manchester City', 'logo': ...</td>\n",
       "      <td>89</td>\n",
       "      <td>64</td>\n",
       "      <td>Premier League</td>\n",
       "      <td>WWWWW</td>\n",
       "      <td>None</td>\n",
       "      <td>UEFA Champions League</td>\n",
       "      <td>{'played': 38, 'win': 28, 'draw': 5, 'lose': 5...</td>\n",
       "      <td>{'played': 19, 'win': 18, 'draw': 1, 'lose': 0...</td>\n",
       "      <td>{'played': 19, 'win': 10, 'draw': 4, 'lose': 5...</td>\n",
       "      <td>2018-02-15T00:00:00+00:00</td>\n",
       "    </tr>\n",
       "  </tbody>\n",
       "</table>\n",
       "</div>"
      ],
      "text/plain": [
       "   rank                                               team  points  goalsDiff  \\\n",
       "0     1  {'id': 50, 'name': 'Manchester City', 'logo': ...      89         64   \n",
       "\n",
       "            group   form status            description  \\\n",
       "0  Premier League  WWWWW   None  UEFA Champions League   \n",
       "\n",
       "                                                 all  \\\n",
       "0  {'played': 38, 'win': 28, 'draw': 5, 'lose': 5...   \n",
       "\n",
       "                                                home  \\\n",
       "0  {'played': 19, 'win': 18, 'draw': 1, 'lose': 0...   \n",
       "\n",
       "                                                away  \\\n",
       "0  {'played': 19, 'win': 10, 'draw': 4, 'lose': 5...   \n",
       "\n",
       "                      update  \n",
       "0  2018-02-15T00:00:00+00:00  "
      ]
     },
     "execution_count": 20,
     "metadata": {},
     "output_type": "execute_result"
    }
   ],
   "source": [
    "#2011/2012\n",
    "data10 = resp10.json()\n",
    "df2011 = pd.DataFrame(data10['response'][0]['league']['standings'][0])\n",
    "team2011 = df2011.iloc[0:1,:]\n",
    "team2011"
   ]
  },
  {
   "cell_type": "code",
   "execution_count": 21,
   "metadata": {},
   "outputs": [
    {
     "name": "stdout",
     "output_type": "stream",
     "text": [
      "{\"get\":\"standings\",\"parameters\":{\"league\":\"39\",\"season\":\"2010\"},\"errors\":[],\"results\":1,\"paging\":{\"current\":1,\"total\":1},\"response\":[{\"league\":{\"id\":39,\"name\":\"Premier League\",\"country\":\"England\",\"logo\":\"https:\\/\\/media.api-sports.io\\/football\\/leagues\\/39.png\",\"flag\":\"https:\\/\\/media.api-sports.io\\/flags\\/gb.svg\",\"season\":2010,\"standings\":[[{\"rank\":1,\"team\":{\"id\":33,\"name\":\"Manchester United\",\"logo\":\"https:\\/\\/media.api-sports.io\\/football\\/teams\\/33.png\"},\"points\":80,\"goalsDiff\":41,\"group\":\"Premier League\",\"form\":\"WDWLW\",\"status\":null,\"description\":\"UEFA Champions League\",\"all\":{\"played\":38,\"win\":23,\"draw\":11,\"lose\":4,\"goals\":{\"for\":78,\"against\":37}},\"home\":{\"played\":19,\"win\":18,\"draw\":1,\"lose\":0,\"goals\":{\"for\":49,\"against\":12}},\"away\":{\"played\":19,\"win\":5,\"draw\":10,\"lose\":4,\"goals\":{\"for\":29,\"against\":25}},\"update\":\"2018-02-15T00:00:00+00:00\"},{\"rank\":2,\"team\":{\"id\":49,\"name\":\"Chelsea\",\"logo\":\"https:\\/\\/media.api-sports.io\\/football\\/teams\\/49.png\"},\"points\":71,\"goalsDiff\":36,\"group\":\"Premier League\",\"form\":\"LDLWW\",\"status\":null,\"description\":\"UEFA Champions League\",\"all\":{\"played\":38,\"win\":21,\"draw\":8,\"lose\":9,\"goals\":{\"for\":69,\"against\":33}},\"home\":{\"played\":19,\"win\":14,\"draw\":3,\"lose\":2,\"goals\":{\"for\":39,\"against\":13}},\"away\":{\"played\":19,\"win\":7,\"draw\":5,\"lose\":7,\"goals\":{\"for\":30,\"against\":20}},\"update\":\"2018-02-15T00:00:00+00:00\"},{\"rank\":3,\"team\":{\"id\":50,\"name\":\"Manchester City\",\"logo\":\"https:\\/\\/media.api-sports.io\\/football\\/teams\\/50.png\"},\"points\":71,\"goalsDiff\":27,\"group\":\"Premier League\",\"form\":\"WWWLW\",\"status\":null,\"description\":\"UEFA Champions League\",\"all\":{\"played\":38,\"win\":21,\"draw\":8,\"lose\":9,\"goals\":{\"for\":60,\"against\":33}},\"home\":{\"played\":19,\"win\":13,\"draw\":4,\"lose\":2,\"goals\":{\"for\":34,\"against\":12}},\"away\":{\"played\":19,\"win\":8,\"draw\":4,\"lose\":7,\"goals\":{\"for\":26,\"against\":21}},\"update\":\"2018-02-15T00:00:00+00:00\"},{\"rank\":4,\"team\":{\"id\":42,\"name\":\"Arsenal\",\"logo\":\"https:\\/\\/media.api-sports.io\\/football\\/teams\\/42.png\"},\"points\":68,\"goalsDiff\":29,\"group\":\"Premier League\",\"form\":\"DLLWL\",\"status\":null,\"description\":\"UEFA Champions League Qualifiers\",\"all\":{\"played\":38,\"win\":19,\"draw\":11,\"lose\":8,\"goals\":{\"for\":72,\"against\":43}},\"home\":{\"played\":19,\"win\":11,\"draw\":4,\"lose\":4,\"goals\":{\"for\":33,\"against\":15}},\"away\":{\"played\":19,\"win\":8,\"draw\":7,\"lose\":4,\"goals\":{\"for\":39,\"against\":28}},\"update\":\"2018-02-15T00:00:00+00:00\"},{\"rank\":5,\"team\":{\"id\":47,\"name\":\"Tottenham\",\"logo\":\"https:\\/\\/media.api-sports.io\\/football\\/teams\\/47.png\"},\"points\":62,\"goalsDiff\":9,\"group\":\"Premier League\",\"form\":\"WWLDL\",\"status\":null,\"description\":\"UEFA Europa League\",\"all\":{\"played\":38,\"win\":16,\"draw\":14,\"lose\":8,\"goals\":{\"for\":55,\"against\":46}},\"home\":{\"played\":19,\"win\":9,\"draw\":9,\"lose\":1,\"goals\":{\"for\":30,\"against\":19}},\"away\":{\"played\":19,\"win\":7,\"draw\":5,\"lose\":7,\"goals\":{\"for\":25,\"against\":27}},\"update\":\"2018-02-15T00:00:00+00:00\"},{\"rank\":6,\"team\":{\"id\":40,\"name\":\"Liverpool\",\"logo\":\"https:\\/\\/media.api-sports.io\\/football\\/teams\\/40.png\"},\"points\":58,\"goalsDiff\":15,\"group\":\"Premier League\",\"form\":\"LLWWW\",\"status\":null,\"description\":null,\"all\":{\"played\":38,\"win\":17,\"draw\":7,\"lose\":14,\"goals\":{\"for\":59,\"against\":44}},\"home\":{\"played\":19,\"win\":12,\"draw\":4,\"lose\":3,\"goals\":{\"for\":37,\"against\":14}},\"away\":{\"played\":19,\"win\":5,\"draw\":3,\"lose\":11,\"goals\":{\"for\":22,\"against\":30}},\"update\":\"2018-02-15T00:00:00+00:00\"},{\"rank\":7,\"team\":{\"id\":45,\"name\":\"Everton\",\"logo\":\"https:\\/\\/media.api-sports.io\\/football\\/teams\\/45.png\"},\"points\":54,\"goalsDiff\":6,\"group\":\"Premier League\",\"form\":\"WLWDL\",\"status\":null,\"description\":null,\"all\":{\"played\":38,\"win\":13,\"draw\":15,\"lose\":10,\"goals\":{\"for\":51,\"against\":45}},\"home\":{\"played\":19,\"win\":9,\"draw\":7,\"lose\":3,\"goals\":{\"for\":31,\"against\":23}},\"away\":{\"played\":19,\"win\":4,\"draw\":8,\"lose\":7,\"goals\":{\"for\":20,\"against\":22}},\"update\":\"2018-02-15T00:00:00+00:00\"},{\"rank\":8,\"team\":{\"id\":36,\"name\":\"Fulham\",\"logo\":\"https:\\/\\/media.api-sports.io\\/football\\/teams\\/36.png\"},\"points\":49,\"goalsDiff\":6,\"group\":\"Premier League\",\"form\":\"DWLWW\",\"status\":null,\"description\":null,\"all\":{\"played\":38,\"win\":11,\"draw\":16,\"lose\":11,\"goals\":{\"for\":49,\"against\":43}},\"home\":{\"played\":19,\"win\":8,\"draw\":7,\"lose\":4,\"goals\":{\"for\":30,\"against\":23}},\"away\":{\"played\":19,\"win\":3,\"draw\":9,\"lose\":7,\"goals\":{\"for\":19,\"against\":20}},\"update\":\"2018-02-15T00:00:00+00:00\"},{\"rank\":9,\"team\":{\"id\":66,\"name\":\"Aston Villa\",\"logo\":\"https:\\/\\/media.api-sports.io\\/football\\/teams\\/66.png\"},\"points\":48,\"goalsDiff\":-11,\"group\":\"Premier League\",\"form\":\"WWDLD\",\"status\":null,\"description\":null,\"all\":{\"played\":38,\"win\":12,\"draw\":12,\"lose\":14,\"goals\":{\"for\":48,\"against\":59}},\"home\":{\"played\":19,\"win\":8,\"draw\":7,\"lose\":4,\"goals\":{\"for\":26,\"against\":19}},\"away\":{\"played\":19,\"win\":4,\"draw\":5,\"lose\":10,\"goals\":{\"for\":22,\"against\":40}},\"update\":\"2018-02-15T00:00:00+00:00\"},{\"rank\":10,\"team\":{\"id\":746,\"name\":\"Sunderland\",\"logo\":\"https:\\/\\/media.api-sports.io\\/football\\/teams\\/746.png\"},\"points\":47,\"goalsDiff\":-11,\"group\":\"Premier League\",\"form\":\"WLWLW\",\"status\":null,\"description\":null,\"all\":{\"played\":38,\"win\":12,\"draw\":11,\"lose\":15,\"goals\":{\"for\":45,\"against\":56}},\"home\":{\"played\":19,\"win\":7,\"draw\":5,\"lose\":7,\"goals\":{\"for\":25,\"against\":27}},\"away\":{\"played\":19,\"win\":5,\"draw\":6,\"lose\":8,\"goals\":{\"for\":20,\"against\":29}},\"update\":\"2018-02-15T00:00:00+00:00\"},{\"rank\":11,\"team\":{\"id\":60,\"name\":\"West Brom\",\"logo\":\"https:\\/\\/media.api-sports.io\\/football\\/teams\\/60.png\"},\"points\":47,\"goalsDiff\":-15,\"group\":\"Premier League\",\"form\":\"DWLWD\",\"status\":null,\"description\":null,\"all\":{\"played\":38,\"win\":12,\"draw\":11,\"lose\":15,\"goals\":{\"for\":56,\"against\":71}},\"home\":{\"played\":19,\"win\":8,\"draw\":6,\"lose\":5,\"goals\":{\"for\":30,\"against\":30}},\"away\":{\"played\":19,\"win\":4,\"draw\":5,\"lose\":10,\"goals\":{\"for\":26,\"against\":41}},\"update\":\"2018-02-15T00:00:00+00:00\"},{\"rank\":12,\"team\":{\"id\":34,\"name\":\"Newcastle\",\"logo\":\"https:\\/\\/media.api-sports.io\\/football\\/teams\\/34.png\"},\"points\":46,\"goalsDiff\":-1,\"group\":\"Premier League\",\"form\":\"DDWLD\",\"status\":null,\"description\":null,\"all\":{\"played\":38,\"win\":11,\"draw\":13,\"lose\":14,\"goals\":{\"for\":56,\"against\":57}},\"home\":{\"played\":19,\"win\":6,\"draw\":8,\"lose\":5,\"goals\":{\"for\":41,\"against\":27}},\"away\":{\"played\":19,\"win\":5,\"draw\":5,\"lose\":9,\"goals\":{\"for\":15,\"against\":30}},\"update\":\"2018-02-15T00:00:00+00:00\"},{\"rank\":13,\"team\":{\"id\":75,\"name\":\"Stoke City\",\"logo\":\"https:\\/\\/media.api-sports.io\\/football\\/teams\\/75.png\"},\"points\":46,\"goalsDiff\":-2,\"group\":\"Premier League\",\"form\":\"LLWDW\",\"status\":null,\"description\":null,\"all\":{\"played\":38,\"win\":13,\"draw\":7,\"lose\":18,\"goals\":{\"for\":46,\"against\":48}},\"home\":{\"played\":19,\"win\":10,\"draw\":4,\"lose\":5,\"goals\":{\"for\":31,\"against\":18}},\"away\":{\"played\":19,\"win\":3,\"draw\":3,\"lose\":13,\"goals\":{\"for\":15,\"against\":30}},\"update\":\"2018-02-15T00:00:00+00:00\"},{\"rank\":14,\"team\":{\"id\":68,\"name\":\"Bolton\",\"logo\":\"https:\\/\\/media.api-sports.io\\/football\\/teams\\/68.png\"},\"points\":46,\"goalsDiff\":-4,\"group\":\"Premier League\",\"form\":\"LLLLL\",\"status\":null,\"description\":null,\"all\":{\"played\":38,\"win\":12,\"draw\":10,\"lose\":16,\"goals\":{\"for\":52,\"against\":56}},\"home\":{\"played\":19,\"win\":10,\"draw\":5,\"lose\":4,\"goals\":{\"for\":34,\"against\":24}},\"away\":{\"played\":19,\"win\":2,\"draw\":5,\"lose\":12,\"goals\":{\"for\":18,\"against\":32}},\"update\":\"2018-02-15T00:00:00+00:00\"},{\"rank\":15,\"team\":{\"id\":67,\"name\":\"Blackburn\",\"logo\":\"https:\\/\\/media.api-sports.io\\/football\\/teams\\/67.png\"},\"points\":43,\"goalsDiff\":-13,\"group\":\"Premier League\",\"form\":\"WDDWL\",\"status\":null,\"description\":null,\"all\":{\"played\":38,\"win\":11,\"draw\":10,\"lose\":17,\"goals\":{\"for\":46,\"against\":59}},\"home\":{\"played\":19,\"win\":7,\"draw\":7,\"lose\":5,\"goals\":{\"for\":22,\"against\":16}},\"away\":{\"played\":19,\"win\":4,\"draw\":3,\"lose\":12,\"goals\":{\"for\":24,\"against\":43}},\"update\":\"2018-02-15T00:00:00+00:00\"},{\"rank\":16,\"team\":{\"id\":61,\"name\":\"Wigan\",\"logo\":\"https:\\/\\/media.api-sports.io\\/football\\/teams\\/61.png\"},\"points\":42,\"goalsDiff\":-21,\"group\":\"Premier League\",\"form\":\"WWDDL\",\"status\":null,\"description\":null,\"all\":{\"played\":38,\"win\":9,\"draw\":15,\"lose\":14,\"goals\":{\"for\":40,\"against\":61}},\"home\":{\"played\":19,\"win\":5,\"draw\":8,\"lose\":6,\"goals\":{\"for\":22,\"against\":34}},\"away\":{\"played\":19,\"win\":4,\"draw\":7,\"lose\":8,\"goals\":{\"for\":18,\"against\":27}},\"update\":\"2018-02-15T00:00:00+00:00\"},{\"rank\":17,\"team\":{\"id\":39,\"name\":\"Wolves\",\"logo\":\"https:\\/\\/media.api-sports.io\\/football\\/teams\\/39.png\"},\"points\":40,\"goalsDiff\":-20,\"group\":\"Premier League\",\"form\":\"LWWDL\",\"status\":null,\"description\":null,\"all\":{\"played\":38,\"win\":11,\"draw\":7,\"lose\":20,\"goals\":{\"for\":46,\"against\":66}},\"home\":{\"played\":19,\"win\":8,\"draw\":4,\"lose\":7,\"goals\":{\"for\":30,\"against\":30}},\"away\":{\"played\":19,\"win\":3,\"draw\":3,\"lose\":13,\"goals\":{\"for\":16,\"against\":36}},\"update\":\"2018-02-15T00:00:00+00:00\"},{\"rank\":18,\"team\":{\"id\":54,\"name\":\"Birmingham\",\"logo\":\"https:\\/\\/media.api-sports.io\\/football\\/teams\\/54.png\"},\"points\":39,\"goalsDiff\":-21,\"group\":\"Premier League\",\"form\":\"LLLDL\",\"status\":null,\"description\":\"Relegation\",\"all\":{\"played\":38,\"win\":8,\"draw\":15,\"lose\":15,\"goals\":{\"for\":37,\"against\":58}},\"home\":{\"played\":19,\"win\":6,\"draw\":8,\"lose\":5,\"goals\":{\"for\":19,\"against\":22}},\"away\":{\"played\":19,\"win\":2,\"draw\":7,\"lose\":10,\"goals\":{\"for\":18,\"against\":36}},\"update\":\"2018-02-15T00:00:00+00:00\"},{\"rank\":19,\"team\":{\"id\":1356,\"name\":\"Blackpool\",\"logo\":\"https:\\/\\/media.api-sports.io\\/football\\/teams\\/1356.png\"},\"points\":39,\"goalsDiff\":-23,\"group\":\"Premier League\",\"form\":\"LWDDD\",\"status\":null,\"description\":\"Relegation\",\"all\":{\"played\":38,\"win\":10,\"draw\":9,\"lose\":19,\"goals\":{\"for\":55,\"against\":78}},\"home\":{\"played\":19,\"win\":5,\"draw\":5,\"lose\":9,\"goals\":{\"for\":30,\"against\":37}},\"away\":{\"played\":19,\"win\":5,\"draw\":4,\"lose\":10,\"goals\":{\"for\":25,\"against\":41}},\"update\":\"2018-02-15T00:00:00+00:00\"},{\"rank\":20,\"team\":{\"id\":48,\"name\":\"West Ham\",\"logo\":\"https:\\/\\/media.api-sports.io\\/football\\/teams\\/48.png\"},\"points\":33,\"goalsDiff\":-27,\"group\":\"Premier League\",\"form\":\"LLDLL\",\"status\":null,\"description\":\"Relegation\",\"all\":{\"played\":38,\"win\":7,\"draw\":12,\"lose\":19,\"goals\":{\"for\":43,\"against\":70}},\"home\":{\"played\":19,\"win\":5,\"draw\":5,\"lose\":9,\"goals\":{\"for\":24,\"against\":31}},\"away\":{\"played\":19,\"win\":2,\"draw\":7,\"lose\":10,\"goals\":{\"for\":19,\"against\":39}},\"update\":\"2018-02-15T00:00:00+00:00\"}]]}}]}\n"
     ]
    }
   ],
   "source": [
    "#2010/2011\n",
    "url = \"https://api-football-v1.p.rapidapi.com/v3/standings\"\n",
    "\n",
    "querystring = {\"season\":\"2010\",\"league\":\"39\"}\n",
    "\n",
    "headers = {\n",
    "\t\"X-RapidAPI-Host\": \"api-football-v1.p.rapidapi.com\",\n",
    "\t\"X-RapidAPI-Key\": \"ecad4fe8femsh2bf7c9cd0fe9bedp159909jsn0f8655e543b0\"\n",
    "}\n",
    "\n",
    "resp11 = requests.request(\"GET\", url, headers=headers, params=querystring)\n",
    "\n",
    "print(resp11.text)"
   ]
  },
  {
   "cell_type": "code",
   "execution_count": 22,
   "metadata": {},
   "outputs": [
    {
     "data": {
      "text/html": [
       "<div>\n",
       "<style scoped>\n",
       "    .dataframe tbody tr th:only-of-type {\n",
       "        vertical-align: middle;\n",
       "    }\n",
       "\n",
       "    .dataframe tbody tr th {\n",
       "        vertical-align: top;\n",
       "    }\n",
       "\n",
       "    .dataframe thead th {\n",
       "        text-align: right;\n",
       "    }\n",
       "</style>\n",
       "<table border=\"1\" class=\"dataframe\">\n",
       "  <thead>\n",
       "    <tr style=\"text-align: right;\">\n",
       "      <th></th>\n",
       "      <th>rank</th>\n",
       "      <th>team</th>\n",
       "      <th>points</th>\n",
       "      <th>goalsDiff</th>\n",
       "      <th>group</th>\n",
       "      <th>form</th>\n",
       "      <th>status</th>\n",
       "      <th>description</th>\n",
       "      <th>all</th>\n",
       "      <th>home</th>\n",
       "      <th>away</th>\n",
       "      <th>update</th>\n",
       "    </tr>\n",
       "  </thead>\n",
       "  <tbody>\n",
       "    <tr>\n",
       "      <th>0</th>\n",
       "      <td>1</td>\n",
       "      <td>{'id': 33, 'name': 'Manchester United', 'logo'...</td>\n",
       "      <td>80</td>\n",
       "      <td>41</td>\n",
       "      <td>Premier League</td>\n",
       "      <td>WDWLW</td>\n",
       "      <td>None</td>\n",
       "      <td>UEFA Champions League</td>\n",
       "      <td>{'played': 38, 'win': 23, 'draw': 11, 'lose': ...</td>\n",
       "      <td>{'played': 19, 'win': 18, 'draw': 1, 'lose': 0...</td>\n",
       "      <td>{'played': 19, 'win': 5, 'draw': 10, 'lose': 4...</td>\n",
       "      <td>2018-02-15T00:00:00+00:00</td>\n",
       "    </tr>\n",
       "  </tbody>\n",
       "</table>\n",
       "</div>"
      ],
      "text/plain": [
       "   rank                                               team  points  goalsDiff  \\\n",
       "0     1  {'id': 33, 'name': 'Manchester United', 'logo'...      80         41   \n",
       "\n",
       "            group   form status            description  \\\n",
       "0  Premier League  WDWLW   None  UEFA Champions League   \n",
       "\n",
       "                                                 all  \\\n",
       "0  {'played': 38, 'win': 23, 'draw': 11, 'lose': ...   \n",
       "\n",
       "                                                home  \\\n",
       "0  {'played': 19, 'win': 18, 'draw': 1, 'lose': 0...   \n",
       "\n",
       "                                                away  \\\n",
       "0  {'played': 19, 'win': 5, 'draw': 10, 'lose': 4...   \n",
       "\n",
       "                      update  \n",
       "0  2018-02-15T00:00:00+00:00  "
      ]
     },
     "execution_count": 22,
     "metadata": {},
     "output_type": "execute_result"
    }
   ],
   "source": [
    "#2010/2011\n",
    "data11 = resp11.json()\n",
    "df2010 = pd.DataFrame(data11['response'][0]['league']['standings'][0])\n",
    "team2010 = df2010.iloc[0:1,:]\n",
    "team2010"
   ]
  },
  {
   "cell_type": "code",
   "execution_count": 23,
   "metadata": {},
   "outputs": [
    {
     "name": "stdout",
     "output_type": "stream",
     "text": [
      "{\"get\":\"standings\",\"parameters\":{\"league\":\"39\",\"season\":\"2009\"},\"errors\":[],\"results\":0,\"paging\":{\"current\":1,\"total\":1},\"response\":[]}\n"
     ]
    }
   ],
   "source": [
    "#2009/2010 - no data collected \n",
    "url = \"https://api-football-v1.p.rapidapi.com/v3/standings\"\n",
    "\n",
    "querystring = {\"season\":\"2009\",\"league\":\"39\"}\n",
    "\n",
    "headers = {\n",
    "\t\"X-RapidAPI-Host\": \"api-football-v1.p.rapidapi.com\",\n",
    "\t\"X-RapidAPI-Key\": \"ecad4fe8femsh2bf7c9cd0fe9bedp159909jsn0f8655e543b0\"\n",
    "}\n",
    "\n",
    "resp = requests.request(\"GET\", url, headers=headers, params=querystring)\n",
    "\n",
    "print(resp.text)"
   ]
  },
  {
   "cell_type": "code",
   "execution_count": 43,
   "metadata": {},
   "outputs": [
    {
     "data": {
      "text/html": [
       "<div>\n",
       "<style scoped>\n",
       "    .dataframe tbody tr th:only-of-type {\n",
       "        vertical-align: middle;\n",
       "    }\n",
       "\n",
       "    .dataframe tbody tr th {\n",
       "        vertical-align: top;\n",
       "    }\n",
       "\n",
       "    .dataframe thead th {\n",
       "        text-align: right;\n",
       "    }\n",
       "</style>\n",
       "<table border=\"1\" class=\"dataframe\">\n",
       "  <thead>\n",
       "    <tr style=\"text-align: right;\">\n",
       "      <th></th>\n",
       "      <th>Year</th>\n",
       "      <th>rank</th>\n",
       "      <th>team</th>\n",
       "    </tr>\n",
       "  </thead>\n",
       "  <tbody>\n",
       "    <tr>\n",
       "      <th>1</th>\n",
       "      <td>2021</td>\n",
       "      <td>1</td>\n",
       "      <td>{'id': 50, 'name': 'Manchester City', 'logo': ...</td>\n",
       "    </tr>\n",
       "    <tr>\n",
       "      <th>1</th>\n",
       "      <td>2020</td>\n",
       "      <td>2</td>\n",
       "      <td>{'id': 50, 'name': 'Manchester City', 'logo': ...</td>\n",
       "    </tr>\n",
       "    <tr>\n",
       "      <th>1</th>\n",
       "      <td>2019</td>\n",
       "      <td>2</td>\n",
       "      <td>{'id': 40, 'name': 'Liverpool', 'logo': 'https...</td>\n",
       "    </tr>\n",
       "    <tr>\n",
       "      <th>3</th>\n",
       "      <td>2018</td>\n",
       "      <td>4</td>\n",
       "      <td>{'id': 40, 'name': 'Liverpool', 'logo': 'https...</td>\n",
       "    </tr>\n",
       "    <tr>\n",
       "      <th>0</th>\n",
       "      <td>2017</td>\n",
       "      <td>1</td>\n",
       "      <td>{'id': 49, 'name': 'Chelsea', 'logo': 'https:/...</td>\n",
       "    </tr>\n",
       "    <tr>\n",
       "      <th>0</th>\n",
       "      <td>2016</td>\n",
       "      <td>1</td>\n",
       "      <td>{'id': 46, 'name': 'Leicester', 'logo': 'https...</td>\n",
       "    </tr>\n",
       "    <tr>\n",
       "      <th>0</th>\n",
       "      <td>2015</td>\n",
       "      <td>1</td>\n",
       "      <td>{'id': 49, 'name': 'Chelsea', 'logo': 'https:/...</td>\n",
       "    </tr>\n",
       "    <tr>\n",
       "      <th>1</th>\n",
       "      <td>2014</td>\n",
       "      <td>2</td>\n",
       "      <td>{'id': 40, 'name': 'Liverpool', 'logo': 'https...</td>\n",
       "    </tr>\n",
       "    <tr>\n",
       "      <th>4</th>\n",
       "      <td>2013</td>\n",
       "      <td>5</td>\n",
       "      <td>{'id': 47, 'name': 'Tottenham', 'logo': 'https...</td>\n",
       "    </tr>\n",
       "    <tr>\n",
       "      <th>0</th>\n",
       "      <td>2012</td>\n",
       "      <td>1</td>\n",
       "      <td>{'id': 50, 'name': 'Manchester City', 'logo': ...</td>\n",
       "    </tr>\n",
       "  </tbody>\n",
       "</table>\n",
       "</div>"
      ],
      "text/plain": [
       "   Year  rank                                               team\n",
       "1  2021     1  {'id': 50, 'name': 'Manchester City', 'logo': ...\n",
       "1  2020     2  {'id': 50, 'name': 'Manchester City', 'logo': ...\n",
       "1  2019     2  {'id': 40, 'name': 'Liverpool', 'logo': 'https...\n",
       "3  2018     4  {'id': 40, 'name': 'Liverpool', 'logo': 'https...\n",
       "0  2017     1  {'id': 49, 'name': 'Chelsea', 'logo': 'https:/...\n",
       "0  2016     1  {'id': 46, 'name': 'Leicester', 'logo': 'https...\n",
       "0  2015     1  {'id': 49, 'name': 'Chelsea', 'logo': 'https:/...\n",
       "1  2014     2  {'id': 40, 'name': 'Liverpool', 'logo': 'https...\n",
       "4  2013     5  {'id': 47, 'name': 'Tottenham', 'logo': 'https...\n",
       "0  2012     1  {'id': 50, 'name': 'Manchester City', 'logo': ..."
      ]
     },
     "execution_count": 43,
     "metadata": {},
     "output_type": "execute_result"
    }
   ],
   "source": [
    "#fullstandings from the previous years into one data frame\n",
    "fulldata = [team2020, team2019, team2018, team2017, team2016, team2015, team2014, team2013, team2012, team2011]\n",
    "fulldataframe = pd.concat(fulldata)\n",
    "year =['2021', '2020', '2019', '2018', '2017', '2016', '2015', '2014', '2013', '2012']\n",
    "fulldataframe.insert(0, \"Year\", [2021, 2020, 2019, 2018, 2017, 2016, 2015, 2014, 2013, 2012], True)\n",
    "fulldataframe.to_csv(r'Desktop/CSVFILEFOOT/CorrectFullDataStandings.csv')\n",
    "fulldataframes = fulldataframe.iloc[:,0:3]\n",
    "fulldataframes"
   ]
  },
  {
   "cell_type": "code",
   "execution_count": null,
   "metadata": {},
   "outputs": [],
   "source": []
  },
  {
   "cell_type": "code",
   "execution_count": null,
   "metadata": {},
   "outputs": [],
   "source": []
  },
  {
   "cell_type": "code",
   "execution_count": null,
   "metadata": {},
   "outputs": [],
   "source": []
  },
  {
   "cell_type": "code",
   "execution_count": null,
   "metadata": {},
   "outputs": [],
   "source": []
  },
  {
   "cell_type": "code",
   "execution_count": null,
   "metadata": {},
   "outputs": [],
   "source": []
  }
 ],
 "metadata": {
  "kernelspec": {
   "display_name": "Python 3",
   "language": "python",
   "name": "python3"
  },
  "language_info": {
   "codemirror_mode": {
    "name": "ipython",
    "version": 3
   },
   "file_extension": ".py",
   "mimetype": "text/x-python",
   "name": "python",
   "nbconvert_exporter": "python",
   "pygments_lexer": "ipython3",
   "version": "3.7.6"
  }
 },
 "nbformat": 4,
 "nbformat_minor": 4
}
